{
 "cells": [
  {
   "cell_type": "code",
   "execution_count": 1,
   "id": "5caaf1cc",
   "metadata": {},
   "outputs": [],
   "source": [
    "import torch, pickle, argparse\n",
    "import numpy as np, pytorch_lightning as pl, matplotlib.pyplot as plt, eagerpy as ep\n",
    "from old_S2CNN_model import S2ConvNet\n",
    "from data_loader import load_train_data, load_test_data\n",
    "from foolbox import PyTorchModel, accuracy, samples\n",
    "from attacks import RandomLInfStep\n",
    "from tqdm.notebook import tqdm"
   ]
  },
  {
   "cell_type": "code",
   "execution_count": 2,
   "id": "f8b825d5",
   "metadata": {},
   "outputs": [],
   "source": [
    "filename = 'S2CNN_first_tests_smaller_training_sets.pickle'\n",
    "\n",
    "with open(filename, 'rb') as file:\n",
    "    loaded = pickle.load(file)\n",
    "    \n",
    "data = np.array(loaded)\n",
    "hparams = argparse.Namespace(**data[1][1][1])"
   ]
  },
  {
   "cell_type": "code",
   "execution_count": 3,
   "id": "75c85855",
   "metadata": {},
   "outputs": [],
   "source": [
    "TEST_PATH = \"s2_mnist.gz\"\n",
    "TRAIN_PATH = \"s2_mnist_train_dwr_10000.gz\"\n",
    "\n",
    "train_data = load_train_data(TRAIN_PATH)\n",
    "test_data = load_test_data(TEST_PATH)"
   ]
  },
  {
   "cell_type": "code",
   "execution_count": 4,
   "id": "9a1ff4a5",
   "metadata": {},
   "outputs": [
    {
     "name": "stderr",
     "output_type": "stream",
     "text": [
      "GPU available: True, used: True\n",
      "TPU available: False, using: 0 TPU cores\n",
      "CUDA_VISIBLE_DEVICES: [0]\n"
     ]
    },
    {
     "data": {
      "text/plain": [
       "<All keys matched successfully>"
      ]
     },
     "execution_count": 4,
     "metadata": {},
     "output_type": "execute_result"
    }
   ],
   "source": [
    "model = S2ConvNet(hparams, train_data, test_data).eval()\n",
    "trainer = pl.Trainer(gpus=1, logger=False)\n",
    "best_model = torch.load('checkpoints/epoch=17_v14.ckpt')\n",
    "model.load_state_dict(best_model['state_dict'])"
   ]
  },
  {
   "cell_type": "code",
   "execution_count": 5,
   "id": "39db95c8",
   "metadata": {},
   "outputs": [],
   "source": [
    "fmodel = PyTorchModel(model, bounds=(0, 255))\n",
    "\n",
    "images = test_data[:][0].cuda()\n",
    "labels = test_data[:][1].cuda()\n",
    "images = ep.astensor(images)\n",
    "labels = ep.astensor(labels)"
   ]
  },
  {
   "cell_type": "code",
   "execution_count": 6,
   "id": "6d86971e",
   "metadata": {},
   "outputs": [],
   "source": [
    "attack = RandomLInfStep()\n",
    "epsilons = [0.1, 0.5, 1, 5, 10, 20, 30, 50, 80, 100]"
   ]
  },
  {
   "cell_type": "code",
   "execution_count": 7,
   "id": "4da6c5b1",
   "metadata": {},
   "outputs": [
    {
     "data": {
      "application/vnd.jupyter.widget-view+json": {
       "model_id": "b8a950fbed2a4a73a1287ff553d889b1",
       "version_major": 2,
       "version_minor": 0
      },
      "text/plain": [
       "  0%|          | 0/400 [00:00<?, ?it/s]"
      ]
     },
     "metadata": {},
     "output_type": "display_data"
    },
    {
     "name": "stdout",
     "output_type": "stream",
     "text": [
      "load 0.pkl.gz... done\n",
      "load 2.pkl.gz... done\n",
      "load 1.pkl.gz... done\n",
      "load 2.pkl.gz... done\n",
      "load 8.pkl.gz... done\n",
      "load 3.pkl.gz... done\n",
      "load 4.pkl.gz... done\n",
      "load 9.pkl.gz... done\n",
      "load 14.pkl.gz... done\n",
      "load 10.pkl.gz... done\n",
      "load 15.pkl.gz... done\n",
      "load 16.pkl.gz... done\n",
      "load 11.pkl.gz... done\n",
      "load 17.pkl.gz... done\n",
      "load 12.pkl.gz... done\n",
      "load 18.pkl.gz... done\n",
      "load 19.pkl.gz... done\n",
      "load 13.pkl.gz... done\n",
      "load 20.pkl.gz... done\n"
     ]
    }
   ],
   "source": [
    "bs = 25\n",
    "with tqdm(total=10000//bs) as pbar:\n",
    "    raw_advs, clipped_advs, success = attack(fmodel, images[:bs], labels[:bs], epsilons=epsilons)\n",
    "    pbar.update(1)\n",
    "\n",
    "    for i in range(1,10000//bs):\n",
    "        dummy_raw_advs, dummy_clipped_advs, dummy_success = attack(fmodel, images[bs*i:bs*(i+1)], labels[bs*i:bs*(i+1)], epsilons=epsilons)\n",
    "\n",
    "        for j in range(10):\n",
    "            raw_advs[j] = ep.concatenate((raw_advs[j], dummy_raw_advs[j]), axis=0)\n",
    "            clipped_advs[j] = ep.concatenate((clipped_advs[j], dummy_clipped_advs[j]), axis=0)\n",
    "        success = ep.concatenate((success, dummy_success), axis=1)\n",
    "        pbar.update(1)"
   ]
  },
  {
   "cell_type": "code",
   "execution_count": 8,
   "id": "b2c258ce",
   "metadata": {},
   "outputs": [
    {
     "data": {
      "application/vnd.jupyter.widget-view+json": {
       "model_id": "002e072a9aec482f8e6d60dd9d99d348",
       "version_major": 2,
       "version_minor": 0
      },
      "text/plain": [
       "  0%|          | 0/400 [00:00<?, ?it/s]"
      ]
     },
     "metadata": {},
     "output_type": "display_data"
    }
   ],
   "source": [
    "clean_accuracy = []\n",
    "for i in tqdm(range(10000//bs)):\n",
    "    clean_accuracy.append(accuracy(fmodel, images[bs*i:bs*(i+1)], labels[bs*i:bs*(i+1)]))\n",
    "\n",
    "clean_accuracy = np.mean(clean_accuracy)"
   ]
  },
  {
   "cell_type": "code",
   "execution_count": 9,
   "id": "0e95d8b8",
   "metadata": {},
   "outputs": [
    {
     "name": "stdout",
     "output_type": "stream",
     "text": [
      "robust accuracy for perturbations with\n",
      "  Linf norm ≤ 0.1   : 97.8 %\n",
      "  Linf norm ≤ 0.5   : 97.9 %\n",
      "  Linf norm ≤ 1     : 97.7 %\n",
      "  Linf norm ≤ 5     : 96.6 %\n",
      "  Linf norm ≤ 10    : 89.9 %\n",
      "  Linf norm ≤ 20    : 61.0 %\n",
      "  Linf norm ≤ 30    : 48.6 %\n",
      "  Linf norm ≤ 50    : 29.9 %\n",
      "  Linf norm ≤ 80    : 10.3 %\n",
      "  Linf norm ≤ 100   : 10.1 %\n"
     ]
    }
   ],
   "source": [
    "success_rate = success.float32().mean(axis=-1)\n",
    "\n",
    "robust_accuracy = 1 - success_rate\n",
    "print(\"robust accuracy for perturbations with\")\n",
    "for eps, acc in zip(epsilons, robust_accuracy):\n",
    "    print(f\"  Linf norm ≤ {eps:<6}: {acc.item() * 100:4.1f} %\")"
   ]
  },
  {
   "cell_type": "code",
   "execution_count": 10,
   "id": "afe53d89",
   "metadata": {},
   "outputs": [
    {
     "data": {
      "image/png": "[encoded data removed]",
      "text/plain": [
       "<Figure size 1500x500 with 2 Axes>"
      ]
     },
     "metadata": {},
     "output_type": "display_data"
    }
   ],
   "source": [
    "fontsize = 13\n",
    "\n",
    "fig, axs = plt.subplots(nrows=1, ncols=2, figsize = (15, 5), gridspec_kw = {'wspace':0., 'hspace':0.})\n",
    "fig.suptitle('Random Step', fontsize=22)\n",
    "plt.subplots_adjust(top=0.89)\n",
    "axs[0].plot(epsilons, success_rate.raw.cpu(), 'og')\n",
    "axs[0].set_ylabel('success rate', fontsize=fontsize)\n",
    "axs[0].axhline(y=0.9, color='c')\n",
    "axs[1].plot(epsilons, robust_accuracy.raw.cpu(), 'or')\n",
    "# axs[1].plot(epsilons, post_acc, 'ob')\n",
    "axs[1].axhline(y=clean_accuracy, color='m', label='clean accuracy')\n",
    "axs[1].yaxis.set_label_position(\"right\")\n",
    "axs[1].yaxis.tick_right()\n",
    "axs[1].set_ylabel('accuracy', fontsize=fontsize)\n",
    "axs[1].axhline(y=0.1, color='c', label='random guessing')\n",
    "for j in range(2):\n",
    "    axs[j].set_xlabel(r'$\\epsilon$', fontsize=fontsize)\n",
    "    axs[j].set_ylim([-0.02,1.02])\n",
    "    axs[j].grid(alpha=0.5)\n",
    "\n",
    "axs[1].legend(fontsize=fontsize)\n",
    "\n",
    "plt.show()"
   ]
  }
 ],
 "metadata": {
  "kernelspec": {
   "display_name": "Python 3 (ipykernel)",
   "language": "python",
   "name": "python3"
  },
  "language_info": {
   "codemirror_mode": {
    "name": "ipython",
    "version": 3
   },
   "file_extension": ".py",
   "mimetype": "text/x-python",
   "name": "python",
   "nbconvert_exporter": "python",
   "pygments_lexer": "ipython3",
   "version": "3.7.13"
  }
 },
 "nbformat": 4,
 "nbformat_minor": 5
}
