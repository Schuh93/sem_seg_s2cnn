{
 "cells": [
  {
   "cell_type": "code",
   "execution_count": 1,
   "id": "d447e5b6",
   "metadata": {},
   "outputs": [],
   "source": [
    "import torch, argparse, gzip, os, warnings, copy, time, mlflow\n",
    "import numpy as np, pytorch_lightning as pl\n",
    "from tqdm.notebook import tqdm\n",
    "from pytorch_lightning.loggers import MLFlowLogger\n",
    "from mlflow.tracking.artifact_utils import get_artifact_uri, _get_root_uri_and_artifact_path\n",
    "from data_loader import load_train_data, load_test_data\n",
    "from models import ConvNet\n",
    "from mlflow_helper import init_mlf_logger\n",
    "# from mlflow_helper import create_artifact_dir\n",
    "\n",
    "# warnings.filterwarnings('ignore')"
   ]
  },
  {
   "cell_type": "code",
   "execution_count": 2,
   "id": "c19b4c65",
   "metadata": {},
   "outputs": [],
   "source": [
    "TRAIN_SAMPLES = 10000\n",
    "TRAIN_ROT = True\n",
    "TEST_ROT = True\n",
    "\n",
    "# MAX_EPOCHS = 20\n",
    "MAX_EPOCHS = 3"
   ]
  },
  {
   "cell_type": "code",
   "execution_count": 3,
   "id": "03b55dad",
   "metadata": {},
   "outputs": [
    {
     "name": "stdout",
     "output_type": "stream",
     "text": [
      "GPU available: NVIDIA GeForce RTX 2070 SUPER\n"
     ]
    }
   ],
   "source": [
    "if TRAIN_ROT:\n",
    "    TRAIN_PATH = \"s2_mnist_train_dwr_\" + str(TRAIN_SAMPLES) + \".gz\"\n",
    "else:\n",
    "    raise NotImplementedError('A non-rotated training set does not exist yet.')\n",
    "    \n",
    "if TEST_ROT:\n",
    "    TEST_PATH = \"s2_mnist_cs1.gz\"\n",
    "else:\n",
    "    raise NotImplementedError('A non-rotated test set does not exist yet.')\n",
    "\n",
    "if torch.cuda.is_available():\n",
    "    print('GPU available: ' + torch.cuda.get_device_name())\n",
    "else:\n",
    "    raise RuntimeError('No GPU found.')"
   ]
  },
  {
   "cell_type": "code",
   "execution_count": 4,
   "id": "d484312f",
   "metadata": {},
   "outputs": [
    {
     "name": "stdout",
     "output_type": "stream",
     "text": [
      "Total training examples: 10000\n",
      "Total test examples: 10000\n"
     ]
    }
   ],
   "source": [
    "train_data, test_data = load_train_data(TRAIN_PATH), load_test_data(TEST_PATH)\n",
    "\n",
    "print(\"Total training examples: {}\".format(len(train_data)))\n",
    "print(\"Total test examples: {}\".format(len(test_data)))\n",
    "\n",
    "hparams = argparse.Namespace()\n",
    "\n",
    "hparams.name = 'test_model'\n",
    "hparams.train_batch_size = 32\n",
    "hparams.test_batch_size = 32\n",
    "hparams.num_workers = 0\n",
    "hparams.lr = 1e-3\n",
    "hparams.weight_decay = 0.\n",
    "\n",
    "hparams.channels = [13, 15, 22, 31, 141]\n",
    "hparams.kernels = [5, 3, 9, 7, 3]\n",
    "hparams.strides = [1, 1, 1, 1, 2]\n",
    "hparams.activation_fn = 'ReLU'\n",
    "hparams.batch_norm = True\n",
    "hparams.nodes = [64, 32]"
   ]
  },
  {
   "cell_type": "code",
   "execution_count": 5,
   "id": "44ff0863",
   "metadata": {},
   "outputs": [
    {
     "name": "stdout",
     "output_type": "stream",
     "text": [
      "run ID directory created\n",
      "artifact directory created\n"
     ]
    }
   ],
   "source": [
    "tracking_uri='sqlite:///mlruns/database.db'\n",
    "\n",
    "\"\"\"mlf_logger = MLFlowLogger(experiment_name='test_log', tracking_uri=tracking_uri)\n",
    "\n",
    "artifact_path = get_artifact_uri(run_id=mlf_logger.run_id, tracking_uri=tracking_uri)\n",
    "\n",
    "create_artifact_dir(artifact_path, mlf_logger)\"\"\"\n",
    "\n",
    "tag_dict = {\"mlflow.runName\": round(time.time()),\n",
    "           \"mlflow.user\": \"dschuh\"}\n",
    "\n",
    "mlf_logger, artifact_path = init_mlf_logger(experiment_name='test_log', tracking_uri=tracking_uri, tags=tag_dict, verbose=True)\n",
    "\n",
    "# mlf_logger.experiment.set_tag(run_id=mlf_logger.run_id, key=\"mlflow.runName\", value=round(time.time()))\n",
    "# mlf_logger.experiment.set_tag(run_id=mlf_logger.run_id, key=\"mlflow.user\", value=\"dschuh\")\n",
    "\n"
   ]
  },
  {
   "cell_type": "code",
   "execution_count": 6,
   "id": "e15b5626",
   "metadata": {
    "scrolled": false
   },
   "outputs": [
    {
     "name": "stdout",
     "output_type": "stream",
     "text": [
      "Number of trainable / total parameters: (113761, 113761)\n"
     ]
    },
    {
     "name": "stderr",
     "output_type": "stream",
     "text": [
      "GPU available: True, used: True\n",
      "TPU available: False, using: 0 TPU cores\n",
      "CUDA_VISIBLE_DEVICES: [0]\n",
      "\n",
      "  | Name          | Type             | Params\n",
      "---------------------------------------------------\n",
      "0 | loss_function | CrossEntropyLoss | 0     \n",
      "1 | conv          | Sequential       | 101 K \n",
      "2 | dense         | Sequential       | 11 K  \n",
      "/media/data/schuh/conda_envs/envs/s2cnn_j/lib/python3.7/site-packages/pytorch_lightning/utilities/distributed.py:25: UserWarning: The dataloader, val dataloader 0, does not have many workers which may be a bottleneck. Consider increasing the value of the `num_workers` argument` (try 12 which is the number of cpus on this machine) in the `DataLoader` init to improve performance.\n",
      "  warnings.warn(*args, **kwargs)\n"
     ]
    },
    {
     "data": {
      "application/vnd.jupyter.widget-view+json": {
       "model_id": "",
       "version_major": 2,
       "version_minor": 0
      },
      "text/plain": [
       "Validation sanity check: 0it [00:00, ?it/s]"
      ]
     },
     "metadata": {},
     "output_type": "display_data"
    },
    {
     "name": "stderr",
     "output_type": "stream",
     "text": [
      "/media/data/schuh/conda_envs/envs/s2cnn_j/lib/python3.7/site-packages/pytorch_lightning/utilities/distributed.py:25: UserWarning: The dataloader, train dataloader, does not have many workers which may be a bottleneck. Consider increasing the value of the `num_workers` argument` (try 12 which is the number of cpus on this machine) in the `DataLoader` init to improve performance.\n",
      "  warnings.warn(*args, **kwargs)\n"
     ]
    },
    {
     "data": {
      "application/vnd.jupyter.widget-view+json": {
       "model_id": "b9e1aeeef89948f7b1d648f444e3e96f",
       "version_major": 2,
       "version_minor": 0
      },
      "text/plain": [
       "Training: 0it [00:00, ?it/s]"
      ]
     },
     "metadata": {},
     "output_type": "display_data"
    },
    {
     "data": {
      "application/vnd.jupyter.widget-view+json": {
       "model_id": "",
       "version_major": 2,
       "version_minor": 0
      },
      "text/plain": [
       "Validating: 0it [00:00, ?it/s]"
      ]
     },
     "metadata": {},
     "output_type": "display_data"
    },
    {
     "data": {
      "application/vnd.jupyter.widget-view+json": {
       "model_id": "",
       "version_major": 2,
       "version_minor": 0
      },
      "text/plain": [
       "Validating: 0it [00:00, ?it/s]"
      ]
     },
     "metadata": {},
     "output_type": "display_data"
    },
    {
     "data": {
      "application/vnd.jupyter.widget-view+json": {
       "model_id": "",
       "version_major": 2,
       "version_minor": 0
      },
      "text/plain": [
       "Validating: 0it [00:00, ?it/s]"
      ]
     },
     "metadata": {},
     "output_type": "display_data"
    },
    {
     "data": {
      "application/vnd.jupyter.widget-view+json": {
       "model_id": "",
       "version_major": 2,
       "version_minor": 0
      },
      "text/plain": [
       "Validating: 0it [00:00, ?it/s]"
      ]
     },
     "metadata": {},
     "output_type": "display_data"
    },
    {
     "data": {
      "application/vnd.jupyter.widget-view+json": {
       "model_id": "",
       "version_major": 2,
       "version_minor": 0
      },
      "text/plain": [
       "Validating: 0it [00:00, ?it/s]"
      ]
     },
     "metadata": {},
     "output_type": "display_data"
    },
    {
     "data": {
      "application/vnd.jupyter.widget-view+json": {
       "model_id": "",
       "version_major": 2,
       "version_minor": 0
      },
      "text/plain": [
       "Validating: 0it [00:00, ?it/s]"
      ]
     },
     "metadata": {},
     "output_type": "display_data"
    },
    {
     "name": "stderr",
     "output_type": "stream",
     "text": [
      "/media/data/schuh/conda_envs/envs/s2cnn_j/lib/python3.7/site-packages/pytorch_lightning/utilities/distributed.py:25: UserWarning: The dataloader, test dataloader 0, does not have many workers which may be a bottleneck. Consider increasing the value of the `num_workers` argument` (try 12 which is the number of cpus on this machine) in the `DataLoader` init to improve performance.\n",
      "  warnings.warn(*args, **kwargs)\n"
     ]
    },
    {
     "data": {
      "application/vnd.jupyter.widget-view+json": {
       "model_id": "6c46004d9b1a4ac7b8a22aa1293d7a62",
       "version_major": 2,
       "version_minor": 0
      },
      "text/plain": [
       "Testing: 0it [00:00, ?it/s]"
      ]
     },
     "metadata": {},
     "output_type": "display_data"
    },
    {
     "name": "stdout",
     "output_type": "stream",
     "text": [
      "--------------------------------------------------------------------------------\n",
      "TEST RESULTS\n",
      "{'test_acc': tensor(0.5268), 'test_loss': 1.3439254760742188}\n",
      "--------------------------------------------------------------------------------\n"
     ]
    },
    {
     "data": {
      "text/plain": [
       "{'test_loss': 1.3439254760742188, 'test_acc': 0.5267999768257141}"
      ]
     },
     "execution_count": 6,
     "metadata": {},
     "output_type": "execute_result"
    }
   ],
   "source": [
    "model = ConvNet(hparams, train_data, test_data)\n",
    "mlf_logger.experiment.set_tag(run_id=mlf_logger.run_id, key=\"model\", value=model.__class__.__name__)\n",
    "\n",
    "print(f\"Number of trainable / total parameters: {model.count_trainable_parameters(), model.count_parameters()}\")\n",
    "\n",
    "monitor = 'val_acc'\n",
    "mode = 'max'\n",
    "early_stopping = pl.callbacks.EarlyStopping(monitor=monitor, min_delta=0., patience=10, mode=mode)\n",
    "checkpoint = pl.callbacks.model_checkpoint.ModelCheckpoint(filepath=artifact_path, monitor=monitor, mode=mode)\n",
    "\n",
    "\"\"\"mlf_logger.experiment.log_param(run_id=mlf_logger.run_id, key='es_min_delta', value=early_stopping.min_delta)\n",
    "mlf_logger.experiment.log_param(run_id=mlf_logger.run_id, key='es_mode', value=early_stopping.mode)\n",
    "mlf_logger.experiment.log_param(run_id=mlf_logger.run_id, key='es_monitor', value=early_stopping.monitor)\n",
    "mlf_logger.experiment.log_param(run_id=mlf_logger.run_id, key='es_patience', value=early_stopping.patience)\n",
    "mlf_logger.experiment.log_param(run_id=mlf_logger.run_id, key='max_epochs', value=MAX_EPOCHS)\n",
    "mlf_logger.experiment.log_param(run_id=mlf_logger.run_id, key='train_samples', value=len(train_data))\n",
    "mlf_logger.experiment.log_param(run_id=mlf_logger.run_id, key='train_rot', value=TRAIN_ROT)\n",
    "mlf_logger.experiment.log_param(run_id=mlf_logger.run_id, key='test_rot', value=TEST_ROT)\"\"\"\n",
    "\n",
    "log_dict = {'es_min_delta': early_stopping.min_delta,\n",
    "           'es_mode': early_stopping.mode,\n",
    "           'es_monitor': early_stopping.monitor,\n",
    "           'es_patience': early_stopping.patience,\n",
    "           'max_epochs': MAX_EPOCHS,\n",
    "           'train_samples': len(train_data),\n",
    "           'train_rot': TRAIN_ROT,\n",
    "           'test_rot': TEST_ROT}\n",
    "\n",
    "mlf_logger.log_hyperparams(log_dict)\n",
    "\n",
    "trainer = pl.Trainer(gpus=1, max_epochs=MAX_EPOCHS, logger=mlf_logger, early_stop_callback=early_stopping, checkpoint_callback=checkpoint)\n",
    "\n",
    "trainer.fit(model)\n",
    "\n",
    "mlf_logger.experiment.log_param(run_id=mlf_logger.run_id, key='es_stopped_epoch', value=early_stopping.stopped_epoch)\n",
    "\n",
    "best_model = torch.load(checkpoint.best_model_path)\n",
    "model.load_state_dict(best_model['state_dict'])\n",
    "model.eval()\n",
    "test_results = trainer.test(model)"
   ]
  },
  {
   "cell_type": "code",
   "execution_count": null,
   "id": "04c1b84a",
   "metadata": {},
   "outputs": [],
   "source": [
    "filename = 'test_results.pickle'\n",
    "\n",
    "if os.path.isfile(os.path.join(artifact_path, filename)):\n",
    "    filename = str(time.time()) + filename\n",
    "    print('File already existed, timestamp was prepended to filename.')\n",
    "    \n",
    "with open(os.path.join(artifact_path, filename), 'wb') as file:\n",
    "    pickle.dump(test_results, file)"
   ]
  },
  {
   "cell_type": "code",
   "execution_count": 7,
   "id": "a2464149",
   "metadata": {},
   "outputs": [
    {
     "name": "stdout",
     "output_type": "stream",
     "text": [
      "./mlruns/1/edf4e4794c7741d5b54f1c1634965882/artifacts\n",
      "('./mlruns/1/edf4e4794c7741d5b54f1c1634965882', 'artifacts')\n",
      "sqlite:///mlruns/database.db\n",
      "1\n",
      "edf4e4794c7741d5b54f1c1634965882\n",
      "[<Experiment: artifact_location='./mlruns/1', creation_time=1667566610574, experiment_id='1', last_update_time=1667566610574, lifecycle_stage='active', name='test_log', tags={}>]\n"
     ]
    },
    {
     "name": "stderr",
     "output_type": "stream",
     "text": [
      "/media/data/schuh/conda_envs/envs/s2cnn_j/lib/python3.7/site-packages/ipykernel_launcher.py:6: FutureWarning: ``mlflow.tracking.client.MlflowClient.list_experiments`` is deprecated. This method will be removed in a future release. Use ``search_experiments()`` instead.\n",
      "  \n"
     ]
    }
   ],
   "source": [
    "print(artifact_path)\n",
    "print(_get_root_uri_and_artifact_path(artifact_path))\n",
    "print(mlf_logger.experiment.tracking_uri)\n",
    "print(mlf_logger.name)\n",
    "print(mlf_logger.run_id)\n",
    "print(mlf_logger.experiment.list_experiments())"
   ]
  },
  {
   "cell_type": "code",
   "execution_count": 8,
   "id": "d7895a14",
   "metadata": {},
   "outputs": [],
   "source": [
    "import matplotlib.pyplot as plt"
   ]
  },
  {
   "cell_type": "code",
   "execution_count": 9,
   "id": "4cd043df",
   "metadata": {},
   "outputs": [
    {
     "data": {
      "image/png": "[encoded data removed]",
      "text/plain": [
       "<Figure size 640x480 with 1 Axes>"
      ]
     },
     "metadata": {},
     "output_type": "display_data"
    }
   ],
   "source": [
    "plt.plot([1,2,3,4,5], [0.2, 0.3, 0.1, -0.7, 0.91])\n",
    "plt.savefig(os.path.join(artifact_path, 'test_image.png'))"
   ]
  },
  {
   "cell_type": "code",
   "execution_count": 10,
   "id": "de3d8033",
   "metadata": {},
   "outputs": [],
   "source": [
    "# mlf_logger.experiment.log_artifact()"
   ]
  },
  {
   "cell_type": "code",
   "execution_count": 11,
   "id": "125dfa76",
   "metadata": {},
   "outputs": [
    {
     "name": "stdout",
     "output_type": "stream",
     "text": [
      "1\n",
      "1\n"
     ]
    }
   ],
   "source": [
    "print(mlf_logger.experiment_id)\n",
    "print(mlf_logger.name)"
   ]
  },
  {
   "cell_type": "code",
   "execution_count": 12,
   "id": "b8f2c13f",
   "metadata": {},
   "outputs": [
    {
     "name": "stdout",
     "output_type": "stream",
     "text": [
      "5\n",
      "1\n"
     ]
    }
   ],
   "source": [
    "print(early_stopping.stopped_epoch) # gives 0 if it did not early stop\n",
    "print(early_stopping.wait_count)"
   ]
  },
  {
   "cell_type": "code",
   "execution_count": null,
   "id": "a12d82f2",
   "metadata": {},
   "outputs": [],
   "source": []
  }
 ],
 "metadata": {
  "kernelspec": {
   "display_name": "Python 3 (ipykernel)",
   "language": "python",
   "name": "python3"
  },
  "language_info": {
   "codemirror_mode": {
    "name": "ipython",
    "version": 3
   },
   "file_extension": ".py",
   "mimetype": "text/x-python",
   "name": "python",
   "nbconvert_exporter": "python",
   "pygments_lexer": "ipython3",
   "version": "3.7.13"
  }
 },
 "nbformat": 4,
 "nbformat_minor": 5
}
