{
 "cells": [
  {
   "cell_type": "markdown",
   "id": "beb2d02a",
   "metadata": {},
   "source": [
    "# DeepFool Attack\n",
    "\n",
    "The steps that are taken depend on the function value, the gradients, the overshoot parameter and the loss function. <br>\n",
    "The loss function determines which component of the output (logits) shall be the one to overtake the original prediction. <br>\n",
    "The overshoot parameter + 1 is multiplied with the step before adding it to the current position. <br>\n",
    "The function value and the gradients depend only on the network. <br>\n",
    "Given a loss function and an overshoot parameter, the same steps are taken every time until the maximum number of steps has been reached. Since the update step is skipped if an adversarial example is found, a too high value leads to an increase in attack time. A value that is too low may not find an adversarial sample. <br>\n",
    "After the adversarial sample has been found, it is clipped to be inside the specified $\\epsilon$-ball. Specifying multiple $\\epsilon$s should have a negligible impact on the run time."
   ]
  },
  {
   "cell_type": "code",
   "execution_count": 74,
   "id": "09c95153",
   "metadata": {},
   "outputs": [],
   "source": [
    "import torch, pickle, argparse, os, warnings, copy, time, mlflow\n",
    "import numpy as np, pytorch_lightning as pl, matplotlib.pyplot as plt, eagerpy as ep\n",
    "from models import ConvNet, CConvNet\n",
    "from data_loader import load_test_data, load_train_data\n",
    "from foolbox import PyTorchModel\n",
    "from foolbox.attacks import LinfDeepFoolAttack\n",
    "from tqdm.notebook import tqdm\n",
    "from attack_helper import batched_predictions, batched_logits, run_batched_attack_cpu, batched_logits_eps\n",
    "from mlflow.tracking.artifact_utils import get_artifact_uri\n",
    "import matplotlib.pyplot as plt"
   ]
  },
  {
   "cell_type": "code",
   "execution_count": 2,
   "id": "a9523902",
   "metadata": {},
   "outputs": [],
   "source": [
    "run_name = 1697206030\n",
    "tracking_uri = 'sqlite:///mlruns/database.db'\n",
    "mlflow.set_tracking_uri(tracking_uri)\n",
    "df=mlflow.search_runs(experiment_names=['model_training'])\n",
    "run_id=df[df['tags.mlflow.runName']==str(run_name)]['run_id'].values[0]\n",
    "artifact_path = get_artifact_uri(run_id=run_id, tracking_uri=tracking_uri)\n",
    "dirs=os.listdir(artifact_path)\n",
    "\n",
    "for s in dirs:\n",
    "    if s.find('.ckpt') >= 0:\n",
    "        checkpoint = s\n",
    "        break\n",
    "\n",
    "checkpoint_path = os.path.join(artifact_path, checkpoint)\n",
    "\n",
    "best_model = torch.load(checkpoint_path)\n",
    "hparams = argparse.Namespace(**best_model['hyper_parameters'])\n",
    "if df[df['tags.mlflow.runName']==str(run_name)]['tags.model'].values[0] == 'ConvNet':\n",
    "    model = ConvNet(hparams, None, None).eval()\n",
    "elif df[df['tags.mlflow.runName']==str(run_name)]['tags.model'].values[0] == 'CConvNet':\n",
    "    model = CConvNet(hparams, None, None).eval()\n",
    "else:\n",
    "    raise NotImplementedError(f\"Model has to be 'ConvNet' or 'CConvNet'. Got {df[df['tags.mlflow.runName']==str(run_name)]['tags.model'].values[0]}.\")\n",
    "model.load_state_dict(best_model['state_dict'])\n",
    "\n",
    "test_rot = eval(df[df['tags.mlflow.runName']==str(run_name)]['params.test_rot'].values[0])\n",
    "\n",
    "if df[df['tags.mlflow.runName']==str(run_name)]['params.flat'].values[0] is None:\n",
    "    flat = False\n",
    "else:\n",
    "    flat = eval(df[df['tags.mlflow.runName']==str(run_name)]['params.flat'].values[0])\n",
    "\n",
    "if flat:\n",
    "    padded_img_size = eval(df[df['tags.mlflow.runName']==str(run_name)]['params.padded_img_size'].values[0])\n",
    "\n",
    "    if test_rot:\n",
    "        TEST_PATH = \"flat_mnist_test_aug_\" + str(padded_img_size[0]) + \"x\" + str(padded_img_size[1]) + \".gz\"\n",
    "    else:\n",
    "        TEST_PATH = \"flat_mnist_test_\" + str(padded_img_size[0]) + \"x\" + str(padded_img_size[1]) + \".gz\"\n",
    "\n",
    "    test_data = load_train_data(TEST_PATH)\n",
    "\n",
    "else:    \n",
    "    if test_rot:\n",
    "        TEST_PATH = \"s2_mnist_cs1.gz\"\n",
    "        test_data = load_test_data(TEST_PATH)\n",
    "    else:\n",
    "        TEST_PATH = \"s2_mnist_test_sphere_center.gz\"\n",
    "        test_data = load_train_data(TEST_PATH)"
   ]
  },
  {
   "cell_type": "code",
   "execution_count": 81,
   "id": "4e0b378a",
   "metadata": {},
   "outputs": [],
   "source": [
    "# total = 10000\n",
    "total = 1000\n",
    "bs = 200\n",
    "\n",
    "images = test_data[:total][0]\n",
    "labels = test_data[:total][1]\n",
    "\n",
    "fmodel = PyTorchModel(model, bounds=(0, 255))\n",
    "\n",
    "epsilons = [0, 0.5, 2.5, 5, 7.5, 10, 14, 20, 30]"
   ]
  },
  {
   "cell_type": "code",
   "execution_count": 82,
   "id": "fc25b90b",
   "metadata": {},
   "outputs": [
    {
     "data": {
      "application/vnd.jupyter.widget-view+json": {
       "model_id": "04e5cbb55fea42289a636195b180f516",
       "version_major": 2,
       "version_minor": 0
      },
      "text/plain": [
       "  0%|          | 0/5 [00:00<?, ?it/s]"
      ]
     },
     "metadata": {},
     "output_type": "display_data"
    }
   ],
   "source": [
    "clean_pred = batched_predictions(model, images, bs)"
   ]
  },
  {
   "cell_type": "code",
   "execution_count": 83,
   "id": "a5440005",
   "metadata": {},
   "outputs": [
    {
     "data": {
      "application/vnd.jupyter.widget-view+json": {
       "model_id": "0983d2ff64134468a879d73a5cd14f69",
       "version_major": 2,
       "version_minor": 0
      },
      "text/plain": [
       "  0%|          | 0/5 [00:00<?, ?it/s]"
      ]
     },
     "metadata": {},
     "output_type": "display_data"
    },
    {
     "name": "stdout",
     "output_type": "stream",
     "text": [
      "tensor([0.0000, 0.0030, 0.0220, 0.0610, 0.1040, 0.1760, 0.3270, 0.6050, 0.9140])\n"
     ]
    }
   ],
   "source": [
    "attack = LinfDeepFoolAttack(steps=50, overshoot=0.01, loss='crossentropy')\n",
    "raw_advs, advs, success = run_batched_attack_cpu(attack, fmodel, images, clean_pred, epsilons=epsilons, bs=bs)\n",
    "\n",
    "success_rate = ep.astensor(success).float32().mean(axis=-1).raw\n",
    "print(success_rate)"
   ]
  },
  {
   "cell_type": "code",
   "execution_count": 75,
   "id": "a62d995a",
   "metadata": {},
   "outputs": [
    {
     "data": {
      "application/vnd.jupyter.widget-view+json": {
       "model_id": "51ec1963a1c54b5fa93ab7abda39d144",
       "version_major": 2,
       "version_minor": 0
      },
      "text/plain": [
       "  0%|          | 0/10 [00:00<?, ?it/s]"
      ]
     },
     "metadata": {},
     "output_type": "display_data"
    },
    {
     "data": {
      "application/vnd.jupyter.widget-view+json": {
       "model_id": "a846ead29f7544b8b49eb98b797a1fe1",
       "version_major": 2,
       "version_minor": 0
      },
      "text/plain": [
       "  0%|          | 0/10 [00:00<?, ?it/s]"
      ]
     },
     "metadata": {},
     "output_type": "display_data"
    },
    {
     "data": {
      "application/vnd.jupyter.widget-view+json": {
       "model_id": "1d4cf5d87158497cb6446a57f3cbbd35",
       "version_major": 2,
       "version_minor": 0
      },
      "text/plain": [
       "  0%|          | 0/10 [00:00<?, ?it/s]"
      ]
     },
     "metadata": {},
     "output_type": "display_data"
    },
    {
     "data": {
      "application/vnd.jupyter.widget-view+json": {
       "model_id": "b45308e42ec94a229a6cd2931c5185fa",
       "version_major": 2,
       "version_minor": 0
      },
      "text/plain": [
       "  0%|          | 0/10 [00:00<?, ?it/s]"
      ]
     },
     "metadata": {},
     "output_type": "display_data"
    },
    {
     "data": {
      "application/vnd.jupyter.widget-view+json": {
       "model_id": "30ffcdfbfe104027bb4d8d8bbfa530d0",
       "version_major": 2,
       "version_minor": 0
      },
      "text/plain": [
       "  0%|          | 0/10 [00:00<?, ?it/s]"
      ]
     },
     "metadata": {},
     "output_type": "display_data"
    },
    {
     "data": {
      "application/vnd.jupyter.widget-view+json": {
       "model_id": "2d3c25e3d38a42ac8f73dc6f5b269c9a",
       "version_major": 2,
       "version_minor": 0
      },
      "text/plain": [
       "  0%|          | 0/10 [00:00<?, ?it/s]"
      ]
     },
     "metadata": {},
     "output_type": "display_data"
    },
    {
     "data": {
      "application/vnd.jupyter.widget-view+json": {
       "model_id": "3de57185d7684c5483c931122e2f3647",
       "version_major": 2,
       "version_minor": 0
      },
      "text/plain": [
       "  0%|          | 0/10 [00:00<?, ?it/s]"
      ]
     },
     "metadata": {},
     "output_type": "display_data"
    },
    {
     "data": {
      "application/vnd.jupyter.widget-view+json": {
       "model_id": "bd74e1197c4a427cb41c438eb0a76a0f",
       "version_major": 2,
       "version_minor": 0
      },
      "text/plain": [
       "  0%|          | 0/10 [00:00<?, ?it/s]"
      ]
     },
     "metadata": {},
     "output_type": "display_data"
    },
    {
     "data": {
      "application/vnd.jupyter.widget-view+json": {
       "model_id": "eaab29389cae47c194e64757cc03d34c",
       "version_major": 2,
       "version_minor": 0
      },
      "text/plain": [
       "  0%|          | 0/10 [00:00<?, ?it/s]"
      ]
     },
     "metadata": {},
     "output_type": "display_data"
    }
   ],
   "source": [
    "logits = batched_logits_eps(model, advs, bs)"
   ]
  },
  {
   "cell_type": "code",
   "execution_count": 77,
   "id": "d23c9e49",
   "metadata": {},
   "outputs": [
    {
     "data": {
      "text/plain": [
       "torch.Size([9, 1000, 10])"
      ]
     },
     "execution_count": 77,
     "metadata": {},
     "output_type": "execute_result"
    }
   ],
   "source": [
    "logits.size()"
   ]
  },
  {
   "cell_type": "code",
   "execution_count": 68,
   "id": "afeea1ed",
   "metadata": {},
   "outputs": [
    {
     "data": {
      "text/plain": [
       "tensor([0.0000, 0.0030, 0.0220, 0.0610, 0.1040, 0.1760, 0.3270, 0.6050, 0.9140])"
      ]
     },
     "execution_count": 68,
     "metadata": {},
     "output_type": "execute_result"
    }
   ],
   "source": [
    "success_rate"
   ]
  },
  {
   "cell_type": "code",
   "execution_count": 72,
   "id": "bb0df087",
   "metadata": {},
   "outputs": [
    {
     "name": "stdout",
     "output_type": "stream",
     "text": [
      "torch.Size([1000, 1, 28, 28]) 9\n"
     ]
    }
   ],
   "source": [
    "print(advs[0].size(), len(advs))"
   ]
  },
  {
   "cell_type": "code",
   "execution_count": 55,
   "id": "e4927e3a",
   "metadata": {},
   "outputs": [
    {
     "name": "stdout",
     "output_type": "stream",
     "text": [
      "tensor([0.0000, 0.0000, 0.0500, 0.0600, 0.1200, 0.1800, 0.2700, 0.5800, 0.9300],\n",
      "       device='cuda:0')\n",
      "4.041600227355957\n",
      "tensor([0.0000, 0.0000, 0.0500, 0.0600, 0.1200, 0.1800, 0.2700, 0.5800, 0.9300],\n",
      "       device='cuda:0')\n",
      "10.189497470855713\n"
     ]
    }
   ],
   "source": [
    "t1 = time.time()\n",
    "attack = LinfDeepFoolAttack(steps=50, overshoot=0.01, loss='crossentropy')\n",
    "raw_advs, advs, success = attack(fmodel, images[:100].cuda(), clean_pred[:100].cuda(), epsilons=epsilons)\n",
    "success_rate = ep.astensor(success).float32().mean(axis=-1).raw\n",
    "print(success_rate)\n",
    "t2 = time.time()\n",
    "print(t2-t1)\n",
    "attack = LinfDeepFoolAttack(steps=50, overshoot=0.01, loss='logits')\n",
    "raw_advs, advs, success = attack(fmodel, images[:100].cuda(), clean_pred[:100].cuda(), epsilons=epsilons)\n",
    "success_rate = ep.astensor(success).float32().mean(axis=-1).raw\n",
    "print(success_rate)\n",
    "t3 = time.time()\n",
    "print(t3-t2)"
   ]
  },
  {
   "cell_type": "markdown",
   "id": "881b6a03",
   "metadata": {},
   "source": [
    "standard values for attack: <br>\n",
    "$0.0000, 0.0000, 0.0500, 0.0600, 0.1200, 0.1800, 0.2700, 0.5800, 0.9200$ <br>\n",
    "The loss function does not change the success rate, but crossentropy is quite a bit faster than logits. If I understand it correctly, both loss functions should always yield the same ordering and consequently to the same output. <br>\n",
    "Choose: loss = overshoot=0.01, 'crossentropy'"
   ]
  },
  {
   "cell_type": "code",
   "execution_count": 10,
   "id": "fa6fa0e3",
   "metadata": {},
   "outputs": [
    {
     "data": {
      "image/png": "[encoded data removed]",
      "text/plain": [
       "<Figure size 640x480 with 1 Axes>"
      ]
     },
     "metadata": {},
     "output_type": "display_data"
    }
   ],
   "source": [
    "plt.plot(epsilons, success_rate.cpu(), 'o-')\n",
    "plt.xlabel(r'$\\epsilon$')\n",
    "plt.ylabel('success rate')\n",
    "plt.show()"
   ]
  },
  {
   "cell_type": "code",
   "execution_count": 45,
   "id": "a6dc2a38",
   "metadata": {},
   "outputs": [
    {
     "data": {
      "image/png": "[encoded data removed]",
      "text/plain": [
       "<Figure size 640x480 with 1 Axes>"
      ]
     },
     "metadata": {},
     "output_type": "display_data"
    },
    {
     "data": {
      "image/png": "[encoded data removed]",
      "text/plain": [
       "<Figure size 640x480 with 1 Axes>"
      ]
     },
     "metadata": {},
     "output_type": "display_data"
    },
    {
     "data": {
      "image/png": "[encoded data removed]",
      "text/plain": [
       "<Figure size 640x480 with 1 Axes>"
      ]
     },
     "metadata": {},
     "output_type": "display_data"
    }
   ],
   "source": [
    "plt.imshow(images[0,0], cmap='gray')\n",
    "plt.show()\n",
    "\n",
    "plt.imshow(advs[5][0,0].cpu(), cmap='gray')\n",
    "plt.show()\n",
    "\n",
    "plt.imshow(advs[5][0,0].cpu() - images[0,0], cmap='gray')\n",
    "plt.show()"
   ]
  },
  {
   "cell_type": "code",
   "execution_count": null,
   "id": "26086d39",
   "metadata": {},
   "outputs": [],
   "source": []
  }
 ],
 "metadata": {
  "kernelspec": {
   "display_name": "Python 3 (ipykernel)",
   "language": "python",
   "name": "python3"
  },
  "language_info": {
   "codemirror_mode": {
    "name": "ipython",
    "version": 3
   },
   "file_extension": ".py",
   "mimetype": "text/x-python",
   "name": "python",
   "nbconvert_exporter": "python",
   "pygments_lexer": "ipython3",
   "version": "3.7.13"
  }
 },
 "nbformat": 4,
 "nbformat_minor": 5
}
