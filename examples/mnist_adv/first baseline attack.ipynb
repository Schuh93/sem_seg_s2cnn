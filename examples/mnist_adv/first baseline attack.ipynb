{
 "cells": [
  {
   "cell_type": "code",
   "execution_count": 1,
   "id": "4f867e9b",
   "metadata": {},
   "outputs": [],
   "source": [
    "import torch, pickle, argparse\n",
    "import numpy as np, pytorch_lightning as pl, matplotlib.pyplot as plt, eagerpy as ep\n",
    "from models import ConvNet\n",
    "from data_loader import load_train_data, load_test_data\n",
    "from foolbox import PyTorchModel, accuracy, samples\n",
    "from foolbox.attacks import LinfPGD"
   ]
  },
  {
   "cell_type": "code",
   "execution_count": 2,
   "id": "a9a91521",
   "metadata": {},
   "outputs": [],
   "source": [
    "filename = 'first_tests.pickle'\n",
    "\n",
    "with open(filename, 'rb') as file:\n",
    "    loaded = pickle.load(file)\n",
    "    \n",
    "data = np.array(loaded[0][0]).reshape(3,6,3,2)\n",
    "hparams = argparse.Namespace(**data[2,-1,1,1])"
   ]
  },
  {
   "cell_type": "code",
   "execution_count": 3,
   "id": "cd2f179d",
   "metadata": {},
   "outputs": [],
   "source": [
    "TEST_PATH = \"s2_mnist.gz\"\n",
    "TRAIN_PATH = \"s2_mnist_train_dwr_600000.gz\"\n",
    "\n",
    "train_data = load_train_data(TRAIN_PATH)\n",
    "test_data = load_test_data(TEST_PATH)"
   ]
  },
  {
   "cell_type": "code",
   "execution_count": 4,
   "id": "378f4a0b",
   "metadata": {
    "scrolled": true
   },
   "outputs": [
    {
     "name": "stderr",
     "output_type": "stream",
     "text": [
      "GPU available: True, used: True\n",
      "TPU available: False, using: 0 TPU cores\n",
      "CUDA_VISIBLE_DEVICES: [0]\n"
     ]
    },
    {
     "data": {
      "text/plain": [
       "ConvNet(\n",
       "  (loss_function): CrossEntropyLoss()\n",
       "  (conv): Sequential(\n",
       "    (0): Conv2d(1, 12, kernel_size=(3, 3), stride=(1, 1))\n",
       "    (1): ReLU()\n",
       "    (2): Conv2d(12, 15, kernel_size=(5, 5), stride=(1, 1))\n",
       "    (3): ReLU()\n",
       "    (4): Conv2d(15, 16, kernel_size=(3, 3), stride=(1, 1))\n",
       "    (5): ReLU()\n",
       "    (6): Conv2d(16, 85, kernel_size=(7, 7), stride=(2, 2))\n",
       "    (7): ReLU()\n",
       "    (8): Conv2d(85, 141, kernel_size=(5, 5), stride=(1, 1))\n",
       "    (9): ReLU()\n",
       "    (10): Conv2d(141, 191, kernel_size=(3, 3), stride=(1, 1))\n",
       "    (11): ReLU()\n",
       "    (12): Conv2d(191, 1100, kernel_size=(3, 3), stride=(2, 2))\n",
       "    (13): ReLU()\n",
       "  )\n",
       "  (dense): Sequential(\n",
       "    (0): BatchNorm1d(1100, eps=1e-05, momentum=0.1, affine=True, track_running_stats=True)\n",
       "    (1): Linear(in_features=1100, out_features=64, bias=True)\n",
       "    (2): ReLU()\n",
       "    (3): BatchNorm1d(64, eps=1e-05, momentum=0.1, affine=True, track_running_stats=True)\n",
       "    (4): Linear(in_features=64, out_features=32, bias=True)\n",
       "    (5): ReLU()\n",
       "    (6): BatchNorm1d(32, eps=1e-05, momentum=0.1, affine=True, track_running_stats=True)\n",
       "    (7): Linear(in_features=32, out_features=10, bias=True)\n",
       "  )\n",
       ")"
      ]
     },
     "execution_count": 4,
     "metadata": {},
     "output_type": "execute_result"
    }
   ],
   "source": [
    "model = ConvNet(hparams, train_data, test_data).eval()\n",
    "trainer = pl.Trainer(gpus=1, logger=False)\n",
    "best_model = torch.load('checkpoints/epoch=17_v6.ckpt')\n",
    "model.load_state_dict(best_model['state_dict'])\n",
    "model.eval()\n",
    "# trainer.test(model)"
   ]
  },
  {
   "cell_type": "code",
   "execution_count": 5,
   "id": "def2e575",
   "metadata": {},
   "outputs": [],
   "source": [
    "fmodel = PyTorchModel(model, bounds=(0, 255))\n",
    "model = model.cpu()"
   ]
  },
  {
   "cell_type": "code",
   "execution_count": 6,
   "id": "202c8af0",
   "metadata": {},
   "outputs": [],
   "source": [
    "images = test_data[:20][0]#.cuda()\n",
    "labels = test_data[:20][1]#.cuda()\n",
    "images = ep.astensor(images)\n",
    "labels = ep.astensor(labels)"
   ]
  },
  {
   "cell_type": "code",
   "execution_count": 7,
   "id": "e8d5c849",
   "metadata": {},
   "outputs": [
    {
     "name": "stdout",
     "output_type": "stream",
     "text": [
      "clean accuracy:  100.0 %\n"
     ]
    }
   ],
   "source": [
    "clean_acc = accuracy(fmodel, images, labels)\n",
    "print(f\"clean accuracy:  {clean_acc * 100:.1f} %\")"
   ]
  },
  {
   "cell_type": "code",
   "execution_count": 8,
   "id": "eed64be2",
   "metadata": {},
   "outputs": [],
   "source": [
    "attack = LinfPGD()\n",
    "epsilons = np.array([\n",
    "    0.0,\n",
    "    0.0002,\n",
    "    0.0005,\n",
    "    0.0008,\n",
    "    0.001,\n",
    "    0.0015,\n",
    "    0.002,\n",
    "    0.003,\n",
    "    0.01,\n",
    "    0.1,\n",
    "    0.3,\n",
    "    0.5,\n",
    "    1,\n",
    "])*255\n",
    "raw_advs, clipped_advs, success = attack(fmodel, images, labels, epsilons=epsilons)"
   ]
  },
  {
   "cell_type": "code",
   "execution_count": 9,
   "id": "58cceafd",
   "metadata": {},
   "outputs": [
    {
     "name": "stdout",
     "output_type": "stream",
     "text": [
      "robust accuracy for perturbations with\n",
      "  Linf norm ≤ 0.0   : 100.0 %\n",
      "  Linf norm ≤ 0.051000000000000004: 100.0 %\n",
      "  Linf norm ≤ 0.1275: 100.0 %\n",
      "  Linf norm ≤ 0.20400000000000001: 100.0 %\n",
      "  Linf norm ≤ 0.255 : 95.0 %\n",
      "  Linf norm ≤ 0.3825: 80.0 %\n",
      "  Linf norm ≤ 0.51  : 75.0 %\n",
      "  Linf norm ≤ 0.765 : 65.0 %\n",
      "  Linf norm ≤ 2.5500000000000003: 10.0 %\n",
      "  Linf norm ≤ 25.5  :  0.0 %\n",
      "  Linf norm ≤ 76.5  :  0.0 %\n",
      "  Linf norm ≤ 127.5 :  0.0 %\n",
      "  Linf norm ≤ 255.0 :  0.0 %\n"
     ]
    }
   ],
   "source": [
    "robust_accuracy = 1 - success.float32().mean(axis=-1)\n",
    "print(\"robust accuracy for perturbations with\")\n",
    "for eps, acc in zip(epsilons, robust_accuracy):\n",
    "    print(f\"  Linf norm ≤ {eps:<6}: {acc.item() * 100:4.1f} %\")"
   ]
  },
  {
   "cell_type": "code",
   "execution_count": 10,
   "id": "3fdefa7b",
   "metadata": {},
   "outputs": [],
   "source": [
    "# i = 0\n",
    "# print(labels.raw[i].item())\n",
    "# plt.imshow(images.raw[i,0], cmap = 'gray')\n",
    "# plt.show()"
   ]
  },
  {
   "cell_type": "code",
   "execution_count": 11,
   "id": "7d5150a0",
   "metadata": {},
   "outputs": [],
   "source": [
    "# model(images[0].raw.unsqueeze(0))"
   ]
  },
  {
   "cell_type": "code",
   "execution_count": 12,
   "id": "96919a2f",
   "metadata": {},
   "outputs": [],
   "source": [
    "# labels[0].raw"
   ]
  },
  {
   "cell_type": "code",
   "execution_count": 13,
   "id": "de911142",
   "metadata": {},
   "outputs": [],
   "source": [
    "# loss_fn = torch.nn.CrossEntropyLoss()"
   ]
  },
  {
   "cell_type": "code",
   "execution_count": 14,
   "id": "a7999157",
   "metadata": {},
   "outputs": [],
   "source": [
    "# loss_fn(model(images[0].raw.unsqueeze(0)), labels[0].raw.unsqueeze(0))"
   ]
  },
  {
   "cell_type": "code",
   "execution_count": 15,
   "id": "edddb974",
   "metadata": {},
   "outputs": [],
   "source": [
    "# torch.amin(images[0].raw)"
   ]
  },
  {
   "cell_type": "code",
   "execution_count": null,
   "id": "3d9418ec",
   "metadata": {},
   "outputs": [],
   "source": []
  }
 ],
 "metadata": {
  "kernelspec": {
   "display_name": "Python 3 (ipykernel)",
   "language": "python",
   "name": "python3"
  },
  "language_info": {
   "codemirror_mode": {
    "name": "ipython",
    "version": 3
   },
   "file_extension": ".py",
   "mimetype": "text/x-python",
   "name": "python",
   "nbconvert_exporter": "python",
   "pygments_lexer": "ipython3",
   "version": "3.7.13"
  }
 },
 "nbformat": 4,
 "nbformat_minor": 5
}
