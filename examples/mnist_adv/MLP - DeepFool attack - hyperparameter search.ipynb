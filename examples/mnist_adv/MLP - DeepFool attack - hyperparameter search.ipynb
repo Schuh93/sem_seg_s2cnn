{
 "cells": [
  {
   "cell_type": "code",
   "execution_count": 1,
   "id": "7fb72a20",
   "metadata": {},
   "outputs": [],
   "source": [
    "import torch, pickle, argparse, os, warnings, copy, time, mlflow\n",
    "import numpy as np, pytorch_lightning as pl, matplotlib.pyplot as plt, eagerpy as ep\n",
    "from models import MLP\n",
    "from data_loader import load_test_data, load_train_data\n",
    "from foolbox import PyTorchModel\n",
    "from foolbox.attacks import LinfDeepFoolAttack\n",
    "from tqdm.notebook import tqdm\n",
    "from attack_helper import batched_predictions, batched_logits, run_batched_attack_cpu, batched_logits_eps\n",
    "from mlflow.tracking.artifact_utils import get_artifact_uri\n",
    "import matplotlib.pyplot as plt"
   ]
  },
  {
   "cell_type": "code",
   "execution_count": 2,
   "id": "2dd1201e",
   "metadata": {},
   "outputs": [],
   "source": [
    "run_name = 1697314773\n",
    "tracking_uri = 'sqlite:///mlruns/database.db'\n",
    "mlflow.set_tracking_uri(tracking_uri)\n",
    "df=mlflow.search_runs(experiment_names=['model_training'])\n",
    "run_id=df[df['tags.mlflow.runName']==str(run_name)]['run_id'].values[0]\n",
    "artifact_path = get_artifact_uri(run_id=run_id, tracking_uri=tracking_uri)\n",
    "dirs=os.listdir(artifact_path)\n",
    "\n",
    "for s in dirs:\n",
    "    if s.find('.ckpt') >= 0:\n",
    "        checkpoint = s\n",
    "        break\n",
    "\n",
    "checkpoint_path = os.path.join(artifact_path, checkpoint)\n",
    "\n",
    "best_model = torch.load(checkpoint_path)\n",
    "hparams = argparse.Namespace(**best_model['hyper_parameters'])\n",
    "model = MLP(hparams, None, None).eval()\n",
    "model.load_state_dict(best_model['state_dict'])\n",
    "\n",
    "test_rot = eval(df[df['tags.mlflow.runName']==str(run_name)]['params.test_rot'].values[0])\n",
    "\n",
    "if df[df['tags.mlflow.runName']==str(run_name)]['params.flat'].values[0] is None:\n",
    "    flat = False\n",
    "else:\n",
    "    flat = eval(df[df['tags.mlflow.runName']==str(run_name)]['params.flat'].values[0])\n",
    "\n",
    "if flat:\n",
    "    padded_img_size = eval(df[df['tags.mlflow.runName']==str(run_name)]['params.padded_img_size'].values[0])\n",
    "\n",
    "    if test_rot:\n",
    "        TEST_PATH = \"flat_mnist_test_aug_\" + str(padded_img_size[0]) + \"x\" + str(padded_img_size[1]) + \".gz\"\n",
    "    else:\n",
    "        TEST_PATH = \"flat_mnist_test_\" + str(padded_img_size[0]) + \"x\" + str(padded_img_size[1]) + \".gz\"\n",
    "\n",
    "    test_data = load_train_data(TEST_PATH)\n",
    "\n",
    "else:    \n",
    "    if test_rot:\n",
    "        TEST_PATH = \"s2_mnist_cs1.gz\"\n",
    "        test_data = load_test_data(TEST_PATH)\n",
    "    else:\n",
    "        TEST_PATH = \"s2_mnist_test_sphere_center.gz\"\n",
    "        test_data = load_train_data(TEST_PATH)"
   ]
  },
  {
   "cell_type": "code",
   "execution_count": 3,
   "id": "11ffb086",
   "metadata": {},
   "outputs": [],
   "source": [
    "# total = 10000\n",
    "total = 100\n",
    "bs = 20\n",
    "\n",
    "images = test_data[:total][0]\n",
    "labels = test_data[:total][1]\n",
    "\n",
    "fmodel = PyTorchModel(model, bounds=(0, 255))\n",
    "\n",
    "epsilons = [0, 0.5, 2.5, 5, 7.5, 10, 14, 20, 30]"
   ]
  },
  {
   "cell_type": "code",
   "execution_count": 4,
   "id": "4124f1f7",
   "metadata": {},
   "outputs": [
    {
     "data": {
      "application/vnd.jupyter.widget-view+json": {
       "model_id": "30884758978a4fdba08f43ef2e3bd503",
       "version_major": 2,
       "version_minor": 0
      },
      "text/plain": [
       "  0%|          | 0/5 [00:00<?, ?it/s]"
      ]
     },
     "metadata": {},
     "output_type": "display_data"
    }
   ],
   "source": [
    "clean_pred = batched_predictions(model, images, bs)"
   ]
  },
  {
   "cell_type": "code",
   "execution_count": 13,
   "id": "80153cbd",
   "metadata": {},
   "outputs": [
    {
     "data": {
      "application/vnd.jupyter.widget-view+json": {
       "model_id": "994ef672fa2b40c785d126a5ee64d977",
       "version_major": 2,
       "version_minor": 0
      },
      "text/plain": [
       "  0%|          | 0/5 [00:00<?, ?it/s]"
      ]
     },
     "metadata": {},
     "output_type": "display_data"
    },
    {
     "name": "stdout",
     "output_type": "stream",
     "text": [
      "tensor([0.0000, 0.0800, 0.4900, 0.7100, 0.9200, 0.9700, 0.9900, 0.9900, 1.0000])\n"
     ]
    }
   ],
   "source": [
    "attack = LinfDeepFoolAttack(steps=50, overshoot=0.01, loss='crossentropy')\n",
    "raw_advs, advs, success = run_batched_attack_cpu(attack, fmodel, images, clean_pred, epsilons=epsilons, bs=bs)\n",
    "\n",
    "success_rate = ep.astensor(success).float32().mean(axis=-1).raw\n",
    "print(success_rate)"
   ]
  },
  {
   "cell_type": "markdown",
   "id": "7dc7b5b6",
   "metadata": {},
   "source": [
    "standard values for attack: <br>\n",
    " \n",
    "$0.0000, 0.0800, 0.4900, 0.7100, 0.9100, 0.9700, 0.9900, 0.9900, 1.0000$ <br>\n",
    "\n",
    "Choose: loss = overshoot=0.01, 'crossentropy'"
   ]
  },
  {
   "cell_type": "code",
   "execution_count": 6,
   "id": "8d097eef",
   "metadata": {},
   "outputs": [
    {
     "name": "stdout",
     "output_type": "stream",
     "text": [
      "tensor([0.0000, 0.0800, 0.4900, 0.7100, 0.9200, 0.9700, 0.9900, 0.9900, 1.0000],\n",
      "       device='cuda:0')\n",
      "1.2322819232940674\n",
      "tensor([0.0000, 0.0800, 0.4900, 0.7100, 0.9200, 0.9700, 0.9900, 0.9900, 1.0000],\n",
      "       device='cuda:0')\n",
      "8.447223424911499\n"
     ]
    }
   ],
   "source": [
    "t1 = time.time()\n",
    "attack = LinfDeepFoolAttack(steps=50, overshoot=0.01, loss='crossentropy')\n",
    "raw_advs, advs, success = attack(fmodel, images[:100].cuda(), clean_pred[:100].cuda(), epsilons=epsilons)\n",
    "success_rate = ep.astensor(success).float32().mean(axis=-1).raw\n",
    "print(success_rate)\n",
    "t2 = time.time()\n",
    "print(t2-t1)\n",
    "attack = LinfDeepFoolAttack(steps=50, overshoot=0.01, loss='logits')\n",
    "raw_advs, advs, success = attack(fmodel, images[:100].cuda(), clean_pred[:100].cuda(), epsilons=epsilons)\n",
    "success_rate = ep.astensor(success).float32().mean(axis=-1).raw\n",
    "print(success_rate)\n",
    "t3 = time.time()\n",
    "print(t3-t2)"
   ]
  },
  {
   "cell_type": "code",
   "execution_count": 7,
   "id": "55bccf52",
   "metadata": {},
   "outputs": [
    {
     "data": {
      "image/png": "[encoded data removed]",
      "text/plain": [
       "<Figure size 640x480 with 1 Axes>"
      ]
     },
     "metadata": {},
     "output_type": "display_data"
    }
   ],
   "source": [
    "plt.plot(epsilons, success_rate.cpu(), 'o-')\n",
    "plt.xlabel(r'$\\epsilon$')\n",
    "plt.ylabel('success rate')\n",
    "plt.show()"
   ]
  }
 ],
 "metadata": {
  "kernelspec": {
   "display_name": "Python 3 (ipykernel)",
   "language": "python",
   "name": "python3"
  },
  "language_info": {
   "codemirror_mode": {
    "name": "ipython",
    "version": 3
   },
   "file_extension": ".py",
   "mimetype": "text/x-python",
   "name": "python",
   "nbconvert_exporter": "python",
   "pygments_lexer": "ipython3",
   "version": "3.7.13"
  }
 },
 "nbformat": 4,
 "nbformat_minor": 5
}
