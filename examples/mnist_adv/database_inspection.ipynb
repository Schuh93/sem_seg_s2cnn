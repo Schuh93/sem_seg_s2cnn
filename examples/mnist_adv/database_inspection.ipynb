{
 "cells": [
  {
   "cell_type": "code",
   "execution_count": 1,
   "id": "ce68fb60",
   "metadata": {},
   "outputs": [],
   "source": [
    "import torch, pickle, argparse, os, warnings, copy, time, mlflow\n",
    "import numpy as np, pytorch_lightning as pl, matplotlib.pyplot as plt, eagerpy as ep\n",
    "from models import ConvNet\n",
    "from data_loader import load_test_data\n",
    "from foolbox import PyTorchModel\n",
    "from foolbox.attacks import LinfProjectedGradientDescentAttack\n",
    "from foolbox.attacks.base import Repeated\n",
    "from tqdm.notebook import tqdm\n",
    "from attack_helper import run_batched_attack_cpu, batched_accuracy\n",
    "from mlflow.tracking.artifact_utils import get_artifact_uri"
   ]
  },
  {
   "cell_type": "code",
   "execution_count": 2,
   "id": "c6499492",
   "metadata": {},
   "outputs": [],
   "source": [
    "def as_list(s):\n",
    "    return list(map(int, s[1:-1].split(',')))\n",
    "\n",
    "def get_hparam(df, run_id, param):\n",
    "    return df[df['run_id']==run_id]['params.'+param].values[0]"
   ]
  },
  {
   "cell_type": "code",
   "execution_count": 3,
   "id": "e6f8a813",
   "metadata": {},
   "outputs": [
    {
     "name": "stdout",
     "output_type": "stream",
     "text": [
      "Index(['run_id', 'experiment_id', 'status', 'artifact_uri', 'start_time',\n",
      "       'end_time', 'metrics.test_loss', 'metrics.train_loss',\n",
      "       'metrics.val_loss', 'metrics.epoch', 'metrics.train_acc',\n",
      "       'metrics.loss', 'metrics.val_acc', 'metrics.test_acc',\n",
      "       'params.es_stopped_epoch', 'params.batch_norm', 'params.channels',\n",
      "       'params.train_batch_size', 'params.activation_fn', 'params.train_rot',\n",
      "       'params.bandlimit', 'params.flat', 'params.es_mode',\n",
      "       'params.es_min_delta', 'params.train_samples', 'params.es_monitor',\n",
      "       'params.padded_img_size', 'params.nodes', 'params.name',\n",
      "       'params.total_params', 'params.num_workers', 'params.weight_decay',\n",
      "       'params.test_rot', 'params.kernel_max_beta', 'params.es_patience',\n",
      "       'params.test_batch_size', 'params.lr', 'params.trainable_params',\n",
      "       'params.max_epochs', 'params.strides', 'params.kernels',\n",
      "       'tags.mlflow.user', 'tags.mlflow.runName', 'tags.model'],\n",
      "      dtype='object')\n"
     ]
    }
   ],
   "source": [
    "tracking_uri = 'sqlite:///mlruns/database.db'\n",
    "mlflow.set_tracking_uri(tracking_uri)\n",
    "df=mlflow.search_runs(experiment_names=['model_training'])\n",
    "print(df.keys())"
   ]
  },
  {
   "cell_type": "code",
   "execution_count": 4,
   "id": "0a9190f8",
   "metadata": {
    "scrolled": false
   },
   "outputs": [
    {
     "data": {
      "text/html": [
       "<div>\n",
       "<style scoped>\n",
       "    .dataframe tbody tr th:only-of-type {\n",
       "        vertical-align: middle;\n",
       "    }\n",
       "\n",
       "    .dataframe tbody tr th {\n",
       "        vertical-align: top;\n",
       "    }\n",
       "\n",
       "    .dataframe thead th {\n",
       "        text-align: right;\n",
       "    }\n",
       "</style>\n",
       "<table border=\"1\" class=\"dataframe\">\n",
       "  <thead>\n",
       "    <tr style=\"text-align: right;\">\n",
       "      <th></th>\n",
       "      <th>run_id</th>\n",
       "      <th>params.total_params</th>\n",
       "    </tr>\n",
       "  </thead>\n",
       "  <tbody>\n",
       "    <tr>\n",
       "      <th>0</th>\n",
       "      <td>b78b4173276841d48d777e57e51650f3</td>\n",
       "      <td>113943</td>\n",
       "    </tr>\n",
       "    <tr>\n",
       "      <th>1</th>\n",
       "      <td>ee3fdeb373ad4873a08ba4a0d48b2d4a</td>\n",
       "      <td>113943</td>\n",
       "    </tr>\n",
       "    <tr>\n",
       "      <th>2</th>\n",
       "      <td>fcbc6994b7764a02ae57170754d9eec8</td>\n",
       "      <td>113943</td>\n",
       "    </tr>\n",
       "    <tr>\n",
       "      <th>3</th>\n",
       "      <td>52f771e936494cad8a39fc8292758cf9</td>\n",
       "      <td>113943</td>\n",
       "    </tr>\n",
       "    <tr>\n",
       "      <th>4</th>\n",
       "      <td>7b18c11dda3943c9a385ee96645339f9</td>\n",
       "      <td>113943</td>\n",
       "    </tr>\n",
       "  </tbody>\n",
       "</table>\n",
       "</div>"
      ],
      "text/plain": [
       "                             run_id params.total_params\n",
       "0  b78b4173276841d48d777e57e51650f3              113943\n",
       "1  ee3fdeb373ad4873a08ba4a0d48b2d4a              113943\n",
       "2  fcbc6994b7764a02ae57170754d9eec8              113943\n",
       "3  52f771e936494cad8a39fc8292758cf9              113943\n",
       "4  7b18c11dda3943c9a385ee96645339f9              113943"
      ]
     },
     "execution_count": 4,
     "metadata": {},
     "output_type": "execute_result"
    }
   ],
   "source": [
    "df[['run_id', 'params.total_params']].head()"
   ]
  },
  {
   "cell_type": "code",
   "execution_count": 5,
   "id": "edeaeddf",
   "metadata": {
    "scrolled": true
   },
   "outputs": [
    {
     "data": {
      "text/html": [
       "<div>\n",
       "<style scoped>\n",
       "    .dataframe tbody tr th:only-of-type {\n",
       "        vertical-align: middle;\n",
       "    }\n",
       "\n",
       "    .dataframe tbody tr th {\n",
       "        vertical-align: top;\n",
       "    }\n",
       "\n",
       "    .dataframe thead th {\n",
       "        text-align: right;\n",
       "    }\n",
       "</style>\n",
       "<table border=\"1\" class=\"dataframe\">\n",
       "  <thead>\n",
       "    <tr style=\"text-align: right;\">\n",
       "      <th></th>\n",
       "      <th>tags.mlflow.runName</th>\n",
       "      <th>metrics.test_acc</th>\n",
       "      <th>params.train_samples</th>\n",
       "    </tr>\n",
       "  </thead>\n",
       "  <tbody>\n",
       "    <tr>\n",
       "      <th>104</th>\n",
       "      <td>1668152805</td>\n",
       "      <td>0.9920</td>\n",
       "      <td>50000</td>\n",
       "    </tr>\n",
       "    <tr>\n",
       "      <th>105</th>\n",
       "      <td>1668139362</td>\n",
       "      <td>0.9923</td>\n",
       "      <td>50000</td>\n",
       "    </tr>\n",
       "    <tr>\n",
       "      <th>106</th>\n",
       "      <td>1668127973</td>\n",
       "      <td>0.9915</td>\n",
       "      <td>50000</td>\n",
       "    </tr>\n",
       "    <tr>\n",
       "      <th>107</th>\n",
       "      <td>1668120367</td>\n",
       "      <td>0.9902</td>\n",
       "      <td>40000</td>\n",
       "    </tr>\n",
       "    <tr>\n",
       "      <th>108</th>\n",
       "      <td>1668110081</td>\n",
       "      <td>0.9911</td>\n",
       "      <td>40000</td>\n",
       "    </tr>\n",
       "    <tr>\n",
       "      <th>109</th>\n",
       "      <td>1668101504</td>\n",
       "      <td>0.9902</td>\n",
       "      <td>40000</td>\n",
       "    </tr>\n",
       "    <tr>\n",
       "      <th>110</th>\n",
       "      <td>1668094166</td>\n",
       "      <td>0.9888</td>\n",
       "      <td>30000</td>\n",
       "    </tr>\n",
       "    <tr>\n",
       "      <th>111</th>\n",
       "      <td>1668085318</td>\n",
       "      <td>0.9904</td>\n",
       "      <td>30000</td>\n",
       "    </tr>\n",
       "    <tr>\n",
       "      <th>112</th>\n",
       "      <td>1668077822</td>\n",
       "      <td>0.9895</td>\n",
       "      <td>30000</td>\n",
       "    </tr>\n",
       "    <tr>\n",
       "      <th>113</th>\n",
       "      <td>1668070267</td>\n",
       "      <td>0.9873</td>\n",
       "      <td>20000</td>\n",
       "    </tr>\n",
       "    <tr>\n",
       "      <th>114</th>\n",
       "      <td>1668063693</td>\n",
       "      <td>0.9885</td>\n",
       "      <td>20000</td>\n",
       "    </tr>\n",
       "    <tr>\n",
       "      <th>115</th>\n",
       "      <td>1668058642</td>\n",
       "      <td>0.9881</td>\n",
       "      <td>20000</td>\n",
       "    </tr>\n",
       "    <tr>\n",
       "      <th>116</th>\n",
       "      <td>1668054856</td>\n",
       "      <td>0.9823</td>\n",
       "      <td>10000</td>\n",
       "    </tr>\n",
       "    <tr>\n",
       "      <th>117</th>\n",
       "      <td>1668051244</td>\n",
       "      <td>0.9843</td>\n",
       "      <td>10000</td>\n",
       "    </tr>\n",
       "    <tr>\n",
       "      <th>118</th>\n",
       "      <td>1668048670</td>\n",
       "      <td>0.9784</td>\n",
       "      <td>10000</td>\n",
       "    </tr>\n",
       "  </tbody>\n",
       "</table>\n",
       "</div>"
      ],
      "text/plain": [
       "    tags.mlflow.runName  metrics.test_acc params.train_samples\n",
       "104          1668152805            0.9920                50000\n",
       "105          1668139362            0.9923                50000\n",
       "106          1668127973            0.9915                50000\n",
       "107          1668120367            0.9902                40000\n",
       "108          1668110081            0.9911                40000\n",
       "109          1668101504            0.9902                40000\n",
       "110          1668094166            0.9888                30000\n",
       "111          1668085318            0.9904                30000\n",
       "112          1668077822            0.9895                30000\n",
       "113          1668070267            0.9873                20000\n",
       "114          1668063693            0.9885                20000\n",
       "115          1668058642            0.9881                20000\n",
       "116          1668054856            0.9823                10000\n",
       "117          1668051244            0.9843                10000\n",
       "118          1668048670            0.9784                10000"
      ]
     },
     "execution_count": 5,
     "metadata": {},
     "output_type": "execute_result"
    }
   ],
   "source": [
    "df[df['params.total_params'] == str(113943)][['tags.mlflow.runName', 'metrics.test_acc', 'params.train_samples']]"
   ]
  },
  {
   "cell_type": "code",
   "execution_count": 10,
   "id": "fc71f5ce",
   "metadata": {},
   "outputs": [
    {
     "data": {
      "text/plain": [
       "'CConvNet'"
      ]
     },
     "execution_count": 10,
     "metadata": {},
     "output_type": "execute_result"
    }
   ],
   "source": [
    "df[df['tags.mlflow.runName']==str(1695204583)]['tags.model'].values[0]"
   ]
  },
  {
   "cell_type": "code",
   "execution_count": 4,
   "id": "2299b4ea",
   "metadata": {},
   "outputs": [
    {
     "data": {
      "text/plain": [
       "False"
      ]
     },
     "execution_count": 4,
     "metadata": {},
     "output_type": "execute_result"
    }
   ],
   "source": [
    "eval(df[df['tags.mlflow.runName']==str(1695238653)]['params.test_rot'].values[0])"
   ]
  },
  {
   "cell_type": "code",
   "execution_count": 7,
   "id": "7b312b46",
   "metadata": {},
   "outputs": [
    {
     "data": {
      "text/plain": [
       "True"
      ]
     },
     "execution_count": 7,
     "metadata": {},
     "output_type": "execute_result"
    }
   ],
   "source": [
    "eval(df[df['tags.mlflow.runName']==str(1680863211)]['params.flat'].values[0])"
   ]
  },
  {
   "cell_type": "code",
   "execution_count": 11,
   "id": "5d0396e0",
   "metadata": {},
   "outputs": [
    {
     "name": "stdout",
     "output_type": "stream",
     "text": [
      "True\n"
     ]
    }
   ],
   "source": [
    "print(df[df['tags.mlflow.runName']==str(1680863211)]['params.flat'].values[0])"
   ]
  },
  {
   "cell_type": "code",
   "execution_count": 16,
   "id": "b98aa64b",
   "metadata": {},
   "outputs": [
    {
     "data": {
      "text/plain": [
       "[60, 60]"
      ]
     },
     "execution_count": 16,
     "metadata": {},
     "output_type": "execute_result"
    }
   ],
   "source": [
    "eval(df[df['tags.mlflow.runName']==str(1680863211)]['params.padded_img_size'].values[0])"
   ]
  },
  {
   "cell_type": "code",
   "execution_count": 4,
   "id": "12b24482",
   "metadata": {},
   "outputs": [
    {
     "data": {
      "text/plain": [
       "0.920199990272522"
      ]
     },
     "execution_count": 4,
     "metadata": {},
     "output_type": "execute_result"
    }
   ],
   "source": [
    "df[df['tags.mlflow.runName']==str(1695204583)]['metrics.test_acc'].values[0]"
   ]
  },
  {
   "cell_type": "code",
   "execution_count": 5,
   "id": "fabaf5f4",
   "metadata": {},
   "outputs": [
    {
     "data": {
      "text/plain": [
       "0.9197999835014343"
      ]
     },
     "execution_count": 5,
     "metadata": {},
     "output_type": "execute_result"
    }
   ],
   "source": [
    "df[df['tags.mlflow.runName']==str(1695238653)]['metrics.test_acc'].values[0]"
   ]
  },
  {
   "cell_type": "code",
   "execution_count": 12,
   "id": "25ec5767",
   "metadata": {},
   "outputs": [
    {
     "data": {
      "text/plain": [
       "0.9933000206947327"
      ]
     },
     "execution_count": 12,
     "metadata": {},
     "output_type": "execute_result"
    }
   ],
   "source": [
    "df[df['tags.mlflow.runName']==str(1686613889)]['metrics.test_acc'].values[0]"
   ]
  },
  {
   "cell_type": "code",
   "execution_count": 6,
   "id": "6a27910f",
   "metadata": {},
   "outputs": [],
   "source": [
    "run_id=df[df['tags.mlflow.runName']==str(1668139362)]['run_id'].values[0]"
   ]
  },
  {
   "cell_type": "code",
   "execution_count": 7,
   "id": "a2c2772d",
   "metadata": {},
   "outputs": [],
   "source": [
    "artifact_path = get_artifact_uri(run_id=run_id, tracking_uri=tracking_uri)"
   ]
  },
  {
   "cell_type": "code",
   "execution_count": 8,
   "id": "bb9c2a4c",
   "metadata": {},
   "outputs": [
    {
     "data": {
      "text/plain": [
       "'./mlruns/2/d66eec77ff0044938ec96d1653a34355/artifacts'"
      ]
     },
     "execution_count": 8,
     "metadata": {},
     "output_type": "execute_result"
    }
   ],
   "source": [
    "artifact_path"
   ]
  },
  {
   "cell_type": "code",
   "execution_count": null,
   "id": "19ee981d",
   "metadata": {},
   "outputs": [],
   "source": [
    "dirs=os.listdir(artifact_path)"
   ]
  },
  {
   "cell_type": "code",
   "execution_count": null,
   "id": "7d5d8d27",
   "metadata": {},
   "outputs": [],
   "source": [
    "for s in dirs:\n",
    "    if s.find('.ckpt') >= 0:\n",
    "        checkpoint = s\n",
    "        break"
   ]
  },
  {
   "cell_type": "code",
   "execution_count": null,
   "id": "6cc3a108",
   "metadata": {},
   "outputs": [],
   "source": [
    "checkpoint_path = os.path.join(artifact_path, checkpoint)"
   ]
  },
  {
   "cell_type": "code",
   "execution_count": null,
   "id": "dee3fa0a",
   "metadata": {},
   "outputs": [],
   "source": [
    "best_model = torch.load(checkpoint_path)\n",
    "hparams = argparse.Namespace(**best_model['hyper_parameters'])\n",
    "model = ConvNet(hparams, None, None).eval()\n",
    "model.load_state_dict(best_model['state_dict'])"
   ]
  },
  {
   "cell_type": "code",
   "execution_count": null,
   "id": "e27bd7d5",
   "metadata": {},
   "outputs": [],
   "source": []
  }
 ],
 "metadata": {
  "kernelspec": {
   "display_name": "Python 3 (ipykernel)",
   "language": "python",
   "name": "python3"
  },
  "language_info": {
   "codemirror_mode": {
    "name": "ipython",
    "version": 3
   },
   "file_extension": ".py",
   "mimetype": "text/x-python",
   "name": "python",
   "nbconvert_exporter": "python",
   "pygments_lexer": "ipython3",
   "version": "3.7.13"
  }
 },
 "nbformat": 4,
 "nbformat_minor": 5
}
