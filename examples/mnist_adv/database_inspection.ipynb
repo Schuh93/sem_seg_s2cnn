{
 "cells": [
  {
   "cell_type": "code",
   "execution_count": 1,
   "id": "ce68fb60",
   "metadata": {},
   "outputs": [],
   "source": [
    "import torch, pickle, argparse, os, warnings, copy, time, mlflow\n",
    "import numpy as np, pytorch_lightning as pl, matplotlib.pyplot as plt, eagerpy as ep\n",
    "from models import ConvNet\n",
    "from data_loader import load_test_data\n",
    "from foolbox import PyTorchModel\n",
    "from foolbox.attacks import LinfProjectedGradientDescentAttack\n",
    "from foolbox.attacks.base import Repeated\n",
    "from tqdm.notebook import tqdm\n",
    "from attack_helper import run_batched_attack_cpu, batched_accuracy\n",
    "from mlflow.tracking.artifact_utils import get_artifact_uri"
   ]
  },
  {
   "cell_type": "code",
   "execution_count": 2,
   "id": "c6499492",
   "metadata": {},
   "outputs": [],
   "source": [
    "def as_list(s):\n",
    "    return list(map(int, s[1:-1].split(',')))\n",
    "\n",
    "def get_hparam(df, run_id, param):\n",
    "    return df[df['run_id']==run_id]['params.'+param].values[0]"
   ]
  },
  {
   "cell_type": "code",
   "execution_count": 3,
   "id": "e6f8a813",
   "metadata": {},
   "outputs": [
    {
     "name": "stdout",
     "output_type": "stream",
     "text": [
      "Index(['run_id', 'experiment_id', 'status', 'artifact_uri', 'start_time',\n",
      "       'end_time', 'metrics.val_loss', 'metrics.test_acc', 'metrics.train_acc',\n",
      "       'metrics.loss', 'metrics.test_loss', 'metrics.val_acc',\n",
      "       'metrics.train_loss', 'metrics.epoch', 'params.es_stopped_epoch',\n",
      "       'params.test_rot', 'params.max_epochs', 'params.test_batch_size',\n",
      "       'params.num_workers', 'params.trainable_params', 'params.es_min_delta',\n",
      "       'params.strides', 'params.es_mode', 'params.kernels',\n",
      "       'params.es_monitor', 'params.lr', 'params.activation_fn', 'params.name',\n",
      "       'params.weight_decay', 'params.batch_norm', 'params.channels',\n",
      "       'params.nodes', 'params.es_patience', 'params.train_batch_size',\n",
      "       'params.train_samples', 'params.train_rot', 'params.total_params',\n",
      "       'params.kernel_max_beta', 'params.bandlimit', 'tags.mlflow.runName',\n",
      "       'tags.mlflow.user', 'tags.model'],\n",
      "      dtype='object')\n"
     ]
    }
   ],
   "source": [
    "tracking_uri = 'sqlite:///mlruns/database.db'\n",
    "mlflow.set_tracking_uri(tracking_uri)\n",
    "df=mlflow.search_runs(experiment_names=['model_training'])\n",
    "print(df.keys())"
   ]
  },
  {
   "cell_type": "code",
   "execution_count": 4,
   "id": "0a9190f8",
   "metadata": {
    "scrolled": false
   },
   "outputs": [
    {
     "data": {
      "text/html": [
       "<div>\n",
       "<style scoped>\n",
       "    .dataframe tbody tr th:only-of-type {\n",
       "        vertical-align: middle;\n",
       "    }\n",
       "\n",
       "    .dataframe tbody tr th {\n",
       "        vertical-align: top;\n",
       "    }\n",
       "\n",
       "    .dataframe thead th {\n",
       "        text-align: right;\n",
       "    }\n",
       "</style>\n",
       "<table border=\"1\" class=\"dataframe\">\n",
       "  <thead>\n",
       "    <tr style=\"text-align: right;\">\n",
       "      <th></th>\n",
       "      <th>run_id</th>\n",
       "      <th>params.total_params</th>\n",
       "    </tr>\n",
       "  </thead>\n",
       "  <tbody>\n",
       "    <tr>\n",
       "      <th>0</th>\n",
       "      <td>239e4f337aee4384bb392795ad832e37</td>\n",
       "      <td>50106</td>\n",
       "    </tr>\n",
       "    <tr>\n",
       "      <th>1</th>\n",
       "      <td>08fc3711881141eb85bba07cdcfeddb4</td>\n",
       "      <td>50106</td>\n",
       "    </tr>\n",
       "    <tr>\n",
       "      <th>2</th>\n",
       "      <td>8ec8e86f2cd949559a6b0a614aa07338</td>\n",
       "      <td>50106</td>\n",
       "    </tr>\n",
       "    <tr>\n",
       "      <th>3</th>\n",
       "      <td>513ea3f822374dc9b770f5bc4c15ed96</td>\n",
       "      <td>50106</td>\n",
       "    </tr>\n",
       "    <tr>\n",
       "      <th>4</th>\n",
       "      <td>e4616d4520fe4ebdbd6dfcb37b4ef219</td>\n",
       "      <td>50106</td>\n",
       "    </tr>\n",
       "  </tbody>\n",
       "</table>\n",
       "</div>"
      ],
      "text/plain": [
       "                             run_id params.total_params\n",
       "0  239e4f337aee4384bb392795ad832e37               50106\n",
       "1  08fc3711881141eb85bba07cdcfeddb4               50106\n",
       "2  8ec8e86f2cd949559a6b0a614aa07338               50106\n",
       "3  513ea3f822374dc9b770f5bc4c15ed96               50106\n",
       "4  e4616d4520fe4ebdbd6dfcb37b4ef219               50106"
      ]
     },
     "execution_count": 4,
     "metadata": {},
     "output_type": "execute_result"
    }
   ],
   "source": [
    "df[['run_id', 'params.total_params']].head()"
   ]
  },
  {
   "cell_type": "code",
   "execution_count": 5,
   "id": "edeaeddf",
   "metadata": {
    "scrolled": true
   },
   "outputs": [
    {
     "data": {
      "text/html": [
       "<div>\n",
       "<style scoped>\n",
       "    .dataframe tbody tr th:only-of-type {\n",
       "        vertical-align: middle;\n",
       "    }\n",
       "\n",
       "    .dataframe tbody tr th {\n",
       "        vertical-align: top;\n",
       "    }\n",
       "\n",
       "    .dataframe thead th {\n",
       "        text-align: right;\n",
       "    }\n",
       "</style>\n",
       "<table border=\"1\" class=\"dataframe\">\n",
       "  <thead>\n",
       "    <tr style=\"text-align: right;\">\n",
       "      <th></th>\n",
       "      <th>tags.mlflow.runName</th>\n",
       "      <th>metrics.test_acc</th>\n",
       "      <th>params.train_samples</th>\n",
       "    </tr>\n",
       "  </thead>\n",
       "  <tbody>\n",
       "    <tr>\n",
       "      <th>104</th>\n",
       "      <td>1668152805</td>\n",
       "      <td>0.9920</td>\n",
       "      <td>50000</td>\n",
       "    </tr>\n",
       "    <tr>\n",
       "      <th>105</th>\n",
       "      <td>1668139362</td>\n",
       "      <td>0.9923</td>\n",
       "      <td>50000</td>\n",
       "    </tr>\n",
       "    <tr>\n",
       "      <th>106</th>\n",
       "      <td>1668127973</td>\n",
       "      <td>0.9915</td>\n",
       "      <td>50000</td>\n",
       "    </tr>\n",
       "    <tr>\n",
       "      <th>107</th>\n",
       "      <td>1668120367</td>\n",
       "      <td>0.9902</td>\n",
       "      <td>40000</td>\n",
       "    </tr>\n",
       "    <tr>\n",
       "      <th>108</th>\n",
       "      <td>1668110081</td>\n",
       "      <td>0.9911</td>\n",
       "      <td>40000</td>\n",
       "    </tr>\n",
       "    <tr>\n",
       "      <th>109</th>\n",
       "      <td>1668101504</td>\n",
       "      <td>0.9902</td>\n",
       "      <td>40000</td>\n",
       "    </tr>\n",
       "    <tr>\n",
       "      <th>110</th>\n",
       "      <td>1668094166</td>\n",
       "      <td>0.9888</td>\n",
       "      <td>30000</td>\n",
       "    </tr>\n",
       "    <tr>\n",
       "      <th>111</th>\n",
       "      <td>1668085318</td>\n",
       "      <td>0.9904</td>\n",
       "      <td>30000</td>\n",
       "    </tr>\n",
       "    <tr>\n",
       "      <th>112</th>\n",
       "      <td>1668077822</td>\n",
       "      <td>0.9895</td>\n",
       "      <td>30000</td>\n",
       "    </tr>\n",
       "    <tr>\n",
       "      <th>113</th>\n",
       "      <td>1668070267</td>\n",
       "      <td>0.9873</td>\n",
       "      <td>20000</td>\n",
       "    </tr>\n",
       "    <tr>\n",
       "      <th>114</th>\n",
       "      <td>1668063693</td>\n",
       "      <td>0.9885</td>\n",
       "      <td>20000</td>\n",
       "    </tr>\n",
       "    <tr>\n",
       "      <th>115</th>\n",
       "      <td>1668058642</td>\n",
       "      <td>0.9881</td>\n",
       "      <td>20000</td>\n",
       "    </tr>\n",
       "    <tr>\n",
       "      <th>116</th>\n",
       "      <td>1668054856</td>\n",
       "      <td>0.9823</td>\n",
       "      <td>10000</td>\n",
       "    </tr>\n",
       "    <tr>\n",
       "      <th>117</th>\n",
       "      <td>1668051244</td>\n",
       "      <td>0.9843</td>\n",
       "      <td>10000</td>\n",
       "    </tr>\n",
       "    <tr>\n",
       "      <th>118</th>\n",
       "      <td>1668048670</td>\n",
       "      <td>0.9784</td>\n",
       "      <td>10000</td>\n",
       "    </tr>\n",
       "  </tbody>\n",
       "</table>\n",
       "</div>"
      ],
      "text/plain": [
       "    tags.mlflow.runName  metrics.test_acc params.train_samples\n",
       "104          1668152805            0.9920                50000\n",
       "105          1668139362            0.9923                50000\n",
       "106          1668127973            0.9915                50000\n",
       "107          1668120367            0.9902                40000\n",
       "108          1668110081            0.9911                40000\n",
       "109          1668101504            0.9902                40000\n",
       "110          1668094166            0.9888                30000\n",
       "111          1668085318            0.9904                30000\n",
       "112          1668077822            0.9895                30000\n",
       "113          1668070267            0.9873                20000\n",
       "114          1668063693            0.9885                20000\n",
       "115          1668058642            0.9881                20000\n",
       "116          1668054856            0.9823                10000\n",
       "117          1668051244            0.9843                10000\n",
       "118          1668048670            0.9784                10000"
      ]
     },
     "execution_count": 5,
     "metadata": {},
     "output_type": "execute_result"
    }
   ],
   "source": [
    "df[df['params.total_params'] == str(113943)][['tags.mlflow.runName', 'metrics.test_acc', 'params.train_samples']]"
   ]
  },
  {
   "cell_type": "code",
   "execution_count": 14,
   "id": "2299b4ea",
   "metadata": {},
   "outputs": [
    {
     "data": {
      "text/plain": [
       "False"
      ]
     },
     "execution_count": 14,
     "metadata": {},
     "output_type": "execute_result"
    }
   ],
   "source": [
    "eval(df[df['tags.mlflow.runName']==str(1671757292)]['params.test_rot'].values[0])"
   ]
  },
  {
   "cell_type": "code",
   "execution_count": 13,
   "id": "12b24482",
   "metadata": {},
   "outputs": [
    {
     "data": {
      "text/plain": [
       "0.9908999800682068"
      ]
     },
     "execution_count": 13,
     "metadata": {},
     "output_type": "execute_result"
    }
   ],
   "source": [
    "df[df['tags.mlflow.runName']==str(1671757292)]['metrics.test_acc'].values[0]"
   ]
  },
  {
   "cell_type": "code",
   "execution_count": 14,
   "id": "fabaf5f4",
   "metadata": {},
   "outputs": [
    {
     "data": {
      "text/plain": [
       "0.9909999966621399"
      ]
     },
     "execution_count": 14,
     "metadata": {},
     "output_type": "execute_result"
    }
   ],
   "source": [
    "df[df['tags.mlflow.runName']==str(1671760833)]['metrics.test_acc'].values[0]"
   ]
  },
  {
   "cell_type": "code",
   "execution_count": 15,
   "id": "25ec5767",
   "metadata": {},
   "outputs": [
    {
     "data": {
      "text/plain": [
       "0.9908000230789185"
      ]
     },
     "execution_count": 15,
     "metadata": {},
     "output_type": "execute_result"
    }
   ],
   "source": [
    "df[df['tags.mlflow.runName']==str(1671762466)]['metrics.test_acc'].values[0]"
   ]
  },
  {
   "cell_type": "code",
   "execution_count": 6,
   "id": "6a27910f",
   "metadata": {},
   "outputs": [],
   "source": [
    "run_id=df[df['tags.mlflow.runName']==str(1668139362)]['run_id'].values[0]"
   ]
  },
  {
   "cell_type": "code",
   "execution_count": 7,
   "id": "a2c2772d",
   "metadata": {},
   "outputs": [],
   "source": [
    "artifact_path = get_artifact_uri(run_id=run_id, tracking_uri=tracking_uri)"
   ]
  },
  {
   "cell_type": "code",
   "execution_count": 8,
   "id": "bb9c2a4c",
   "metadata": {},
   "outputs": [
    {
     "data": {
      "text/plain": [
       "'./mlruns/2/d66eec77ff0044938ec96d1653a34355/artifacts'"
      ]
     },
     "execution_count": 8,
     "metadata": {},
     "output_type": "execute_result"
    }
   ],
   "source": [
    "artifact_path"
   ]
  },
  {
   "cell_type": "code",
   "execution_count": null,
   "id": "19ee981d",
   "metadata": {},
   "outputs": [],
   "source": [
    "dirs=os.listdir(artifact_path)"
   ]
  },
  {
   "cell_type": "code",
   "execution_count": null,
   "id": "7d5d8d27",
   "metadata": {},
   "outputs": [],
   "source": [
    "for s in dirs:\n",
    "    if s.find('.ckpt') >= 0:\n",
    "        checkpoint = s\n",
    "        break"
   ]
  },
  {
   "cell_type": "code",
   "execution_count": null,
   "id": "6cc3a108",
   "metadata": {},
   "outputs": [],
   "source": [
    "checkpoint_path = os.path.join(artifact_path, checkpoint)"
   ]
  },
  {
   "cell_type": "code",
   "execution_count": null,
   "id": "dee3fa0a",
   "metadata": {},
   "outputs": [],
   "source": [
    "best_model = torch.load(checkpoint_path)\n",
    "hparams = argparse.Namespace(**best_model['hyper_parameters'])\n",
    "model = ConvNet(hparams, None, None).eval()\n",
    "model.load_state_dict(best_model['state_dict'])"
   ]
  },
  {
   "cell_type": "code",
   "execution_count": null,
   "id": "e27bd7d5",
   "metadata": {},
   "outputs": [],
   "source": []
  }
 ],
 "metadata": {
  "kernelspec": {
   "display_name": "Python 3 (ipykernel)",
   "language": "python",
   "name": "python3"
  },
  "language_info": {
   "codemirror_mode": {
    "name": "ipython",
    "version": 3
   },
   "file_extension": ".py",
   "mimetype": "text/x-python",
   "name": "python",
   "nbconvert_exporter": "python",
   "pygments_lexer": "ipython3",
   "version": "3.7.13"
  }
 },
 "nbformat": 4,
 "nbformat_minor": 5
}
