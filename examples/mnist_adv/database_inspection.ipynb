{
 "cells": [
  {
   "cell_type": "code",
   "execution_count": 1,
   "id": "ce68fb60",
   "metadata": {},
   "outputs": [],
   "source": [
    "import torch, pickle, argparse, os, warnings, copy, time, mlflow\n",
    "import numpy as np, pytorch_lightning as pl, matplotlib.pyplot as plt, eagerpy as ep\n",
    "from models import ConvNet\n",
    "from data_loader import load_test_data\n",
    "from foolbox import PyTorchModel\n",
    "from foolbox.attacks import LinfProjectedGradientDescentAttack\n",
    "from foolbox.attacks.base import Repeated\n",
    "from tqdm.notebook import tqdm\n",
    "from attack_helper import run_batched_attack_cpu, batched_accuracy\n",
    "from mlflow.tracking.artifact_utils import get_artifact_uri"
   ]
  },
  {
   "cell_type": "code",
   "execution_count": 2,
   "id": "c6499492",
   "metadata": {},
   "outputs": [],
   "source": [
    "def as_list(s):\n",
    "    return list(map(int, s[1:-1].split(',')))\n",
    "\n",
    "def get_hparam(df, run_id, param):\n",
    "    return df[df['run_id']==run_id]['params.'+param].values[0]"
   ]
  },
  {
   "cell_type": "code",
   "execution_count": 3,
   "id": "e6f8a813",
   "metadata": {},
   "outputs": [
    {
     "name": "stdout",
     "output_type": "stream",
     "text": [
      "Index(['run_id', 'experiment_id', 'status', 'artifact_uri', 'start_time',\n",
      "       'end_time', 'metrics.train_loss', 'metrics.val_acc', 'metrics.val_loss',\n",
      "       'metrics.test_loss', 'metrics.train_acc', 'metrics.epoch',\n",
      "       'metrics.test_acc', 'metrics.loss', 'params.bandlimit',\n",
      "       'params.channels', 'params.es_patience', 'params.train_batch_size',\n",
      "       'params.es_mode', 'params.total_params', 'params.es_monitor',\n",
      "       'params.es_stopped_epoch', 'params.max_epochs', 'params.train_rot',\n",
      "       'params.batch_norm', 'params.kernel_max_beta', 'params.name',\n",
      "       'params.num_workers', 'params.activation_fn', 'params.test_rot',\n",
      "       'params.nodes', 'params.trainable_params', 'params.train_samples',\n",
      "       'params.weight_decay', 'params.lr', 'params.test_batch_size',\n",
      "       'params.es_min_delta', 'params.strides', 'params.kernels',\n",
      "       'tags.mlflow.runName', 'tags.mlflow.user', 'tags.model'],\n",
      "      dtype='object')\n"
     ]
    }
   ],
   "source": [
    "tracking_uri = 'sqlite:///mlruns/database.db'\n",
    "mlflow.set_tracking_uri(tracking_uri)\n",
    "df=mlflow.search_runs(experiment_names=['model_training'])\n",
    "print(df.keys())"
   ]
  },
  {
   "cell_type": "code",
   "execution_count": 4,
   "id": "0a9190f8",
   "metadata": {
    "scrolled": false
   },
   "outputs": [
    {
     "data": {
      "text/html": [
       "<div>\n",
       "<style scoped>\n",
       "    .dataframe tbody tr th:only-of-type {\n",
       "        vertical-align: middle;\n",
       "    }\n",
       "\n",
       "    .dataframe tbody tr th {\n",
       "        vertical-align: top;\n",
       "    }\n",
       "\n",
       "    .dataframe thead th {\n",
       "        text-align: right;\n",
       "    }\n",
       "</style>\n",
       "<table border=\"1\" class=\"dataframe\">\n",
       "  <thead>\n",
       "    <tr style=\"text-align: right;\">\n",
       "      <th></th>\n",
       "      <th>run_id</th>\n",
       "      <th>params.total_params</th>\n",
       "    </tr>\n",
       "  </thead>\n",
       "  <tbody>\n",
       "    <tr>\n",
       "      <th>0</th>\n",
       "      <td>18b4936ce2bd483ca10f5d69383cd4e1</td>\n",
       "      <td>35533</td>\n",
       "    </tr>\n",
       "    <tr>\n",
       "      <th>1</th>\n",
       "      <td>352c7576044345ecad8abb8fd65f1bd2</td>\n",
       "      <td>35533</td>\n",
       "    </tr>\n",
       "    <tr>\n",
       "      <th>2</th>\n",
       "      <td>d86fcea9871043d0a0a54dd0cd80d36e</td>\n",
       "      <td>35533</td>\n",
       "    </tr>\n",
       "    <tr>\n",
       "      <th>3</th>\n",
       "      <td>322122e11a9648c198b29d4056cb0b02</td>\n",
       "      <td>35533</td>\n",
       "    </tr>\n",
       "    <tr>\n",
       "      <th>4</th>\n",
       "      <td>1e276abad90a4634a76c82bf928420a4</td>\n",
       "      <td>35533</td>\n",
       "    </tr>\n",
       "  </tbody>\n",
       "</table>\n",
       "</div>"
      ],
      "text/plain": [
       "                             run_id params.total_params\n",
       "0  18b4936ce2bd483ca10f5d69383cd4e1               35533\n",
       "1  352c7576044345ecad8abb8fd65f1bd2               35533\n",
       "2  d86fcea9871043d0a0a54dd0cd80d36e               35533\n",
       "3  322122e11a9648c198b29d4056cb0b02               35533\n",
       "4  1e276abad90a4634a76c82bf928420a4               35533"
      ]
     },
     "execution_count": 4,
     "metadata": {},
     "output_type": "execute_result"
    }
   ],
   "source": [
    "df[['run_id', 'params.total_params']].head()"
   ]
  },
  {
   "cell_type": "code",
   "execution_count": 5,
   "id": "edeaeddf",
   "metadata": {
    "scrolled": true
   },
   "outputs": [
    {
     "data": {
      "text/html": [
       "<div>\n",
       "<style scoped>\n",
       "    .dataframe tbody tr th:only-of-type {\n",
       "        vertical-align: middle;\n",
       "    }\n",
       "\n",
       "    .dataframe tbody tr th {\n",
       "        vertical-align: top;\n",
       "    }\n",
       "\n",
       "    .dataframe thead th {\n",
       "        text-align: right;\n",
       "    }\n",
       "</style>\n",
       "<table border=\"1\" class=\"dataframe\">\n",
       "  <thead>\n",
       "    <tr style=\"text-align: right;\">\n",
       "      <th></th>\n",
       "      <th>tags.mlflow.runName</th>\n",
       "      <th>metrics.test_acc</th>\n",
       "      <th>params.train_samples</th>\n",
       "    </tr>\n",
       "  </thead>\n",
       "  <tbody>\n",
       "    <tr>\n",
       "      <th>33</th>\n",
       "      <td>1668152805</td>\n",
       "      <td>0.9920</td>\n",
       "      <td>50000</td>\n",
       "    </tr>\n",
       "    <tr>\n",
       "      <th>34</th>\n",
       "      <td>1668139362</td>\n",
       "      <td>0.9923</td>\n",
       "      <td>50000</td>\n",
       "    </tr>\n",
       "    <tr>\n",
       "      <th>35</th>\n",
       "      <td>1668127973</td>\n",
       "      <td>0.9915</td>\n",
       "      <td>50000</td>\n",
       "    </tr>\n",
       "    <tr>\n",
       "      <th>36</th>\n",
       "      <td>1668120367</td>\n",
       "      <td>0.9902</td>\n",
       "      <td>40000</td>\n",
       "    </tr>\n",
       "    <tr>\n",
       "      <th>37</th>\n",
       "      <td>1668110081</td>\n",
       "      <td>0.9911</td>\n",
       "      <td>40000</td>\n",
       "    </tr>\n",
       "    <tr>\n",
       "      <th>38</th>\n",
       "      <td>1668101504</td>\n",
       "      <td>0.9902</td>\n",
       "      <td>40000</td>\n",
       "    </tr>\n",
       "    <tr>\n",
       "      <th>39</th>\n",
       "      <td>1668094166</td>\n",
       "      <td>0.9888</td>\n",
       "      <td>30000</td>\n",
       "    </tr>\n",
       "    <tr>\n",
       "      <th>40</th>\n",
       "      <td>1668085318</td>\n",
       "      <td>0.9904</td>\n",
       "      <td>30000</td>\n",
       "    </tr>\n",
       "    <tr>\n",
       "      <th>41</th>\n",
       "      <td>1668077822</td>\n",
       "      <td>0.9895</td>\n",
       "      <td>30000</td>\n",
       "    </tr>\n",
       "    <tr>\n",
       "      <th>42</th>\n",
       "      <td>1668070267</td>\n",
       "      <td>0.9873</td>\n",
       "      <td>20000</td>\n",
       "    </tr>\n",
       "    <tr>\n",
       "      <th>43</th>\n",
       "      <td>1668063693</td>\n",
       "      <td>0.9885</td>\n",
       "      <td>20000</td>\n",
       "    </tr>\n",
       "    <tr>\n",
       "      <th>44</th>\n",
       "      <td>1668058642</td>\n",
       "      <td>0.9881</td>\n",
       "      <td>20000</td>\n",
       "    </tr>\n",
       "    <tr>\n",
       "      <th>45</th>\n",
       "      <td>1668054856</td>\n",
       "      <td>0.9823</td>\n",
       "      <td>10000</td>\n",
       "    </tr>\n",
       "    <tr>\n",
       "      <th>46</th>\n",
       "      <td>1668051244</td>\n",
       "      <td>0.9843</td>\n",
       "      <td>10000</td>\n",
       "    </tr>\n",
       "    <tr>\n",
       "      <th>47</th>\n",
       "      <td>1668048670</td>\n",
       "      <td>0.9784</td>\n",
       "      <td>10000</td>\n",
       "    </tr>\n",
       "  </tbody>\n",
       "</table>\n",
       "</div>"
      ],
      "text/plain": [
       "   tags.mlflow.runName  metrics.test_acc params.train_samples\n",
       "33          1668152805            0.9920                50000\n",
       "34          1668139362            0.9923                50000\n",
       "35          1668127973            0.9915                50000\n",
       "36          1668120367            0.9902                40000\n",
       "37          1668110081            0.9911                40000\n",
       "38          1668101504            0.9902                40000\n",
       "39          1668094166            0.9888                30000\n",
       "40          1668085318            0.9904                30000\n",
       "41          1668077822            0.9895                30000\n",
       "42          1668070267            0.9873                20000\n",
       "43          1668063693            0.9885                20000\n",
       "44          1668058642            0.9881                20000\n",
       "45          1668054856            0.9823                10000\n",
       "46          1668051244            0.9843                10000\n",
       "47          1668048670            0.9784                10000"
      ]
     },
     "execution_count": 5,
     "metadata": {},
     "output_type": "execute_result"
    }
   ],
   "source": [
    "df[df['params.total_params'] == str(113943)][['tags.mlflow.runName', 'metrics.test_acc', 'params.train_samples']]"
   ]
  },
  {
   "cell_type": "code",
   "execution_count": null,
   "id": "2e22aa9b",
   "metadata": {},
   "outputs": [],
   "source": []
  },
  {
   "cell_type": "code",
   "execution_count": 4,
   "id": "12b24482",
   "metadata": {},
   "outputs": [
    {
     "data": {
      "text/plain": [
       "0.9919999837875366"
      ]
     },
     "execution_count": 4,
     "metadata": {},
     "output_type": "execute_result"
    }
   ],
   "source": [
    "df[df['tags.mlflow.runName']==str(1668152805)]['metrics.test_acc'].values[0]"
   ]
  },
  {
   "cell_type": "code",
   "execution_count": 5,
   "id": "fabaf5f4",
   "metadata": {},
   "outputs": [
    {
     "data": {
      "text/plain": [
       "0.9922999739646912"
      ]
     },
     "execution_count": 5,
     "metadata": {},
     "output_type": "execute_result"
    }
   ],
   "source": [
    "df[df['tags.mlflow.runName']==str(1668139362)]['metrics.test_acc'].values[0]"
   ]
  },
  {
   "cell_type": "code",
   "execution_count": 6,
   "id": "25ec5767",
   "metadata": {},
   "outputs": [
    {
     "data": {
      "text/plain": [
       "0.9915000200271606"
      ]
     },
     "execution_count": 6,
     "metadata": {},
     "output_type": "execute_result"
    }
   ],
   "source": [
    "df[df['tags.mlflow.runName']==str(1668127973)]['metrics.test_acc'].values[0]"
   ]
  },
  {
   "cell_type": "code",
   "execution_count": 6,
   "id": "6a27910f",
   "metadata": {},
   "outputs": [],
   "source": [
    "run_id=df[df['tags.mlflow.runName']==str(1668139362)]['run_id'].values[0]"
   ]
  },
  {
   "cell_type": "code",
   "execution_count": 7,
   "id": "a2c2772d",
   "metadata": {},
   "outputs": [],
   "source": [
    "artifact_path = get_artifact_uri(run_id=run_id, tracking_uri=tracking_uri)"
   ]
  },
  {
   "cell_type": "code",
   "execution_count": 8,
   "id": "bb9c2a4c",
   "metadata": {},
   "outputs": [
    {
     "data": {
      "text/plain": [
       "'./mlruns/2/d66eec77ff0044938ec96d1653a34355/artifacts'"
      ]
     },
     "execution_count": 8,
     "metadata": {},
     "output_type": "execute_result"
    }
   ],
   "source": [
    "artifact_path"
   ]
  },
  {
   "cell_type": "code",
   "execution_count": null,
   "id": "19ee981d",
   "metadata": {},
   "outputs": [],
   "source": [
    "dirs=os.listdir(artifact_path)"
   ]
  },
  {
   "cell_type": "code",
   "execution_count": null,
   "id": "7d5d8d27",
   "metadata": {},
   "outputs": [],
   "source": [
    "for s in dirs:\n",
    "    if s.find('.ckpt') >= 0:\n",
    "        checkpoint = s\n",
    "        break"
   ]
  },
  {
   "cell_type": "code",
   "execution_count": null,
   "id": "6cc3a108",
   "metadata": {},
   "outputs": [],
   "source": [
    "checkpoint_path = os.path.join(artifact_path, checkpoint)"
   ]
  },
  {
   "cell_type": "code",
   "execution_count": null,
   "id": "dee3fa0a",
   "metadata": {},
   "outputs": [],
   "source": [
    "best_model = torch.load(checkpoint_path)\n",
    "hparams = argparse.Namespace(**best_model['hyper_parameters'])\n",
    "model = ConvNet(hparams, None, None).eval()\n",
    "model.load_state_dict(best_model['state_dict'])"
   ]
  },
  {
   "cell_type": "code",
   "execution_count": null,
   "id": "e27bd7d5",
   "metadata": {},
   "outputs": [],
   "source": []
  }
 ],
 "metadata": {
  "kernelspec": {
   "display_name": "Python 3 (ipykernel)",
   "language": "python",
   "name": "python3"
  },
  "language_info": {
   "codemirror_mode": {
    "name": "ipython",
    "version": 3
   },
   "file_extension": ".py",
   "mimetype": "text/x-python",
   "name": "python",
   "nbconvert_exporter": "python",
   "pygments_lexer": "ipython3",
   "version": "3.7.13"
  }
 },
 "nbformat": 4,
 "nbformat_minor": 5
}
