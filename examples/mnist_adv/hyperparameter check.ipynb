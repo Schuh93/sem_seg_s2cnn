{
 "cells": [
  {
   "cell_type": "code",
   "execution_count": 2,
   "id": "e28f2b1d",
   "metadata": {},
   "outputs": [],
   "source": [
    "import torch, os, mlflow\n",
    "import matplotlib.pyplot as plt, numpy as np\n",
    "from mlflow_helper import load_attack_results, load_from_db\n",
    "from mlflow.tracking.artifact_utils import get_artifact_uri"
   ]
  },
  {
   "cell_type": "code",
   "execution_count": 3,
   "id": "5a0fdc64",
   "metadata": {},
   "outputs": [],
   "source": [
    "baseline_run_names = [1668278459, 1668279489, 1668283177, 1668284221, 1668289478,\n",
    "            1668296690, 1668302862, 1668309303, 1668319357, 1668343081, 1668361949,\n",
    "            1667820145, 1667706428, 1667745011, 1667634222, 1667729890, 1667599289,\n",
    "            1669374570]\n",
    "\n",
    "S2CNN_run_names = [1668559990, 1668568059, 1668578286, 1668598496, 1668637573, 1668139362, 1668030960]\n",
    "\n",
    "NR_NR_run_names = [1671715247, 1671716139, 1671717283, 1671720334, 1671724685, 1671725735, 1671729865,\n",
    "                   1671742022, 1671748092, 1671760833]\n",
    "\n",
    "flat_baseline_run_names = [1680863211, 1680864006, 1680866124, 1680868748, 1680871756, 1680873086,\n",
    "                           1680876846, 1680890211, 1680897318, 1680911688]\n",
    "\n",
    "flat_S2CNN_run_names = [1681201196, 1681205342, 1681215877, 1681244385, 1681274180, 1681288693,\n",
    "                        1681397514, 1681407318, 1681517329]\n",
    "\n",
    "flat_28x28_MLP_run_names = [1697263106, 1697264117, 1697264852, 1697266762, 1697267108, 1697269780, 1697270716,\n",
    "                            1697271049, 1697271795, 1697274594, 1697275265, 1697278699, 1697282534, 1697282725,\n",
    "                            1697283628, 1697285267, 1697286841, 1697289516, 1697291360, 1697291756, 1697292309,\n",
    "                            1697293673, 1697296087, 1697297687, 1697298663, 1697299099, 1697300189, 1697301644,\n",
    "                            1697303700, 1697304939]\n",
    "\n",
    "flat_28x28_MLP_data_aug_run_names = [1697314773, 1697315648, 1697316253, 1697319666, 1697321134, 1697323039,\n",
    "                                     1697381703, 1697387805, 1697392047, 1697395958, 1697423371,\n",
    "                                     1697326227, 1697327407, 1697329265, 1697330634, 1697334107, 1697335845,\n",
    "                                     1697438899, 1697441419, 1697445309, 1697454414, 1697470261,\n",
    "                                     1697339675, 1697340366, 1697342252, 1697344299, 1697346310, 1697348476,\n",
    "                                     1697493565, 1697500831, 1697507810, 1697517942, 1697522106,\n",
    "                                     1697351878, 1697352331, 1697353302, 1697355022, 1697356907, 1697357777,\n",
    "                                     1697556854, 1697557558, 1697562076, 1697563004, 1697575214,\n",
    "                                     1697359818, 1697360773, 1697363594, 1697364527, 1697368366, 1697373536,\n",
    "                                     1697581673, 1697587785, 1697595752, 1697602209, 1697615182]"
   ]
  },
  {
   "cell_type": "code",
   "execution_count": 4,
   "id": "fe0b4f58",
   "metadata": {},
   "outputs": [],
   "source": [
    "baseline_params = load_attack_results(baseline_run_names[0], 'LinfProjectedGradientDescentAttack', 'params.pickle')\n",
    "S2CNN_params = load_attack_results(S2CNN_run_names[0], 'LinfProjectedGradientDescentAttack', 'params.pickle')\n",
    "NR_NR_params = load_attack_results(NR_NR_run_names[0], 'LinfProjectedGradientDescentAttack', 'params.pickle')\n",
    "flat_baseline_params = load_attack_results(flat_baseline_run_names[0], 'LinfProjectedGradientDescentAttack', 'params.pickle')\n",
    "flat_S2CNN_params = load_attack_results(flat_S2CNN_run_names[0], 'LinfProjectedGradientDescentAttack', 'params.pickle')\n",
    "flat_28x28_MLP_params = load_attack_results(flat_28x28_MLP_run_names[0], 'LinfProjectedGradientDescentAttack', 'params.pickle')\n",
    "flat_28x28_MLP_data_aug_params = load_attack_results(flat_28x28_MLP_data_aug_run_names[0], 'LinfProjectedGradientDescentAttack', 'params.pickle')"
   ]
  },
  {
   "cell_type": "code",
   "execution_count": 5,
   "id": "39c97a9c",
   "metadata": {},
   "outputs": [],
   "source": [
    "tracking_uri = 'sqlite:///mlruns/database.db'\n",
    "mlflow.set_tracking_uri(tracking_uri)\n",
    "df=mlflow.search_runs(experiment_names=['model_training'])"
   ]
  },
  {
   "cell_type": "code",
   "execution_count": 7,
   "id": "39289725",
   "metadata": {},
   "outputs": [
    {
     "name": "stdout",
     "output_type": "stream",
     "text": [
      "{'epsilons': [0, 0.1, 0.25, 0.5, 1, 3, 5, 7.5, 10], 'rel_stepsize': 0.05, 'steps': 50, 'random_start': True, 'n_repeat': 3} \n",
      " {'epsilons': [0, 0.1, 0.25, 0.5, 1, 3, 5, 7.5, 10], 'rel_stepsize': 0.05, 'steps': 50, 'random_start': True, 'n_repeat': 3} \n",
      " {'epsilons': [0, 0.1, 0.25, 0.5, 1, 3, 5, 7.5, 10], 'rel_stepsize': 0.05, 'steps': 50, 'random_start': True, 'n_repeat': 3} \n",
      " {'epsilons': [0, 0.1, 0.25, 0.5, 1, 3, 5, 7.5, 10], 'rel_stepsize': 0.05, 'steps': 50, 'random_start': True, 'n_repeat': 3} \n",
      " {'epsilons': [0, 0.1, 0.25, 0.5, 1, 3, 5, 7.5, 10], 'rel_stepsize': 0.05, 'steps': 50, 'random_start': True, 'n_repeat': 3}\n",
      "{'epsilons': [0.0, 0.5, 2.5, 5.0, 7.5, 10.0, 14.0, 20.0, 30.0], 'rel_stepsize': 0.05, 'steps': 50, 'random_start': True, 'n_repeat': 3} \n",
      " {'epsilons': [0.0, 0.5, 2.5, 5.0, 7.5, 10.0, 14.0, 20.0, 30.0], 'rel_stepsize': 0.05, 'steps': 50, 'random_start': True, 'n_repeat': 3}\n"
     ]
    }
   ],
   "source": [
    "print(baseline_params, '\\n', S2CNN_params, '\\n', NR_NR_params, '\\n', flat_baseline_params, '\\n', flat_S2CNN_params)\n",
    "print(flat_28x28_MLP_params, '\\n', flat_28x28_MLP_data_aug_params)"
   ]
  },
  {
   "cell_type": "code",
   "execution_count": 6,
   "id": "13ebc102",
   "metadata": {},
   "outputs": [],
   "source": [
    "all_baseline_params = []\n",
    "for run_name in baseline_run_names:\n",
    "     all_baseline_params.append(load_attack_results(run_name, 'LinfProjectedGradientDescentAttack', 'params.pickle'))"
   ]
  },
  {
   "cell_type": "code",
   "execution_count": 7,
   "id": "679c526e",
   "metadata": {
    "scrolled": true
   },
   "outputs": [
    {
     "data": {
      "text/plain": [
       "[{'epsilons': [0, 0.1, 0.25, 0.5, 1, 3, 5, 7.5, 10],\n",
       "  'rel_stepsize': 0.03333333333333333,\n",
       "  'steps': 70,\n",
       "  'random_start': True,\n",
       "  'n_repeat': 3},\n",
       " {'epsilons': [0, 0.1, 0.25, 0.5, 1, 3, 5, 7.5, 10],\n",
       "  'rel_stepsize': 0.03333333333333333,\n",
       "  'steps': 70,\n",
       "  'random_start': True,\n",
       "  'n_repeat': 3},\n",
       " {'epsilons': [0, 0.1, 0.25, 0.5, 1, 3, 5, 7.5, 10],\n",
       "  'rel_stepsize': 0.03333333333333333,\n",
       "  'steps': 70,\n",
       "  'random_start': True,\n",
       "  'n_repeat': 3},\n",
       " {'epsilons': [0, 0.1, 0.25, 0.5, 1, 3, 5, 7.5, 10],\n",
       "  'rel_stepsize': 0.03333333333333333,\n",
       "  'steps': 70,\n",
       "  'random_start': True,\n",
       "  'n_repeat': 3},\n",
       " {'epsilons': [0, 0.1, 0.25, 0.5, 1, 3, 5, 7.5, 10],\n",
       "  'rel_stepsize': 0.03333333333333333,\n",
       "  'steps': 70,\n",
       "  'random_start': True,\n",
       "  'n_repeat': 3},\n",
       " {'epsilons': [0, 0.1, 0.25, 0.5, 1, 3, 5, 7.5, 10],\n",
       "  'rel_stepsize': 0.03333333333333333,\n",
       "  'steps': 70,\n",
       "  'random_start': True,\n",
       "  'n_repeat': 3},\n",
       " {'epsilons': [0, 0.1, 0.25, 0.5, 1, 3, 5, 7.5, 10],\n",
       "  'rel_stepsize': 0.03333333333333333,\n",
       "  'steps': 70,\n",
       "  'random_start': True,\n",
       "  'n_repeat': 3},\n",
       " {'epsilons': [0, 0.1, 0.25, 0.5, 1, 3, 5, 7.5, 10],\n",
       "  'rel_stepsize': 0.03333333333333333,\n",
       "  'steps': 70,\n",
       "  'random_start': True,\n",
       "  'n_repeat': 3},\n",
       " {'epsilons': [0, 0.1, 0.25, 0.5, 1, 3, 5, 7.5, 10],\n",
       "  'rel_stepsize': 0.03333333333333333,\n",
       "  'steps': 70,\n",
       "  'random_start': True,\n",
       "  'n_repeat': 3},\n",
       " {'epsilons': [0, 0.1, 0.25, 0.5, 1, 3, 5, 7.5, 10],\n",
       "  'rel_stepsize': 0.03333333333333333,\n",
       "  'steps': 70,\n",
       "  'random_start': True,\n",
       "  'n_repeat': 3},\n",
       " {'epsilons': [0, 0.1, 0.25, 0.5, 1, 3, 5, 7.5, 10],\n",
       "  'rel_stepsize': 0.03333333333333333,\n",
       "  'steps': 70,\n",
       "  'random_start': True,\n",
       "  'n_repeat': 3},\n",
       " {'epsilons': [0, 0.1, 0.25, 0.5, 1, 3, 5, 7.5, 10],\n",
       "  'rel_stepsize': 0.03333333333333333,\n",
       "  'steps': 70,\n",
       "  'random_start': True,\n",
       "  'n_repeat': 3},\n",
       " {'epsilons': [0, 0.1, 0.25, 0.5, 1, 3, 5, 7.5, 10],\n",
       "  'rel_stepsize': 0.03333333333333333,\n",
       "  'steps': 70,\n",
       "  'random_start': True,\n",
       "  'n_repeat': 3},\n",
       " {'epsilons': [0, 0.1, 0.25, 0.5, 1, 3, 5, 7.5, 10],\n",
       "  'rel_stepsize': 0.03333333333333333,\n",
       "  'steps': 70,\n",
       "  'random_start': True,\n",
       "  'n_repeat': 3},\n",
       " {'epsilons': [0, 0.1, 0.25, 0.5, 1, 3, 5, 7.5, 10],\n",
       "  'rel_stepsize': 0.03333333333333333,\n",
       "  'steps': 70,\n",
       "  'random_start': True,\n",
       "  'n_repeat': 3},\n",
       " {'epsilons': [0, 0.1, 0.25, 0.5, 1, 3, 5, 7.5, 10],\n",
       "  'rel_stepsize': 0.03333333333333333,\n",
       "  'steps': 70,\n",
       "  'random_start': True,\n",
       "  'n_repeat': 3},\n",
       " {'epsilons': [0, 0.1, 0.25, 0.5, 1, 3, 5, 7.5, 10],\n",
       "  'rel_stepsize': 0.03333333333333333,\n",
       "  'steps': 70,\n",
       "  'random_start': True,\n",
       "  'n_repeat': 3},\n",
       " {'epsilons': [0, 0.1, 0.25, 0.5, 1, 3, 5, 7.5, 10],\n",
       "  'rel_stepsize': 0.03333333333333333,\n",
       "  'steps': 70,\n",
       "  'random_start': True,\n",
       "  'n_repeat': 3}]"
      ]
     },
     "execution_count": 7,
     "metadata": {},
     "output_type": "execute_result"
    }
   ],
   "source": [
    "all_baseline_params"
   ]
  },
  {
   "cell_type": "code",
   "execution_count": 10,
   "id": "66902575",
   "metadata": {},
   "outputs": [],
   "source": [
    "artifact_paths = []\n",
    "\n",
    "for run_name in baseline_run_names:\n",
    "    run_id=df[df['tags.mlflow.runName']==str(run_name)]['run_id'].values[0]\n",
    "    artifact_paths.append(get_artifact_uri(run_id=run_id, tracking_uri=tracking_uri))"
   ]
  },
  {
   "cell_type": "code",
   "execution_count": 11,
   "id": "05058e84",
   "metadata": {},
   "outputs": [
    {
     "data": {
      "text/plain": [
       "['./mlruns/2/6e76d564a6304b77843bcb8c2475e5b2/artifacts',\n",
       " './mlruns/2/abade6d663b2466a89b4f8704ad7ae5c/artifacts',\n",
       " './mlruns/2/6cf00da72def40fcb66e53fd78398e31/artifacts',\n",
       " './mlruns/2/680d0a43f09f4e49954ff38c16c0c3cf/artifacts',\n",
       " './mlruns/2/01f1f9699f234dac9956e97137ccac36/artifacts',\n",
       " './mlruns/2/c1422ff49f8f495b92508d6ce719ec7c/artifacts',\n",
       " './mlruns/2/c68d2dda4a03474595eace0e727e590a/artifacts',\n",
       " './mlruns/2/5c55d6fa845a44eab8c840f67f3397f2/artifacts',\n",
       " './mlruns/2/191e7a447b1541389425d714f0d75269/artifacts',\n",
       " './mlruns/2/a2c85b929a61427d8aa060f5f18bddd3/artifacts',\n",
       " './mlruns/2/5f9dda562bd34637a8a4ff6db5770286/artifacts',\n",
       " './mlruns/2/dd952dc386a34a6290d418170258349e/artifacts',\n",
       " './mlruns/2/bff70b5e50ec4661bc929dc274a26411/artifacts',\n",
       " './mlruns/2/411f23ecabe74b3494c420de2b3b53a5/artifacts',\n",
       " './mlruns/2/15c0997bd5d341ba92f86667ba2e6b11/artifacts',\n",
       " './mlruns/2/498967f492fd4727894cac99f40905c8/artifacts',\n",
       " './mlruns/2/23988a222ad24ccfa0ba37662ee433b4/artifacts',\n",
       " './mlruns/2/ede0c87b82ba42639991345b709df919/artifacts']"
      ]
     },
     "execution_count": 11,
     "metadata": {},
     "output_type": "execute_result"
    }
   ],
   "source": [
    "artifact_paths"
   ]
  },
  {
   "cell_type": "code",
   "execution_count": 13,
   "id": "2311a979",
   "metadata": {},
   "outputs": [
    {
     "name": "stdout",
     "output_type": "stream",
     "text": [
      "['LinfProjectedGradientDescentAttack_mixed_mirrored_data', 'epoch=35.ckpt', 'LinfRandomSearch', 'LinfProjectedGradientDescentAttack_no_logits', 'LinfProjectedGradientDescentAttack_old', 'LinfProjectedGradientDescentAttack_mixed_data', 'test_results.pickle']\n",
      "['LinfProjectedGradientDescentAttack_mixed_mirrored_data', 'LinfRandomSearch', 'LinfProjectedGradientDescentAttack_no_logits', 'LinfProjectedGradientDescentAttack_old', 'LinfProjectedGradientDescentAttack_mixed_data', 'epoch=55.ckpt', 'test_results.pickle']\n",
      "['LinfProjectedGradientDescentAttack_mixed_mirrored_data', 'epoch=44.ckpt', 'LinfRandomSearch', 'LinfProjectedGradientDescentAttack_no_logits', 'LinfProjectedGradientDescentAttack_old', 'LinfProjectedGradientDescentAttack_mixed_data', 'test_results.pickle']\n",
      "['LinfProjectedGradientDescentAttack_mixed_mirrored_data', 'LinfRandomSearch', 'LinfProjectedGradientDescentAttack_no_logits', 'epoch=59.ckpt', 'LinfProjectedGradientDescentAttack_old', 'LinfProjectedGradientDescentAttack_mixed_data', 'test_results.pickle']\n",
      "['LinfProjectedGradientDescentAttack_mixed_mirrored_data', 'LinfRandomSearch', 'LinfProjectedGradientDescentAttack_no_logits', 'LinfProjectedGradientDescentAttack_old', 'LinfProjectedGradientDescentAttack_mixed_data', 'epoch=53.ckpt', 'test_results.pickle']\n",
      "['LinfProjectedGradientDescentAttack_mixed_mirrored_data', 'LinfRandomSearch', 'LinfProjectedGradientDescentAttack_no_logits', 'epoch=49.ckpt', 'LinfProjectedGradientDescentAttack_old', 'LinfProjectedGradientDescentAttack_mixed_data', 'test_results.pickle']\n",
      "['LinfProjectedGradientDescentAttack_mixed_mirrored_data', 'LinfRandomSearch', 'LinfProjectedGradientDescentAttack_no_logits', 'LinfProjectedGradientDescentAttack_old', 'LinfProjectedGradientDescentAttack_mixed_data', 'epoch=46.ckpt', 'test_results.pickle']\n",
      "['LinfProjectedGradientDescentAttack_mixed_mirrored_data', 'LinfRandomSearch', 'LinfProjectedGradientDescentAttack_no_logits', 'epoch=47.ckpt', 'LinfProjectedGradientDescentAttack_old', 'LinfProjectedGradientDescentAttack_mixed_data', 'test_results.pickle']\n",
      "['epoch=54.ckpt', 'LinfProjectedGradientDescentAttack_mixed_mirrored_data', 'LinfRandomSearch', 'LinfProjectedGradientDescentAttack_no_logits', 'LinfProjectedGradientDescentAttack_old', 'LinfProjectedGradientDescentAttack_mixed_data', 'test_results.pickle']\n",
      "['LinfProjectedGradientDescentAttack_mixed_mirrored_data', 'LinfRandomSearch', 'LinfProjectedGradientDescentAttack_no_logits', 'LinfProjectedGradientDescentAttack_old', 'LinfProjectedGradientDescentAttack_mixed_data', 'epoch=50.ckpt', 'test_results.pickle']\n",
      "['LinfProjectedGradientDescentAttack_mixed_mirrored_data', 'epoch=43.ckpt', 'LinfRandomSearch', 'LinfProjectedGradientDescentAttack_no_logits', 'LinfProjectedGradientDescentAttack_old', 'LinfProjectedGradientDescentAttack_mixed_data', 'LinfRandomSearch_max', 'test_results.pickle']\n",
      "['LinfProjectedGradientDescentAttack_mixed_mirrored_data', 'LinfRandomSearch', 'LinfProjectedGradientDescentAttack_no_logits', 'LinfProjectedGradientDescentAttack_old', 'LinfProjectedGradientDescentAttack_mixed_data', 'test_results.pickle', 'epoch=45.ckpt']\n",
      "['LinfProjectedGradientDescentAttack_mixed_mirrored_data', 'epoch=44.ckpt', 'LinfRandomSearch', 'LinfProjectedGradientDescentAttack_no_logits', 'LinfProjectedGradientDescentAttack_old', 'LinfProjectedGradientDescentAttack_mixed_data', 'test_results.pickle']\n",
      "['epoch=24.ckpt', 'LinfProjectedGradientDescentAttack_mixed_mirrored_data', 'LinfRandomSearch', 'LinfProjectedGradientDescentAttack_no_logits', 'LinfProjectedGradientDescentAttack_old', 'LinfProjectedGradientDescentAttack_mixed_data', 'test_results.pickle']\n",
      "['epoch=16.ckpt', 'LinfProjectedGradientDescentAttack_mixed_mirrored_data', 'LinfRandomSearch', 'LinfProjectedGradientDescentAttack_no_logits', 'LinfProjectedGradientDescentAttack_old', 'LinfProjectedGradientDescentAttack_mixed_data', 'test_results.pickle']\n",
      "['LinfProjectedGradientDescentAttack_mixed_mirrored_data', 'LinfRandomSearch', 'LinfProjectedGradientDescentAttack_no_logits', 'LinfProjectedGradientDescentAttack_old', 'LinfProjectedGradientDescentAttack_mixed_data', 'test_results.pickle', 'epoch=45.ckpt']\n",
      "['LinfProjectedGradientDescentAttack_mixed_mirrored_data', 'epoch=35.ckpt', 'LinfRandomSearch', 'LinfProjectedGradientDescentAttack_no_logits', 'LinfProjectedGradientDescentAttack_old', 'LinfProjectedGradientDescentAttack_mixed_data', 'test_results.pickle']\n",
      "['LinfProjectedGradientDescentAttack_old', 'untrained.ckpt', 'test_results.pickle']\n"
     ]
    }
   ],
   "source": [
    "for path in artifact_paths:\n",
    "    print(os.listdir(path))"
   ]
  },
  {
   "cell_type": "code",
   "execution_count": null,
   "id": "f28df2f0",
   "metadata": {},
   "outputs": [],
   "source": []
  }
 ],
 "metadata": {
  "kernelspec": {
   "display_name": "Python 3 (ipykernel)",
   "language": "python",
   "name": "python3"
  },
  "language_info": {
   "codemirror_mode": {
    "name": "ipython",
    "version": 3
   },
   "file_extension": ".py",
   "mimetype": "text/x-python",
   "name": "python",
   "nbconvert_exporter": "python",
   "pygments_lexer": "ipython3",
   "version": "3.7.13"
  }
 },
 "nbformat": 4,
 "nbformat_minor": 5
}
