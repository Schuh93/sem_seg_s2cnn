{
 "cells": [
  {
   "cell_type": "code",
   "execution_count": 1,
   "id": "e87bb359",
   "metadata": {},
   "outputs": [],
   "source": [
    "import gzip, pickle\n",
    "import numpy as np, torch.nn.functional as F\n",
    "from torchvision import datasets"
   ]
  },
  {
   "cell_type": "code",
   "execution_count": 2,
   "id": "a9b12eae",
   "metadata": {},
   "outputs": [],
   "source": [
    "mnist_data_folder = \"MNIST_data\"\n",
    "\n",
    "img_size = (28,28)\n",
    "\n",
    "assert (img_size[0] % 2 == 0 and img_size[1] % 2 == 0), 'img_size must be even in both dimensions.'\n",
    "pd = [(img_size[0] - 28)//2, (img_size[1] - 28)//2]"
   ]
  },
  {
   "cell_type": "code",
   "execution_count": 3,
   "id": "e7933f00",
   "metadata": {},
   "outputs": [],
   "source": [
    "trainset = datasets.MNIST(root=mnist_data_folder, train=True, download=True)\n",
    "testset = datasets.MNIST(root=mnist_data_folder, train=False, download=True)\n",
    "\n",
    "mnist_train = {}\n",
    "mnist_train['images'] = F.pad(trainset.data, (pd[0], pd[0], pd[1], pd[1]), mode='constant', value=0).numpy()\n",
    "mnist_train['labels'] = trainset.targets.numpy()\n",
    "\n",
    "mnist_test = {}\n",
    "mnist_test['images'] = F.pad(testset.data, (pd[0], pd[0], pd[1], pd[1]), mode='constant', value=0).numpy()\n",
    "mnist_test['labels'] = testset.targets.numpy()"
   ]
  },
  {
   "cell_type": "code",
   "execution_count": 4,
   "id": "2cea2520",
   "metadata": {},
   "outputs": [
    {
     "name": "stdout",
     "output_type": "stream",
     "text": [
      "flat_mnist_train_28x28_10000.gz written\n",
      "flat_mnist_train_28x28_20000.gz written\n",
      "flat_mnist_train_28x28_30000.gz written\n",
      "flat_mnist_train_28x28_40000.gz written\n",
      "flat_mnist_train_28x28_50000.gz written\n",
      "flat_mnist_train_28x28_60000.gz written\n",
      "\n",
      "flat_mnist_test_28x28.gz written\n"
     ]
    }
   ],
   "source": [
    "train_set_sizes = [10000, 20000, 30000, 40000, 50000, 60000]\n",
    "\n",
    "for n_samples in train_set_sizes:\n",
    "    \n",
    "    dataset = {\n",
    "        'images': mnist_train['images'][:n_samples],\n",
    "        'labels': mnist_train['labels'][:n_samples]\n",
    "    }\n",
    "    \n",
    "    output_file = \"flat_mnist_train_\" + str(img_size[0]) + \"x\" + str(img_size[1]) + \"_\" + str(n_samples) + \".gz\"\n",
    "    with gzip.open(output_file, 'wb') as f:\n",
    "        pickle.dump(dataset, f)\n",
    "        \n",
    "    print(output_file, 'written')\n",
    "\n",
    "\n",
    "print(\"\")\n",
    "dataset = {\n",
    "    'images': mnist_test['images'],\n",
    "    'labels': mnist_test['labels']\n",
    "}\n",
    "output_file = \"flat_mnist_test_\" + str(img_size[0]) + \"x\" + str(img_size[1]) + \".gz\"\n",
    "with gzip.open(output_file, 'wb') as f:\n",
    "    pickle.dump(dataset, f)\n",
    "    \n",
    "print(output_file, 'written')"
   ]
  }
 ],
 "metadata": {
  "kernelspec": {
   "display_name": "Python 3 (ipykernel)",
   "language": "python",
   "name": "python3"
  },
  "language_info": {
   "codemirror_mode": {
    "name": "ipython",
    "version": 3
   },
   "file_extension": ".py",
   "mimetype": "text/x-python",
   "name": "python",
   "nbconvert_exporter": "python",
   "pygments_lexer": "ipython3",
   "version": "3.7.13"
  }
 },
 "nbformat": 4,
 "nbformat_minor": 5
}
