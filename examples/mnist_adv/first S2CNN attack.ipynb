{
 "cells": [
  {
   "cell_type": "code",
   "execution_count": 1,
   "id": "2e9699f2",
   "metadata": {},
   "outputs": [],
   "source": [
    "import torch, pickle, argparse\n",
    "import numpy as np, pytorch_lightning as pl, matplotlib.pyplot as plt, eagerpy as ep\n",
    "from old_S2CNN_model import S2ConvNet\n",
    "from data_loader import load_train_data, load_test_data\n",
    "from foolbox import PyTorchModel, accuracy, samples\n",
    "from foolbox.attacks import LinfPGD"
   ]
  },
  {
   "cell_type": "code",
   "execution_count": 2,
   "id": "513eff35",
   "metadata": {},
   "outputs": [],
   "source": [
    "filename = 'S2CNN_first_tests_smaller_training_sets.pickle'\n",
    "\n",
    "with open(filename, 'rb') as file:\n",
    "    loaded = pickle.load(file)\n",
    "    \n",
    "data = np.array(loaded)\n",
    "hparams = argparse.Namespace(**data[1][1][1])"
   ]
  },
  {
   "cell_type": "code",
   "execution_count": 3,
   "id": "c986833f",
   "metadata": {},
   "outputs": [],
   "source": [
    "TEST_PATH = \"s2_mnist.gz\"\n",
    "TRAIN_PATH = \"s2_mnist_train_dwr_20000.gz\"\n",
    "\n",
    "train_data = load_train_data(TRAIN_PATH)\n",
    "test_data = load_test_data(TEST_PATH)"
   ]
  },
  {
   "cell_type": "code",
   "execution_count": 4,
   "id": "ddd24505",
   "metadata": {},
   "outputs": [
    {
     "name": "stderr",
     "output_type": "stream",
     "text": [
      "GPU available: True, used: True\n",
      "TPU available: False, using: 0 TPU cores\n",
      "CUDA_VISIBLE_DEVICES: [0]\n"
     ]
    },
    {
     "data": {
      "text/plain": [
       "<All keys matched successfully>"
      ]
     },
     "execution_count": 4,
     "metadata": {},
     "output_type": "execute_result"
    }
   ],
   "source": [
    "model = S2ConvNet(hparams, train_data, test_data).eval()\n",
    "trainer = pl.Trainer(gpus=1, logger=False)\n",
    "best_model = torch.load('checkpoints/epoch=17_v14.ckpt')\n",
    "model.load_state_dict(best_model['state_dict'])\n",
    "\n",
    "# trainer.test(model)"
   ]
  },
  {
   "cell_type": "code",
   "execution_count": 5,
   "id": "7d7eec9d",
   "metadata": {},
   "outputs": [],
   "source": [
    "fmodel = PyTorchModel(model, bounds=(0, 255))"
   ]
  },
  {
   "cell_type": "code",
   "execution_count": 6,
   "id": "1cf09c92",
   "metadata": {},
   "outputs": [],
   "source": [
    "images = test_data[:20][0].cuda()\n",
    "labels = test_data[:20][1].cuda()\n",
    "images = ep.astensor(images)\n",
    "labels = ep.astensor(labels)"
   ]
  },
  {
   "cell_type": "code",
   "execution_count": 7,
   "id": "6b5e8c89",
   "metadata": {},
   "outputs": [
    {
     "name": "stdout",
     "output_type": "stream",
     "text": [
      "load 0.pkl.gz... done\n",
      "load 2.pkl.gz... done\n",
      "load 1.pkl.gz... done\n",
      "load 2.pkl.gz... done\n",
      "load 8.pkl.gz... done\n",
      "load 3.pkl.gz... done\n",
      "load 4.pkl.gz... done\n",
      "load 9.pkl.gz... done\n",
      "load 14.pkl.gz... done\n",
      "load 10.pkl.gz... done\n",
      "load 15.pkl.gz... done\n",
      "load 16.pkl.gz... done\n",
      "load 11.pkl.gz... done\n",
      "load 17.pkl.gz... done\n",
      "load 12.pkl.gz... done\n",
      "load 18.pkl.gz... done\n",
      "load 19.pkl.gz... done\n",
      "load 13.pkl.gz... done\n",
      "load 20.pkl.gz... done\n",
      "clean accuracy:  100.0 %\n"
     ]
    }
   ],
   "source": [
    "clean_acc = accuracy(fmodel, images, labels)\n",
    "print(f\"clean accuracy:  {clean_acc * 100:.1f} %\")"
   ]
  },
  {
   "cell_type": "code",
   "execution_count": 8,
   "id": "28d9a8f8",
   "metadata": {},
   "outputs": [],
   "source": [
    "attack = LinfPGD()\n",
    "epsilons = np.array([\n",
    "    0.0,\n",
    "    0.0002,\n",
    "    0.0005,\n",
    "    0.0008,\n",
    "    0.001,\n",
    "    0.0015,\n",
    "    0.002,\n",
    "    0.003,\n",
    "    0.01,\n",
    "    0.1,\n",
    "    0.3,\n",
    "    0.5,\n",
    "    1,\n",
    "])*255\n",
    "raw_advs, clipped_advs, success = attack(fmodel, images, labels, epsilons=epsilons)"
   ]
  },
  {
   "cell_type": "code",
   "execution_count": 9,
   "id": "07eadad5",
   "metadata": {},
   "outputs": [
    {
     "name": "stdout",
     "output_type": "stream",
     "text": [
      "robust accuracy for perturbations with\n",
      "  Linf norm ≤ 0.0   : 100.0 %\n",
      "  Linf norm ≤ 0.051000000000000004: 100.0 %\n",
      "  Linf norm ≤ 0.1275: 100.0 %\n",
      "  Linf norm ≤ 0.20400000000000001: 100.0 %\n",
      "  Linf norm ≤ 0.255 : 100.0 %\n",
      "  Linf norm ≤ 0.3825: 100.0 %\n",
      "  Linf norm ≤ 0.51  : 100.0 %\n",
      "  Linf norm ≤ 0.765 : 100.0 %\n",
      "  Linf norm ≤ 2.5500000000000003: 90.0 %\n",
      "  Linf norm ≤ 25.5  :  0.0 %\n",
      "  Linf norm ≤ 76.5  :  0.0 %\n",
      "  Linf norm ≤ 127.5 :  0.0 %\n",
      "  Linf norm ≤ 255.0 :  0.0 %\n"
     ]
    }
   ],
   "source": [
    "robust_accuracy = 1 - success.float32().mean(axis=-1)\n",
    "print(\"robust accuracy for perturbations with\")\n",
    "for eps, acc in zip(epsilons, robust_accuracy):\n",
    "    print(f\"  Linf norm ≤ {eps:<6}: {acc.item() * 100:4.1f} %\")"
   ]
  },
  {
   "cell_type": "code",
   "execution_count": null,
   "id": "0c553cca",
   "metadata": {},
   "outputs": [],
   "source": []
  }
 ],
 "metadata": {
  "kernelspec": {
   "display_name": "Python 3 (ipykernel)",
   "language": "python",
   "name": "python3"
  },
  "language_info": {
   "codemirror_mode": {
    "name": "ipython",
    "version": 3
   },
   "file_extension": ".py",
   "mimetype": "text/x-python",
   "name": "python",
   "nbconvert_exporter": "python",
   "pygments_lexer": "ipython3",
   "version": "3.7.13"
  }
 },
 "nbformat": 4,
 "nbformat_minor": 5
}
