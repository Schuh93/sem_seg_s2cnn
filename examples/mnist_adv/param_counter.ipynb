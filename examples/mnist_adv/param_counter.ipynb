{
 "cells": [
  {
   "cell_type": "code",
   "execution_count": 1,
   "id": "9ef1abf7",
   "metadata": {},
   "outputs": [],
   "source": [
    "import torch, argparse, gzip, os, warnings, copy, time, mlflow, pickle\n",
    "import pytorch_lightning as pl\n",
    "from data_loader import load_train_data, load_test_data\n",
    "from models import ConvNet"
   ]
  },
  {
   "cell_type": "code",
   "execution_count": 2,
   "id": "46143f3f",
   "metadata": {},
   "outputs": [],
   "source": [
    "TRAIN_SAMPLES = 10000\n",
    "TRAIN_ROT = True\n",
    "TEST_ROT = True"
   ]
  },
  {
   "cell_type": "code",
   "execution_count": 3,
   "id": "0697771e",
   "metadata": {},
   "outputs": [
    {
     "name": "stdout",
     "output_type": "stream",
     "text": [
      "GPU available: NVIDIA GeForce RTX 2070 SUPER\n"
     ]
    }
   ],
   "source": [
    "if TRAIN_ROT:\n",
    "    TRAIN_PATH = \"s2_mnist_train_dwr_\" + str(TRAIN_SAMPLES) + \".gz\"\n",
    "else:\n",
    "    raise NotImplementedError('A non-rotated training set does not exist yet.')\n",
    "    \n",
    "if TEST_ROT:\n",
    "    TEST_PATH = \"s2_mnist_cs1.gz\"\n",
    "else:\n",
    "    raise NotImplementedError('A non-rotated test set does not exist yet.')\n",
    "\n",
    "if torch.cuda.is_available():\n",
    "    print('GPU available: ' + torch.cuda.get_device_name())\n",
    "else:\n",
    "    raise RuntimeError('No GPU found.')"
   ]
  },
  {
   "cell_type": "code",
   "execution_count": null,
   "id": "f67c9bac",
   "metadata": {},
   "outputs": [],
   "source": [
    "train_data, test_data = load_train_data(TRAIN_PATH), load_test_data(TEST_PATH)"
   ]
  },
  {
   "cell_type": "code",
   "execution_count": 17,
   "id": "90385df1",
   "metadata": {},
   "outputs": [
    {
     "name": "stdout",
     "output_type": "stream",
     "text": [
      "50106\n"
     ]
    }
   ],
   "source": [
    "hparams = argparse.Namespace()\n",
    "\n",
    "hparams.name = 'test_model'\n",
    "hparams.train_batch_size = 32\n",
    "hparams.test_batch_size = 32\n",
    "hparams.num_workers = 0\n",
    "hparams.lr = 1e-3\n",
    "hparams.weight_decay = 0.\n",
    "\n",
    "hparams.channels = [16, 32, 64, 32, 16]\n",
    "hparams.kernels = [3, 3, 3, 3, 3]\n",
    "hparams.strides = [1, 1, 1, 1, 1]\n",
    "hparams.activation_fn = 'ReLU'\n",
    "hparams.batch_norm = True\n",
    "hparams.nodes = [64, 32]\n",
    "\n",
    "model = ConvNet(hparams, train_data, test_data)\n",
    "print(model.count_parameters())"
   ]
  },
  {
   "cell_type": "code",
   "execution_count": null,
   "id": "70d36391",
   "metadata": {},
   "outputs": [],
   "source": []
  }
 ],
 "metadata": {
  "kernelspec": {
   "display_name": "Python 3 (ipykernel)",
   "language": "python",
   "name": "python3"
  },
  "language_info": {
   "codemirror_mode": {
    "name": "ipython",
    "version": 3
   },
   "file_extension": ".py",
   "mimetype": "text/x-python",
   "name": "python",
   "nbconvert_exporter": "python",
   "pygments_lexer": "ipython3",
   "version": "3.7.13"
  }
 },
 "nbformat": 4,
 "nbformat_minor": 5
}
