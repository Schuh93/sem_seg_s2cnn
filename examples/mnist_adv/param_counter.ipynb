{
 "cells": [
  {
   "cell_type": "code",
   "execution_count": 1,
   "id": "9ef1abf7",
   "metadata": {},
   "outputs": [],
   "source": [
    "import torch, argparse, gzip, os, warnings, copy, time, mlflow, pickle\n",
    "import pytorch_lightning as pl\n",
    "from data_loader import load_train_data, load_test_data\n",
    "from models import ConvNet, S2ConvNet"
   ]
  },
  {
   "cell_type": "code",
   "execution_count": 2,
   "id": "0697771e",
   "metadata": {},
   "outputs": [
    {
     "name": "stdout",
     "output_type": "stream",
     "text": [
      "GPU available: NVIDIA GeForce RTX 2070 SUPER\n"
     ]
    }
   ],
   "source": [
    "if torch.cuda.is_available():\n",
    "    print('GPU available: ' + torch.cuda.get_device_name())\n",
    "else:\n",
    "    raise RuntimeError('No GPU found.')"
   ]
  },
  {
   "cell_type": "code",
   "execution_count": 4,
   "id": "90385df1",
   "metadata": {},
   "outputs": [
    {
     "name": "stdout",
     "output_type": "stream",
     "text": [
      "50106\n"
     ]
    }
   ],
   "source": [
    "hparams = argparse.Namespace()\n",
    "\n",
    "hparams.name = 'test_model'\n",
    "hparams.train_batch_size = 32\n",
    "hparams.test_batch_size = 32\n",
    "hparams.num_workers = 0\n",
    "hparams.lr = 1e-3\n",
    "hparams.weight_decay = 0.\n",
    "\n",
    "hparams.channels = [16, 32, 64, 32, 16]\n",
    "hparams.kernels = [3, 3, 3, 3, 3]\n",
    "hparams.strides = [1, 1, 1, 1, 1]\n",
    "hparams.activation_fn = 'ReLU'\n",
    "hparams.batch_norm = True\n",
    "hparams.nodes = [64, 32]\n",
    "\n",
    "model = ConvNet(hparams, None, None)\n",
    "print(model.count_parameters())"
   ]
  },
  {
   "cell_type": "code",
   "execution_count": 16,
   "id": "70d36391",
   "metadata": {},
   "outputs": [
    {
     "name": "stdout",
     "output_type": "stream",
     "text": [
      "35533\n"
     ]
    }
   ],
   "source": [
    "hparams = argparse.Namespace()\n",
    "\n",
    "hparams.name = 'test_model'\n",
    "hparams.train_batch_size = 32\n",
    "hparams.test_batch_size = 32\n",
    "hparams.num_workers = 0\n",
    "hparams.lr = 1e-3\n",
    "hparams.weight_decay = 0.\n",
    "\n",
    "hparams.channels = [8, 11, 64]\n",
    "hparams.bandlimit = [30, 8, 2]\n",
    "hparams.kernel_max_beta = [0.0625, 0.33, 0.5]\n",
    "# hparams.channels = [8, 16, 16, 24, 24, 32, 64]\n",
    "# hparams.bandlimit = [30, 15, 15, 8, 8, 4, 2]\n",
    "# hparams.kernel_max_beta = [0.0625, 0.0625, 0.125, 0.125, 0.25, 0.25, 0.5]\n",
    "hparams.activation_fn = 'ReLU'\n",
    "hparams.batch_norm = True\n",
    "hparams.nodes = [64, 32]\n",
    "\n",
    "model = S2ConvNet(hparams, None, None)\n",
    "print(model.count_parameters())"
   ]
  },
  {
   "cell_type": "code",
   "execution_count": null,
   "id": "bac49545",
   "metadata": {},
   "outputs": [],
   "source": []
  }
 ],
 "metadata": {
  "kernelspec": {
   "display_name": "Python 3 (ipykernel)",
   "language": "python",
   "name": "python3"
  },
  "language_info": {
   "codemirror_mode": {
    "name": "ipython",
    "version": 3
   },
   "file_extension": ".py",
   "mimetype": "text/x-python",
   "name": "python",
   "nbconvert_exporter": "python",
   "pygments_lexer": "ipython3",
   "version": "3.7.13"
  }
 },
 "nbformat": 4,
 "nbformat_minor": 5
}
