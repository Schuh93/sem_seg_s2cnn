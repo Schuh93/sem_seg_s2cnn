{
 "cells": [
  {
   "cell_type": "code",
   "execution_count": null,
   "id": "497fbf60",
   "metadata": {},
   "outputs": [],
   "source": [
    "import torch, pickle, argparse, os, warnings, copy, time, mlflow\n",
    "import numpy as np, pytorch_lightning as pl, matplotlib.pyplot as plt, eagerpy as ep\n",
    "from models import ConvNet, S2ConvNet\n",
    "from data_loader import load_test_data\n",
    "from foolbox import PyTorchModel\n",
    "from attacks import LinfRandomSearch\n",
    "from tqdm.notebook import tqdm\n",
    "from attack_helper import batched_predictions\n",
    "# from attack_helper import run_batched_attack_cpu, batched_accuracy, batched_predictions_eps, save_pickle, batched_logits_eps\n",
    "from mlflow.tracking.artifact_utils import get_artifact_uri"
   ]
  },
  {
   "cell_type": "code",
   "execution_count": null,
   "id": "4a4b8309",
   "metadata": {},
   "outputs": [],
   "source": [
    "tracking_uri = 'sqlite:///mlruns/database.db'\n",
    "mlflow.set_tracking_uri(tracking_uri)\n",
    "df=mlflow.search_runs(experiment_names=['model_training'])\n",
    "run_id=df[df['tags.mlflow.runName']==str(1668361949)]['run_id'].values[0]\n",
    "artifact_path = get_artifact_uri(run_id=run_id, tracking_uri=tracking_uri)\n",
    "dirs=os.listdir(artifact_path)\n",
    "\n",
    "for s in dirs:\n",
    "    if s.find('.ckpt') >= 0:\n",
    "        checkpoint = s\n",
    "        break\n",
    "\n",
    "checkpoint_path = os.path.join(artifact_path, checkpoint)\n",
    "\n",
    "best_model = torch.load(checkpoint_path)\n",
    "hparams = argparse.Namespace(**best_model['hyper_parameters'])\n",
    "model = ConvNet(hparams, None, None).eval()\n",
    "model.load_state_dict(best_model['state_dict'])\n",
    "\n",
    "\n",
    "TEST_PATH = \"s2_mnist_cs1.gz\"\n",
    "test_data = load_test_data(TEST_PATH)"
   ]
  },
  {
   "cell_type": "code",
   "execution_count": null,
   "id": "0d357da7",
   "metadata": {},
   "outputs": [],
   "source": [
    "# tracking_uri = 'sqlite:///mlruns/database.db'\n",
    "# mlflow.set_tracking_uri(tracking_uri)\n",
    "# df=mlflow.search_runs(experiment_names=['model_training'])\n",
    "# run_id=df[df['tags.mlflow.runName']==str(1668637573)]['run_id'].values[0]\n",
    "# artifact_path = get_artifact_uri(run_id=run_id, tracking_uri=tracking_uri)\n",
    "# dirs=os.listdir(artifact_path)\n",
    "\n",
    "# for s in dirs:\n",
    "#     if s.find('.ckpt') >= 0:\n",
    "#         checkpoint = s\n",
    "#         break\n",
    "\n",
    "# checkpoint_path = os.path.join(artifact_path, checkpoint)\n",
    "\n",
    "# best_model = torch.load(checkpoint_path)\n",
    "# hparams = argparse.Namespace(**best_model['hyper_parameters'])\n",
    "# model = S2ConvNet(hparams, None, None).eval()\n",
    "# model.load_state_dict(best_model['state_dict'])\n",
    "\n",
    "\n",
    "# TEST_PATH = \"s2_mnist_cs1.gz\"\n",
    "# test_data = load_test_data(TEST_PATH)"
   ]
  },
  {
   "cell_type": "code",
   "execution_count": null,
   "id": "70d673b9",
   "metadata": {},
   "outputs": [],
   "source": [
    "images_ = test_data[:][0]\n",
    "labels_ = test_data[:][1]\n",
    "\n",
    "images = images_[labels_ == 0][:10]\n",
    "for i in range(1,10):\n",
    "    images = torch.cat((images, images_[labels_ == i][:10]))\n",
    "    \n",
    "labels = labels_[labels_ == 0][:10]\n",
    "for i in range(1,10):\n",
    "    labels = torch.cat((labels, labels_[labels_ == i][:10]))\n",
    "\n",
    "fmodel = PyTorchModel(model, bounds=(0, 255))"
   ]
  },
  {
   "cell_type": "code",
   "execution_count": null,
   "id": "dfde3507",
   "metadata": {},
   "outputs": [],
   "source": [
    "bs = 100\n",
    "\n",
    "clean_pred = batched_predictions(model, images, bs)"
   ]
  },
  {
   "cell_type": "code",
   "execution_count": null,
   "id": "16787917",
   "metadata": {},
   "outputs": [],
   "source": [
    "epsilons = [0, 0.1, 0.25, 0.5, 1, 3, 5, 7.5, 10, 20, 50, 100]\n",
    "attack = LinfRandomSearch()"
   ]
  },
  {
   "cell_type": "code",
   "execution_count": null,
   "id": "2fde5192",
   "metadata": {},
   "outputs": [],
   "source": [
    "success = []\n",
    "for i in tqdm(range(100)):\n",
    "    *_, success_ = attack(fmodel, ep.astensor(images.cuda()), ep.astensor(clean_pred.cuda()), epsilons=epsilons)\n",
    "    success.append(success_.raw.cpu())\n",
    "    \n",
    "success = torch.stack(success).permute(1,2,0)"
   ]
  },
  {
   "cell_type": "code",
   "execution_count": null,
   "id": "0155bb4e",
   "metadata": {},
   "outputs": [],
   "source": [
    "success_per_sample = ep.astensor(success).float32().mean(axis=-1).raw"
   ]
  },
  {
   "cell_type": "code",
   "execution_count": null,
   "id": "abbb944a",
   "metadata": {},
   "outputs": [],
   "source": [
    "success_rate = torch.mean(success_per_sample, dim=-1)\n",
    "print(success_rate)"
   ]
  },
  {
   "cell_type": "code",
   "execution_count": null,
   "id": "03ff169e",
   "metadata": {},
   "outputs": [],
   "source": [
    "plt.plot(epsilons, success_rate, 'o-')\n",
    "plt.xlabel('$\\epsilon$')\n",
    "plt.ylabel('success rate')\n",
    "plt.show()"
   ]
  },
  {
   "cell_type": "code",
   "execution_count": null,
   "id": "4f023ded",
   "metadata": {},
   "outputs": [],
   "source": [
    "# _, advs, success = attack(fmodel, ep.astensor(images.cuda()), ep.astensor(labels.cuda()), epsilons=epsilons)\n",
    "\n",
    "# plt.imshow(advs[1][0,0].raw.detach().cpu().numpy(), cmap='gray')\n",
    "# plt.show()\n",
    "\n",
    "# plt.imshow(images[0,0].numpy(), cmap='gray')\n",
    "# plt.show()\n",
    "\n",
    "# print(torch.all(images[0,0] == advs[0][0,0].raw.detach().cpu()))\n",
    "# print(torch.all(images[0,0] == advs[1][0,0].raw.detach().cpu()))\n",
    "\n",
    "# for i in range(1,len(epsilons)):\n",
    "#     print(torch.allclose(images[0,0], advs[i][0,0].raw.detach().cpu(), rtol=0, atol=epsilons[i]))\n",
    "#     print(torch.allclose(images[0,0], advs[i][0,0].raw.detach().cpu(), rtol=0, atol=epsilons[i]-0.01))\n",
    "    \n",
    "# diff = images[0,0] - advs[1][0,0].raw.detach().cpu()\n",
    "\n",
    "# plt.imshow(diff, cmap='gray')\n",
    "# plt.show()\n",
    "\n",
    "# print(diff)\n",
    "# print(torch.sum((diff == 0)) / torch.prod(torch.Tensor([*diff.size()])))\n",
    "# diff2 = images[1,0] - advs[1][1,0].raw.detach().cpu()\n",
    "# print(diff2)"
   ]
  }
 ],
 "metadata": {
  "kernelspec": {
   "display_name": "Python 3 (ipykernel)",
   "language": "python",
   "name": "python3"
  },
  "language_info": {
   "codemirror_mode": {
    "name": "ipython",
    "version": 3
   },
   "file_extension": ".py",
   "mimetype": "text/x-python",
   "name": "python",
   "nbconvert_exporter": "python",
   "pygments_lexer": "ipython3",
   "version": "3.7.13"
  }
 },
 "nbformat": 4,
 "nbformat_minor": 5
}
