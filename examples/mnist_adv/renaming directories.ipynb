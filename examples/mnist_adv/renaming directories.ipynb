{
 "cells": [
  {
   "cell_type": "code",
   "execution_count": 1,
   "id": "93bfadd0",
   "metadata": {},
   "outputs": [],
   "source": [
    "import torch, pickle, argparse, os, warnings, copy, time, mlflow\n",
    "import numpy as np, pytorch_lightning as pl, matplotlib.pyplot as plt, eagerpy as ep\n",
    "from models import ConvNet, CConvNet\n",
    "from data_loader import load_test_data, load_train_data\n",
    "from foolbox import PyTorchModel\n",
    "from foolbox.attacks import LinfDeepFoolAttack\n",
    "from tqdm.notebook import tqdm\n",
    "from attack_helper import batched_predictions, batched_logits, run_batched_attack_cpu, batched_logits_eps\n",
    "from mlflow.tracking.artifact_utils import get_artifact_uri\n",
    "import matplotlib.pyplot as plt"
   ]
  },
  {
   "cell_type": "code",
   "execution_count": 15,
   "id": "bec6dc17",
   "metadata": {},
   "outputs": [],
   "source": [
    "flat_28x28_MLP_run_names = [1697263106, 1697264117, 1697264852, 1697266762, 1697267108, 1697269780, 1697270716,\n",
    "                            1697271049, 1697271795, 1697274594, 1697275265, 1697278699, 1697282534, 1697282725,\n",
    "                            1697283628, 1697285267, 1697286841, 1697289516, 1697291360, 1697291756, 1697292309,\n",
    "                            1697293673, 1697296087, 1697297687, 1697298663, 1697299099, 1697300189, 1697301644,\n",
    "                            1697303700, 1697304939]\n",
    "\n",
    "flat_28x28_MLP_data_aug_run_names = [1697314773, 1697315648, 1697316253, 1697319666, 1697321134, 1697323039,\n",
    "                                     1697381703, 1697387805, 1697392047, 1697395958, 1697423371,\n",
    "                                     1697326227, 1697327407, 1697329265, 1697330634, 1697334107, 1697335845,\n",
    "                                     1697438899, 1697441419, 1697445309, 1697454414, 1697470261,\n",
    "                                     1697339675, 1697340366, 1697342252, 1697344299, 1697346310, 1697348476,\n",
    "                                     1697493565, 1697500831, 1697507810, 1697517942, 1697522106,\n",
    "                                     1697351878, 1697352331, 1697353302, 1697355022, 1697356907, 1697357777,\n",
    "                                     1697556854, 1697557558, 1697562076, 1697563004, 1697575214,\n",
    "                                     1697359818, 1697360773, 1697363594, 1697364527, 1697368366, 1697373536,\n",
    "                                     1697581673, 1697587785, 1697595752, 1697602209, 1697615182]"
   ]
  },
  {
   "cell_type": "code",
   "execution_count": 17,
   "id": "1a2d0e01",
   "metadata": {},
   "outputs": [],
   "source": [
    "# tracking_uri = 'sqlite:///mlruns/database.db'\n",
    "# mlflow.set_tracking_uri(tracking_uri)\n",
    "# df=mlflow.search_runs(experiment_names=['model_training'])\n",
    "# for run_name in flat_28x28_MLP_data_aug_run_names:\n",
    "#     run_id=df[df['tags.mlflow.runName']==str(run_name)]['run_id'].values[0]\n",
    "#     artifact_path = get_artifact_uri(run_id=run_id, tracking_uri=tracking_uri)\n",
    "#     os.rename(os.path.join(artifact_path, 'LinfProjectedGradientDescentAttack'), os.path.join(artifact_path, 'LinfProjectedGradientDescentAttack_wrong'))"
   ]
  },
  {
   "cell_type": "code",
   "execution_count": null,
   "id": "226c1910",
   "metadata": {},
   "outputs": [],
   "source": []
  }
 ],
 "metadata": {
  "kernelspec": {
   "display_name": "Python 3 (ipykernel)",
   "language": "python",
   "name": "python3"
  },
  "language_info": {
   "codemirror_mode": {
    "name": "ipython",
    "version": 3
   },
   "file_extension": ".py",
   "mimetype": "text/x-python",
   "name": "python",
   "nbconvert_exporter": "python",
   "pygments_lexer": "ipython3",
   "version": "3.7.13"
  }
 },
 "nbformat": 4,
 "nbformat_minor": 5
}
