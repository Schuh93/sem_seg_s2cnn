{
 "cells": [
  {
   "cell_type": "code",
   "execution_count": 1,
   "id": "572a591d",
   "metadata": {},
   "outputs": [],
   "source": [
    "import torch, pickle, argparse, os, warnings, copy, time, mlflow\n",
    "import numpy as np, pytorch_lightning as pl, matplotlib.pyplot as plt, eagerpy as ep\n",
    "from models import ConvNet\n",
    "from data_loader import load_test_data\n",
    "from foolbox import PyTorchModel\n",
    "from foolbox.attacks import LinfProjectedGradientDescentAttack\n",
    "from foolbox.attacks.base import Repeated\n",
    "from tqdm.notebook import tqdm\n",
    "from attack_helper import batched_logits, batched_predictions\n",
    "from mlflow.tracking.artifact_utils import get_artifact_uri"
   ]
  },
  {
   "cell_type": "code",
   "execution_count": 2,
   "id": "ca8206f4",
   "metadata": {},
   "outputs": [],
   "source": [
    "tracking_uri = 'sqlite:///mlruns/database.db'\n",
    "mlflow.set_tracking_uri(tracking_uri)\n",
    "df=mlflow.search_runs(experiment_names=['model_training'])\n",
    "run_id=df[df['tags.mlflow.runName']==str(1668278459)]['run_id'].values[0]\n",
    "artifact_path = get_artifact_uri(run_id=run_id, tracking_uri=tracking_uri)\n",
    "dirs=os.listdir(artifact_path)\n",
    "\n",
    "for s in dirs:\n",
    "    if s.find('.ckpt') >= 0:\n",
    "        checkpoint = s\n",
    "        break\n",
    "        \n",
    "checkpoint_path = os.path.join(artifact_path, checkpoint)"
   ]
  },
  {
   "cell_type": "code",
   "execution_count": 3,
   "id": "894aa7bd",
   "metadata": {},
   "outputs": [
    {
     "data": {
      "text/plain": [
       "<All keys matched successfully>"
      ]
     },
     "execution_count": 3,
     "metadata": {},
     "output_type": "execute_result"
    }
   ],
   "source": [
    "best_model = torch.load(checkpoint_path)\n",
    "hparams = argparse.Namespace(**best_model['hyper_parameters'])\n",
    "model = ConvNet(hparams, None, None).eval()\n",
    "model.load_state_dict(best_model['state_dict'])"
   ]
  },
  {
   "cell_type": "code",
   "execution_count": 4,
   "id": "2f5edf7e",
   "metadata": {},
   "outputs": [],
   "source": [
    "TEST_PATH = \"s2_mnist_cs1.gz\"\n",
    "test_data = load_test_data(TEST_PATH)\n",
    "\n",
    "images = test_data[:][0]\n",
    "labels = test_data[:][1]"
   ]
  },
  {
   "cell_type": "code",
   "execution_count": 5,
   "id": "d881065d",
   "metadata": {},
   "outputs": [
    {
     "name": "stdout",
     "output_type": "stream",
     "text": [
      "torch.Size([10000, 1, 60, 60])\n",
      "torch.Size([2, 10])\n"
     ]
    }
   ],
   "source": [
    "print(images.size())\n",
    "print(model(images[:2]).size())"
   ]
  },
  {
   "cell_type": "code",
   "execution_count": 6,
   "id": "03ca645c",
   "metadata": {},
   "outputs": [
    {
     "data": {
      "application/vnd.jupyter.widget-view+json": {
       "model_id": "e3377cf944bb46b6b78b958bb5b5f219",
       "version_major": 2,
       "version_minor": 0
      },
      "text/plain": [
       "  0%|          | 0/100 [00:00<?, ?it/s]"
      ]
     },
     "metadata": {},
     "output_type": "display_data"
    }
   ],
   "source": [
    "logits = batched_logits(model.cuda(), images, 100)"
   ]
  },
  {
   "cell_type": "code",
   "execution_count": 7,
   "id": "1113e2d0",
   "metadata": {},
   "outputs": [
    {
     "data": {
      "text/plain": [
       "torch.Size([10000, 10])"
      ]
     },
     "execution_count": 7,
     "metadata": {},
     "output_type": "execute_result"
    }
   ],
   "source": [
    "logits.size()"
   ]
  },
  {
   "cell_type": "code",
   "execution_count": 8,
   "id": "0171e390",
   "metadata": {},
   "outputs": [
    {
     "data": {
      "application/vnd.jupyter.widget-view+json": {
       "model_id": "44d8763f5dc84271a7a4d828d3acf969",
       "version_major": 2,
       "version_minor": 0
      },
      "text/plain": [
       "  0%|          | 0/100 [00:00<?, ?it/s]"
      ]
     },
     "metadata": {},
     "output_type": "display_data"
    }
   ],
   "source": [
    "pred = batched_predictions(model.cuda(), images, 100)"
   ]
  },
  {
   "cell_type": "code",
   "execution_count": 9,
   "id": "8e13dfde",
   "metadata": {},
   "outputs": [],
   "source": [
    "pred_2 = torch.max(logits.reshape(-1,10),1)[1]"
   ]
  },
  {
   "cell_type": "code",
   "execution_count": 10,
   "id": "5e28c728",
   "metadata": {},
   "outputs": [
    {
     "data": {
      "text/plain": [
       "tensor(True)"
      ]
     },
     "execution_count": 10,
     "metadata": {},
     "output_type": "execute_result"
    }
   ],
   "source": [
    "torch.all(pred==pred_2)"
   ]
  },
  {
   "cell_type": "code",
   "execution_count": 11,
   "id": "de965505",
   "metadata": {},
   "outputs": [
    {
     "data": {
      "text/plain": [
       "tensor([7, 2, 1, 0, 4, 1, 5, 9, 5, 9])"
      ]
     },
     "execution_count": 11,
     "metadata": {},
     "output_type": "execute_result"
    }
   ],
   "source": [
    "pred[:10]"
   ]
  },
  {
   "cell_type": "code",
   "execution_count": 12,
   "id": "3d796eae",
   "metadata": {},
   "outputs": [
    {
     "data": {
      "text/plain": [
       "tensor([[ 5.4869, -0.6696,  1.4066,  0.6219, -4.4709, -0.3668, -5.2891,  8.9015,\n",
       "         -8.2221, -0.8814],\n",
       "        [-1.3240,  1.8889,  6.9673, -4.2807,  0.0400,  0.8172, -0.6086,  3.2864,\n",
       "         -3.3349, -3.7987],\n",
       "        [ 0.5425, 10.9971, -2.9173, -5.4327, -1.4699,  0.0836,  1.3159,  4.4924,\n",
       "         -2.3520, -2.6516],\n",
       "        [ 7.2077, -4.4147, -0.3960,  1.4358, -2.4331,  0.6982,  0.6536, -2.0499,\n",
       "          0.4678, -0.1660],\n",
       "        [-4.2786, -2.5147, -1.9955, -1.2011,  7.9827,  3.1697, -0.1185, -1.1926,\n",
       "          1.2032,  2.1169],\n",
       "        [-0.6105, 10.2034, -0.9548, -3.5241, -1.1989, -1.2720,  2.1219,  1.4404,\n",
       "         -2.0152, -5.0312],\n",
       "        [-0.7860, -5.6367,  3.3510,  1.8416,  2.6116,  4.7410,  2.8391, -4.5642,\n",
       "          1.3760,  0.1803],\n",
       "        [-3.5238, -1.9698, -0.4505, -1.8892,  3.8877, -3.0857, -0.4553, -1.2669,\n",
       "          3.6117,  6.6461],\n",
       "        [-2.0459, -6.5618,  4.4525, -0.2075,  1.2279,  7.0087,  6.2800, -6.9050,\n",
       "          1.2973, -0.4375],\n",
       "        [ 2.1582, -7.0643,  3.1040, -2.8284, -3.2185, -6.1832, -1.9839, -0.5746,\n",
       "          4.0877,  9.5531]])"
      ]
     },
     "execution_count": 12,
     "metadata": {},
     "output_type": "execute_result"
    }
   ],
   "source": [
    "logits[:10]"
   ]
  },
  {
   "cell_type": "code",
   "execution_count": null,
   "id": "74010c5a",
   "metadata": {},
   "outputs": [],
   "source": []
  }
 ],
 "metadata": {
  "kernelspec": {
   "display_name": "Python 3 (ipykernel)",
   "language": "python",
   "name": "python3"
  },
  "language_info": {
   "codemirror_mode": {
    "name": "ipython",
    "version": 3
   },
   "file_extension": ".py",
   "mimetype": "text/x-python",
   "name": "python",
   "nbconvert_exporter": "python",
   "pygments_lexer": "ipython3",
   "version": "3.7.13"
  }
 },
 "nbformat": 4,
 "nbformat_minor": 5
}
