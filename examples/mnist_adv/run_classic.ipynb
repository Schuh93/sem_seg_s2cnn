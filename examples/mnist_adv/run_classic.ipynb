{
 "cells": [
  {
   "cell_type": "code",
   "execution_count": 1,
   "id": "70a2b459",
   "metadata": {},
   "outputs": [],
   "source": [
    "# pylint: disable=E1101,R,C\n",
    "import numpy as np\n",
    "import torch.nn as nn\n",
    "import torch.nn.functional as F\n",
    "import torch\n",
    "import torch.utils.data as data_utils\n",
    "import gzip, os, pickle\n",
    "from torch.autograd import Variable"
   ]
  },
  {
   "cell_type": "code",
   "execution_count": 2,
   "id": "fe74e00a",
   "metadata": {},
   "outputs": [],
   "source": [
    "MNIST_PATH = \"s2_mnist.gz\"\n",
    "ROOT_PATH = \"models\"\n",
    "MODEL_NAME = \"baseline.pt\"\n",
    "\n",
    "DEVICE = torch.device(\"cuda:0\" if torch.cuda.is_available() else \"cpu\")\n",
    "\n",
    "NUM_EPOCHS = 20\n",
    "BATCH_SIZE = 32\n",
    "LEARNING_RATE = 5e-4\n",
    "\n",
    "\n",
    "class ConvNet(nn.Module):\n",
    "\n",
    "    def __init__(self):\n",
    "        super().__init__()\n",
    "\n",
    "        f1 = 32\n",
    "        f2 = 64\n",
    "\n",
    "        self.feature_layer = nn.Sequential(\n",
    "            torch.nn.Conv2d(1, f1, kernel_size=5, stride=3),\n",
    "            torch.nn.ReLU(),\n",
    "            torch.nn.Conv2d(f1, f2, kernel_size=5, stride=3),\n",
    "            torch.nn.ReLU()\n",
    "        )\n",
    "        self.out_layer = torch.nn.Linear(f2 * 5**2, 10)\n",
    "\n",
    "    def forward(self, x):\n",
    "        x = self.feature_layer(x)\n",
    "        x = x.view(x.shape[0], -1)\n",
    "        x = self.out_layer(x)\n",
    "        return x\n",
    "\n",
    "\n",
    "def load_data(path, batch_size):\n",
    "\n",
    "    with gzip.open(path, 'rb') as f:\n",
    "        dataset = pickle.load(f)\n",
    "\n",
    "    train_data = torch.from_numpy(\n",
    "        dataset[\"train\"][\"images\"][:, None, :, :].astype(np.float32))\n",
    "    train_labels = torch.from_numpy(\n",
    "        dataset[\"train\"][\"labels\"].astype(np.int64))\n",
    "\n",
    "    # TODO normalize dataset\n",
    "    # mean = train_data.mean()\n",
    "    # stdv = train_data.std()\n",
    "\n",
    "    train_dataset = data_utils.TensorDataset(train_data, train_labels)\n",
    "    train_loader = data_utils.DataLoader(train_dataset, batch_size=batch_size, shuffle=True)\n",
    "\n",
    "    test_data = torch.from_numpy(\n",
    "        dataset[\"test\"][\"images\"][:, None, :, :].astype(np.float32))\n",
    "    test_labels = torch.from_numpy(\n",
    "        dataset[\"test\"][\"labels\"].astype(np.int64))\n",
    "\n",
    "    test_dataset = data_utils.TensorDataset(test_data, test_labels)\n",
    "    test_loader = data_utils.DataLoader(test_dataset, batch_size=batch_size, shuffle=True)\n",
    "\n",
    "    return train_loader, test_loader, train_dataset, test_dataset"
   ]
  },
  {
   "cell_type": "code",
   "execution_count": 3,
   "id": "b05ec78d",
   "metadata": {},
   "outputs": [
    {
     "name": "stdout",
     "output_type": "stream",
     "text": [
      "#params 68106\n",
      "Epoch [1/20], Iter [1875/1875] Loss: 0.8924\n",
      "Test Accuracy: 23.79\n",
      "Epoch [2/20], Iter [1875/1875] Loss: 0.6065\n",
      "Test Accuracy: 28.11\n",
      "Epoch [3/20], Iter [1875/1875] Loss: 0.2749\n",
      "Test Accuracy: 29.27\n",
      "Epoch [4/20], Iter [1875/1875] Loss: 0.7975\n",
      "Test Accuracy: 29.62\n",
      "Epoch [5/20], Iter [1875/1875] Loss: 0.5245\n",
      "Test Accuracy: 30.83\n",
      "Epoch [6/20], Iter [1875/1875] Loss: 0.5815\n",
      "Test Accuracy: 29.95\n",
      "Epoch [7/20], Iter [1875/1875] Loss: 0.6603\n",
      "Test Accuracy: 28.87\n",
      "Epoch [8/20], Iter [1875/1875] Loss: 0.5784\n",
      "Test Accuracy: 28.64\n",
      "Epoch [9/20], Iter [1875/1875] Loss: 0.1670\n",
      "Test Accuracy: 29.32\n",
      "Epoch [10/20], Iter [1875/1875] Loss: 0.3784\n",
      "Test Accuracy: 30.01\n",
      "Epoch [11/20], Iter [1875/1875] Loss: 0.0388\n",
      "Test Accuracy: 28.93\n",
      "Epoch [12/20], Iter [1875/1875] Loss: 0.2356\n",
      "Test Accuracy: 29.86\n",
      "Epoch [13/20], Iter [1875/1875] Loss: 0.2589\n",
      "Test Accuracy: 30.18\n",
      "Epoch [14/20], Iter [1875/1875] Loss: 0.3360\n",
      "Test Accuracy: 30.76\n",
      "Epoch [15/20], Iter [1875/1875] Loss: 0.5472\n",
      "Test Accuracy: 29.21\n",
      "Epoch [16/20], Iter [1875/1875] Loss: 0.1934\n",
      "Test Accuracy: 29.36\n",
      "Epoch [17/20], Iter [1875/1875] Loss: 0.1511\n",
      "Test Accuracy: 28.37\n",
      "Epoch [18/20], Iter [1875/1875] Loss: 0.3576\n",
      "Test Accuracy: 28.45\n",
      "Epoch [19/20], Iter [1875/1875] Loss: 0.0860\n",
      "Test Accuracy: 28.98\n",
      "Epoch [20/20], Iter [1875/1875] Loss: 0.1002\n",
      "Test Accuracy: 29.07\n"
     ]
    }
   ],
   "source": [
    "train_loader, test_loader, train_dataset, _ = load_data(MNIST_PATH, BATCH_SIZE)\n",
    "\n",
    "classifier = ConvNet()\n",
    "classifier.to(DEVICE)\n",
    "\n",
    "print(\"#params\", sum([x.numel() for x in classifier.parameters()]))\n",
    "\n",
    "\n",
    "criterion = nn.CrossEntropyLoss()\n",
    "criterion = criterion.to(DEVICE)\n",
    "\n",
    "optimizer = torch.optim.Adam(classifier.parameters(), lr=LEARNING_RATE)\n",
    "\n",
    "for epoch in range(NUM_EPOCHS):\n",
    "    for i, (images, labels) in enumerate(train_loader):\n",
    "        classifier.train()\n",
    "\n",
    "        images = images.to(DEVICE)\n",
    "        labels = labels.to(DEVICE)\n",
    "\n",
    "        optimizer.zero_grad()\n",
    "        outputs = classifier(images)\n",
    "        loss = criterion(outputs, labels)\n",
    "        loss.backward()\n",
    "\n",
    "        optimizer.step()\n",
    "\n",
    "        print('\\rEpoch [{0}/{1}], Iter [{2}/{3}] Loss: {4:.4f}'.format(\n",
    "            epoch+1, NUM_EPOCHS, i+1, len(train_dataset)//BATCH_SIZE,\n",
    "            loss.item()), end=\"\")\n",
    "    print(\"\")\n",
    "    correct = 0\n",
    "    total = 0\n",
    "    for i, (images, labels) in enumerate(test_loader):\n",
    "        classifier.eval()\n",
    "\n",
    "        with torch.no_grad():\n",
    "            images = images.to(DEVICE)\n",
    "            labels = labels.to(DEVICE)\n",
    "\n",
    "            outputs = classifier(images)\n",
    "            _, predicted = torch.max(outputs, 1)\n",
    "            total += labels.size(0)\n",
    "            correct += (predicted == labels).long().sum().item()\n",
    "\n",
    "    print('Test Accuracy: {0}'.format(100 * correct / total))"
   ]
  },
  {
   "cell_type": "code",
   "execution_count": 4,
   "id": "3d87e9a5",
   "metadata": {},
   "outputs": [],
   "source": [
    "torch.save(classifier.state_dict(), MODEL_NAME)"
   ]
  },
  {
   "cell_type": "code",
   "execution_count": 12,
   "id": "a1b3e63a",
   "metadata": {},
   "outputs": [
    {
     "data": {
      "text/plain": [
       "ConvNet(\n",
       "  (feature_layer): Sequential(\n",
       "    (0): Conv2d(1, 32, kernel_size=(5, 5), stride=(3, 3))\n",
       "    (1): ReLU()\n",
       "    (2): Conv2d(32, 64, kernel_size=(5, 5), stride=(3, 3))\n",
       "    (3): ReLU()\n",
       "  )\n",
       "  (out_layer): Linear(in_features=1600, out_features=10, bias=True)\n",
       ")"
      ]
     },
     "execution_count": 12,
     "metadata": {},
     "output_type": "execute_result"
    }
   ],
   "source": [
    "the_model = ConvNet()\n",
    "the_model.load_state_dict(torch.load(MODEL_NAME))\n",
    "the_model.to(DEVICE)"
   ]
  },
  {
   "cell_type": "code",
   "execution_count": 13,
   "id": "3076a6e8",
   "metadata": {},
   "outputs": [
    {
     "data": {
      "text/plain": [
       "False"
      ]
     },
     "execution_count": 13,
     "metadata": {},
     "output_type": "execute_result"
    }
   ],
   "source": [
    "classifier is the_model"
   ]
  },
  {
   "cell_type": "code",
   "execution_count": 14,
   "id": "57b4a85b",
   "metadata": {},
   "outputs": [
    {
     "data": {
      "text/plain": [
       "False"
      ]
     },
     "execution_count": 14,
     "metadata": {},
     "output_type": "execute_result"
    }
   ],
   "source": [
    "classifier == the_model"
   ]
  },
  {
   "cell_type": "code",
   "execution_count": 25,
   "id": "7181add1",
   "metadata": {},
   "outputs": [],
   "source": [
    "def test(model, test_loader):\n",
    "    correct = 0\n",
    "    total = 0\n",
    "    \n",
    "    for i, (images, labels) in enumerate(test_loader):\n",
    "        model.eval()\n",
    "\n",
    "        with torch.no_grad():\n",
    "            images = images.to(DEVICE)\n",
    "            labels = labels.to(DEVICE)\n",
    "\n",
    "            outputs = model(images)\n",
    "            _, predicted = torch.max(outputs, 1)\n",
    "            total += labels.size(0)\n",
    "            correct += (predicted == labels).long().sum().item()\n",
    "            \n",
    "    print('Test Accuracy: {0}'.format(100 * correct / total))"
   ]
  },
  {
   "cell_type": "code",
   "execution_count": 27,
   "id": "c26c5363",
   "metadata": {},
   "outputs": [
    {
     "name": "stdout",
     "output_type": "stream",
     "text": [
      "Test Accuracy: 29.07\n",
      "Test Accuracy: 29.07\n"
     ]
    }
   ],
   "source": [
    "test(classifier, test_loader)\n",
    "test(the_model, test_loader)"
   ]
  },
  {
   "cell_type": "code",
   "execution_count": 22,
   "id": "b089a630",
   "metadata": {},
   "outputs": [
    {
     "name": "stdout",
     "output_type": "stream",
     "text": [
      "Sequential(\n",
      "  (0): Conv2d(1, 32, kernel_size=(5, 5), stride=(3, 3))\n",
      "  (1): ReLU()\n",
      "  (2): Conv2d(32, 64, kernel_size=(5, 5), stride=(3, 3))\n",
      "  (3): ReLU()\n",
      ")\n"
     ]
    }
   ],
   "source": [
    "print(classifier.feature_layer)"
   ]
  },
  {
   "cell_type": "code",
   "execution_count": null,
   "id": "de4dc055",
   "metadata": {},
   "outputs": [],
   "source": [
    "# TODO: convert this into pytorch lightning model"
   ]
  }
 ],
 "metadata": {
  "kernelspec": {
   "display_name": "Python 3 (ipykernel)",
   "language": "python",
   "name": "python3"
  },
  "language_info": {
   "codemirror_mode": {
    "name": "ipython",
    "version": 3
   },
   "file_extension": ".py",
   "mimetype": "text/x-python",
   "name": "python",
   "nbconvert_exporter": "python",
   "pygments_lexer": "ipython3",
   "version": "3.7.13"
  }
 },
 "nbformat": 4,
 "nbformat_minor": 5
}
