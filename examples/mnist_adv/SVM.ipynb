{
 "cells": [
  {
   "cell_type": "code",
   "execution_count": 1,
   "id": "f39dbe71",
   "metadata": {},
   "outputs": [],
   "source": [
    "import torch, pickle, argparse\n",
    "import numpy as np, pytorch_lightning as pl, matplotlib.pyplot as plt, eagerpy as ep\n",
    "from models import ConvNet\n",
    "from data_loader import load_train_data, load_test_data\n",
    "from sklearn import svm\n",
    "from sklearn.metrics import accuracy_score\n",
    "from sklearn.linear_model import SGDClassifier\n",
    "from tqdm.notebook import tqdm"
   ]
  },
  {
   "cell_type": "code",
   "execution_count": 2,
   "id": "2b5e7cc5",
   "metadata": {},
   "outputs": [
    {
     "name": "stderr",
     "output_type": "stream",
     "text": [
      "GPU available: True, used: True\n",
      "TPU available: False, using: 0 TPU cores\n",
      "CUDA_VISIBLE_DEVICES: [0]\n"
     ]
    }
   ],
   "source": [
    "filename = 'first_tests.pickle'\n",
    "\n",
    "with open(filename, 'rb') as file:\n",
    "    loaded = pickle.load(file)\n",
    "    \n",
    "data = np.array(loaded[0][0]).reshape(3,6,3,2)\n",
    "hparams = argparse.Namespace(**data[2,-1,1,1])\n",
    "\n",
    "\n",
    "TEST_PATH = \"s2_mnist.gz\"\n",
    "TRAIN_PATH = \"s2_mnist_train_dwr_20000.gz\"\n",
    "\n",
    "train_data = load_train_data(TRAIN_PATH)\n",
    "test_data = load_test_data(TEST_PATH)\n",
    "\n",
    "train_images = train_data[:][0]\n",
    "train_labels = train_data[:][1]\n",
    "\n",
    "test_images = test_data[:][0]\n",
    "test_labels = test_data[:][1]\n",
    "\n",
    "\n",
    "model = ConvNet(hparams, train_data, test_data).eval()\n",
    "trainer = pl.Trainer(gpus=1, logger=False)\n",
    "best_model = torch.load('checkpoints/epoch=17_v6.ckpt')\n",
    "model.load_state_dict(best_model['state_dict'])\n",
    "orig_model_acc = best_model['checkpoint_callback_best_model_score']\n",
    "\n",
    "# drop dense part:\n",
    "model.dense = torch.nn.Identity()"
   ]
  },
  {
   "cell_type": "code",
   "execution_count": 3,
   "id": "3f71703b",
   "metadata": {},
   "outputs": [
    {
     "data": {
      "text/plain": [
       "ConvNet(\n",
       "  (loss_function): CrossEntropyLoss()\n",
       "  (conv): Sequential(\n",
       "    (0): Conv2d(1, 12, kernel_size=(3, 3), stride=(1, 1))\n",
       "    (1): ReLU()\n",
       "    (2): Conv2d(12, 15, kernel_size=(5, 5), stride=(1, 1))\n",
       "    (3): ReLU()\n",
       "    (4): Conv2d(15, 16, kernel_size=(3, 3), stride=(1, 1))\n",
       "    (5): ReLU()\n",
       "    (6): Conv2d(16, 85, kernel_size=(7, 7), stride=(2, 2))\n",
       "    (7): ReLU()\n",
       "    (8): Conv2d(85, 141, kernel_size=(5, 5), stride=(1, 1))\n",
       "    (9): ReLU()\n",
       "    (10): Conv2d(141, 191, kernel_size=(3, 3), stride=(1, 1))\n",
       "    (11): ReLU()\n",
       "    (12): Conv2d(191, 1100, kernel_size=(3, 3), stride=(2, 2))\n",
       "    (13): ReLU()\n",
       "  )\n",
       "  (dense): Identity()\n",
       ")"
      ]
     },
     "execution_count": 3,
     "metadata": {},
     "output_type": "execute_result"
    }
   ],
   "source": [
    "model"
   ]
  },
  {
   "cell_type": "code",
   "execution_count": 3,
   "id": "16820f8b",
   "metadata": {},
   "outputs": [],
   "source": [
    "n_samples = len(train_images)\n",
    "bs = 10000"
   ]
  },
  {
   "cell_type": "code",
   "execution_count": 4,
   "id": "e8764803",
   "metadata": {},
   "outputs": [
    {
     "data": {
      "application/vnd.jupyter.widget-view+json": {
       "model_id": "8badfb5a4b254b1884e24543d4058392",
       "version_major": 2,
       "version_minor": 0
      },
      "text/plain": [
       "  0%|          | 0/2 [00:00<?, ?it/s]"
      ]
     },
     "metadata": {},
     "output_type": "display_data"
    }
   ],
   "source": [
    "with tqdm(total=n_samples//bs) as pbar:\n",
    "    output_conv_train = model(train_images[:bs]).detach()\n",
    "    pbar.update(1)\n",
    "\n",
    "    for i in range(1,n_samples//bs):\n",
    "        dummy_output_conv_train = model(train_images[bs*i:bs*(i+1)]).detach()\n",
    "        output_conv_train = torch.cat((output_conv_train, dummy_output_conv_train), axis=0)\n",
    "        pbar.update(1)"
   ]
  },
  {
   "cell_type": "code",
   "execution_count": 3,
   "id": "3bb8a048",
   "metadata": {},
   "outputs": [],
   "source": [
    "output_conv_test = model(test_images).detach()"
   ]
  },
  {
   "cell_type": "code",
   "execution_count": 20,
   "id": "58230cc1",
   "metadata": {},
   "outputs": [],
   "source": [
    "clf = SGDClassifier()"
   ]
  },
  {
   "cell_type": "code",
   "execution_count": 12,
   "id": "9f21bbb9",
   "metadata": {},
   "outputs": [],
   "source": [
    "n_samples = len(train_images)\n",
    "bs = 100\n",
    "eps = 0\n",
    "patience = 5\n",
    "max_iterations = 100\n",
    "\n",
    "assert n_samples % bs == 0, f'The batch size ({bs}) must be a divisor of number of samples ({n_samples}).'"
   ]
  },
  {
   "cell_type": "markdown",
   "id": "1154f05c",
   "metadata": {},
   "source": [
    "train also on test_data only"
   ]
  },
  {
   "cell_type": "code",
   "execution_count": 19,
   "id": "12f3d049",
   "metadata": {},
   "outputs": [],
   "source": [
    "def train_SGD_clf(clf, output_conv_train, train_labels, output_conv_test, test_labels, bs,\n",
    "                  patience=10, eps=0., max_iterations=100):\n",
    "    \n",
    "    classes = np.unique(train_labels)\n",
    "    accs = []\n",
    "    max_acc = -eps\n",
    "    pat_counter = 0\n",
    "\n",
    "    for iteration in tqdm(range(max_iterations)):\n",
    "\n",
    "        for i in range(n_samples//bs):\n",
    "            clf.partial_fit(output_conv_train[bs*i:bs*(i+1)], train_labels[bs*i:bs*(i+1)], classes=classes)\n",
    "\n",
    "        accs.append(clf.score(output_conv_test, test_labels))\n",
    "\n",
    "        if accs[-1] > max_acc + eps:\n",
    "            max_acc = accs[-1]\n",
    "            pat_counter = 0\n",
    "            best_coef = clf.coef_.copy()\n",
    "\n",
    "        else:\n",
    "            pat_counter +=1\n",
    "\n",
    "            if pat_counter >= patience:\n",
    "                clf.coef_ = best_coef.copy()\n",
    "                break\n",
    "\n",
    "    if pat_counter < patience:\n",
    "        clf.coef_ = best_coef.copy()\n",
    "        \n",
    "    return accs"
   ]
  },
  {
   "cell_type": "code",
   "execution_count": 21,
   "id": "eeffe2b7",
   "metadata": {
    "scrolled": true
   },
   "outputs": [
    {
     "data": {
      "application/vnd.jupyter.widget-view+json": {
       "model_id": "e18441d711024fb894f0df8ebdce96e9",
       "version_major": 2,
       "version_minor": 0
      },
      "text/plain": [
       "  0%|          | 0/100 [00:00<?, ?it/s]"
      ]
     },
     "metadata": {},
     "output_type": "display_data"
    },
    {
     "data": {
      "application/vnd.jupyter.widget-view+json": {
       "model_id": "609734d81fb840a59e9f55b44d62d40a",
       "version_major": 2,
       "version_minor": 0
      },
      "text/plain": [
       "  0%|          | 0/200 [00:00<?, ?it/s]"
      ]
     },
     "metadata": {},
     "output_type": "display_data"
    },
    {
     "data": {
      "application/vnd.jupyter.widget-view+json": {
       "model_id": "4d48e9cd1bef482b966f859bea8098d6",
       "version_major": 2,
       "version_minor": 0
      },
      "text/plain": [
       "  0%|          | 0/200 [00:00<?, ?it/s]"
      ]
     },
     "metadata": {},
     "output_type": "display_data"
    },
    {
     "data": {
      "application/vnd.jupyter.widget-view+json": {
       "model_id": "92c16b6c7a504ef1a4e0dfeb3e39bc4f",
       "version_major": 2,
       "version_minor": 0
      },
      "text/plain": [
       "  0%|          | 0/200 [00:00<?, ?it/s]"
      ]
     },
     "metadata": {},
     "output_type": "display_data"
    },
    {
     "data": {
      "application/vnd.jupyter.widget-view+json": {
       "model_id": "c0fd83e2e15d4dbeaa7f2cec8ece6efc",
       "version_major": 2,
       "version_minor": 0
      },
      "text/plain": [
       "  0%|          | 0/200 [00:00<?, ?it/s]"
      ]
     },
     "metadata": {},
     "output_type": "display_data"
    },
    {
     "data": {
      "application/vnd.jupyter.widget-view+json": {
       "model_id": "d1552e7d6dd64495b9e4c6fe9d36b0ef",
       "version_major": 2,
       "version_minor": 0
      },
      "text/plain": [
       "  0%|          | 0/200 [00:00<?, ?it/s]"
      ]
     },
     "metadata": {},
     "output_type": "display_data"
    },
    {
     "data": {
      "application/vnd.jupyter.widget-view+json": {
       "model_id": "b9882309d535493c89f810e96e83a3c9",
       "version_major": 2,
       "version_minor": 0
      },
      "text/plain": [
       "  0%|          | 0/200 [00:00<?, ?it/s]"
      ]
     },
     "metadata": {},
     "output_type": "display_data"
    },
    {
     "data": {
      "application/vnd.jupyter.widget-view+json": {
       "model_id": "927746f082a442d0b1e387e7efd1ef06",
       "version_major": 2,
       "version_minor": 0
      },
      "text/plain": [
       "  0%|          | 0/200 [00:00<?, ?it/s]"
      ]
     },
     "metadata": {},
     "output_type": "display_data"
    },
    {
     "data": {
      "application/vnd.jupyter.widget-view+json": {
       "model_id": "28c1fe1b227142968b37c89a671430f1",
       "version_major": 2,
       "version_minor": 0
      },
      "text/plain": [
       "  0%|          | 0/200 [00:00<?, ?it/s]"
      ]
     },
     "metadata": {},
     "output_type": "display_data"
    },
    {
     "data": {
      "application/vnd.jupyter.widget-view+json": {
       "model_id": "f6ae1ebcb6714d1383f19d07d242ff53",
       "version_major": 2,
       "version_minor": 0
      },
      "text/plain": [
       "  0%|          | 0/200 [00:00<?, ?it/s]"
      ]
     },
     "metadata": {},
     "output_type": "display_data"
    },
    {
     "data": {
      "application/vnd.jupyter.widget-view+json": {
       "model_id": "0e6882ba172f4fddb2abdaa88333472f",
       "version_major": 2,
       "version_minor": 0
      },
      "text/plain": [
       "  0%|          | 0/200 [00:00<?, ?it/s]"
      ]
     },
     "metadata": {},
     "output_type": "display_data"
    },
    {
     "data": {
      "application/vnd.jupyter.widget-view+json": {
       "model_id": "17a130eb53064d8b886ade965b930a25",
       "version_major": 2,
       "version_minor": 0
      },
      "text/plain": [
       "  0%|          | 0/200 [00:00<?, ?it/s]"
      ]
     },
     "metadata": {},
     "output_type": "display_data"
    },
    {
     "data": {
      "application/vnd.jupyter.widget-view+json": {
       "model_id": "272b5930a6c14f85867eda84f87580c0",
       "version_major": 2,
       "version_minor": 0
      },
      "text/plain": [
       "  0%|          | 0/200 [00:00<?, ?it/s]"
      ]
     },
     "metadata": {},
     "output_type": "display_data"
    },
    {
     "data": {
      "application/vnd.jupyter.widget-view+json": {
       "model_id": "da7c1181c2f646dd8a619b22ed848525",
       "version_major": 2,
       "version_minor": 0
      },
      "text/plain": [
       "  0%|          | 0/200 [00:00<?, ?it/s]"
      ]
     },
     "metadata": {},
     "output_type": "display_data"
    },
    {
     "data": {
      "application/vnd.jupyter.widget-view+json": {
       "model_id": "8005b30399794530bda3a2fd1ae3c3d7",
       "version_major": 2,
       "version_minor": 0
      },
      "text/plain": [
       "  0%|          | 0/200 [00:00<?, ?it/s]"
      ]
     },
     "metadata": {},
     "output_type": "display_data"
    },
    {
     "data": {
      "application/vnd.jupyter.widget-view+json": {
       "model_id": "0a67942ca9a1492391d28b746abe4d90",
       "version_major": 2,
       "version_minor": 0
      },
      "text/plain": [
       "  0%|          | 0/200 [00:00<?, ?it/s]"
      ]
     },
     "metadata": {},
     "output_type": "display_data"
    },
    {
     "data": {
      "application/vnd.jupyter.widget-view+json": {
       "model_id": "3a2e558b189543ea9fe0427dc1a73156",
       "version_major": 2,
       "version_minor": 0
      },
      "text/plain": [
       "  0%|          | 0/200 [00:00<?, ?it/s]"
      ]
     },
     "metadata": {},
     "output_type": "display_data"
    },
    {
     "data": {
      "application/vnd.jupyter.widget-view+json": {
       "model_id": "e81330a313d847c9aa2b44be2569bb9b",
       "version_major": 2,
       "version_minor": 0
      },
      "text/plain": [
       "  0%|          | 0/200 [00:00<?, ?it/s]"
      ]
     },
     "metadata": {},
     "output_type": "display_data"
    },
    {
     "data": {
      "application/vnd.jupyter.widget-view+json": {
       "model_id": "3b4d13d462fc4d31b0ca0234d15d4698",
       "version_major": 2,
       "version_minor": 0
      },
      "text/plain": [
       "  0%|          | 0/200 [00:00<?, ?it/s]"
      ]
     },
     "metadata": {},
     "output_type": "display_data"
    },
    {
     "data": {
      "application/vnd.jupyter.widget-view+json": {
       "model_id": "cc98ff47a33c42fdb062898f4cbc19a6",
       "version_major": 2,
       "version_minor": 0
      },
      "text/plain": [
       "  0%|          | 0/200 [00:00<?, ?it/s]"
      ]
     },
     "metadata": {},
     "output_type": "display_data"
    },
    {
     "data": {
      "application/vnd.jupyter.widget-view+json": {
       "model_id": "a61e0c16fb5b41bdac1163f9f26b7c15",
       "version_major": 2,
       "version_minor": 0
      },
      "text/plain": [
       "  0%|          | 0/200 [00:00<?, ?it/s]"
      ]
     },
     "metadata": {},
     "output_type": "display_data"
    },
    {
     "data": {
      "application/vnd.jupyter.widget-view+json": {
       "model_id": "62818f64111149c1ab5e6c48d6ebb3a5",
       "version_major": 2,
       "version_minor": 0
      },
      "text/plain": [
       "  0%|          | 0/200 [00:00<?, ?it/s]"
      ]
     },
     "metadata": {},
     "output_type": "display_data"
    },
    {
     "data": {
      "application/vnd.jupyter.widget-view+json": {
       "model_id": "9c6f141fffc94226b9ecbc923ced007b",
       "version_major": 2,
       "version_minor": 0
      },
      "text/plain": [
       "  0%|          | 0/200 [00:00<?, ?it/s]"
      ]
     },
     "metadata": {},
     "output_type": "display_data"
    },
    {
     "data": {
      "application/vnd.jupyter.widget-view+json": {
       "model_id": "5941b1d4f82f4bfa907a4366e1be1d87",
       "version_major": 2,
       "version_minor": 0
      },
      "text/plain": [
       "  0%|          | 0/200 [00:00<?, ?it/s]"
      ]
     },
     "metadata": {},
     "output_type": "display_data"
    },
    {
     "data": {
      "application/vnd.jupyter.widget-view+json": {
       "model_id": "518ce2d050cb40cd9a5e7ad5744ad3d7",
       "version_major": 2,
       "version_minor": 0
      },
      "text/plain": [
       "  0%|          | 0/200 [00:00<?, ?it/s]"
      ]
     },
     "metadata": {},
     "output_type": "display_data"
    },
    {
     "data": {
      "application/vnd.jupyter.widget-view+json": {
       "model_id": "b46c575ecbd8423083f31cae98b629ca",
       "version_major": 2,
       "version_minor": 0
      },
      "text/plain": [
       "  0%|          | 0/200 [00:00<?, ?it/s]"
      ]
     },
     "metadata": {},
     "output_type": "display_data"
    },
    {
     "data": {
      "application/vnd.jupyter.widget-view+json": {
       "model_id": "00ca9d5091df4d2a80122148a0222f3a",
       "version_major": 2,
       "version_minor": 0
      },
      "text/plain": [
       "  0%|          | 0/200 [00:00<?, ?it/s]"
      ]
     },
     "metadata": {},
     "output_type": "display_data"
    }
   ],
   "source": [
    "accs = train_SGD_clf(clf, output_conv_train, train_labels, output_conv_test, test_labels, bs)"
   ]
  },
  {
   "cell_type": "code",
   "execution_count": 25,
   "id": "965287b4",
   "metadata": {},
   "outputs": [
    {
     "name": "stdout",
     "output_type": "stream",
     "text": [
      "[0.9264, 0.9338, 0.9347, 0.9038, 0.9192, 0.8819, 0.9524, 0.9536, 0.9468, 0.9449, 0.9376, 0.9389, 0.9365, 0.9416, 0.9354, 0.9545, 0.92, 0.9462, 0.9401, 0.9435, 0.9384, 0.9443, 0.9341, 0.9418, 0.9263, 0.9401] \n",
      "\n",
      "0.9545\n"
     ]
    }
   ],
   "source": [
    "print(accs, '\\n')\n",
    "print(clf.score(output_conv_test, test_labels))"
   ]
  },
  {
   "cell_type": "code",
   "execution_count": null,
   "id": "2d7e0538",
   "metadata": {},
   "outputs": [],
   "source": [
    "# set_params(**params)"
   ]
  },
  {
   "cell_type": "code",
   "execution_count": 26,
   "id": "6a1a1ffc",
   "metadata": {},
   "outputs": [
    {
     "data": {
      "text/plain": [
       "0.9868"
      ]
     },
     "execution_count": 26,
     "metadata": {},
     "output_type": "execute_result"
    }
   ],
   "source": [
    "clf = SGDClassifier()\n",
    "clf.fit(output_conv_test, test_labels)\n",
    "clf_output = torch.Tensor(clf.predict(output_conv_test))\n",
    "accuracy_score(clf_output, test_labels)"
   ]
  },
  {
   "cell_type": "code",
   "execution_count": 4,
   "id": "d5401e46",
   "metadata": {},
   "outputs": [
    {
     "name": "stderr",
     "output_type": "stream",
     "text": [
      "/media/data/schuh/conda_envs/envs/s2cnn_j/lib/python3.7/site-packages/sklearn/svm/_base.py:1208: ConvergenceWarning: Liblinear failed to converge, increase the number of iterations.\n",
      "  ConvergenceWarning,\n"
     ]
    },
    {
     "data": {
      "text/plain": [
       "0.9999"
      ]
     },
     "execution_count": 4,
     "metadata": {},
     "output_type": "execute_result"
    }
   ],
   "source": [
    "linSVM = svm.LinearSVC()\n",
    "linSVM.fit(output_conv_test, test_labels)\n",
    "svm_output = torch.Tensor(linSVM.predict(output_conv_test))\n",
    "accuracy_score(svm_output, test_labels)"
   ]
  },
  {
   "cell_type": "markdown",
   "id": "67a39e5d",
   "metadata": {},
   "source": [
    "|                    | train_samples | test_accuracy |\n",
    "|--------------------|---------------|---------------|\n",
    "| svm                | 10000         | 0.9377        |\n",
    "| SGD                | 10000         | 0.948         |\n",
    "| svm (loss='hinge') | 10000         | 0.9376        |\n",
    "| SGD (tol=0.0001)   | 10000         | 0.0199        |\n",
    "| SGD                | 20000         | 0.9545        |"
   ]
  },
  {
   "cell_type": "markdown",
   "id": "ae23f282",
   "metadata": {},
   "source": [
    "SGD fitted on the test data: test_accuracy = 0.9868\n",
    "linSVM fitted on the test data: test_accuracy = 0.9999"
   ]
  },
  {
   "cell_type": "markdown",
   "id": "c6d05ef1",
   "metadata": {},
   "source": [
    "Should I implement standardization before the classifier?\n",
    "\n",
    "I will use SGDClassifier. With loss='hinge', which is the standard, this fits a (linear) SVM (i.e. without kernels), but since it is Stochastic Gradient Descent, one can use batch training."
   ]
  },
  {
   "cell_type": "code",
   "execution_count": null,
   "id": "5db0979a",
   "metadata": {},
   "outputs": [],
   "source": []
  }
 ],
 "metadata": {
  "kernelspec": {
   "display_name": "Python 3 (ipykernel)",
   "language": "python",
   "name": "python3"
  },
  "language_info": {
   "codemirror_mode": {
    "name": "ipython",
    "version": 3
   },
   "file_extension": ".py",
   "mimetype": "text/x-python",
   "name": "python",
   "nbconvert_exporter": "python",
   "pygments_lexer": "ipython3",
   "version": "3.7.13"
  }
 },
 "nbformat": 4,
 "nbformat_minor": 5
}
