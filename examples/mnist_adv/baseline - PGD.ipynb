{
 "cells": [
  {
   "cell_type": "code",
   "execution_count": 1,
   "id": "752be26c",
   "metadata": {},
   "outputs": [],
   "source": [
    "import torch, pickle, argparse, os, warnings, copy, time, mlflow\n",
    "import numpy as np, pytorch_lightning as pl, matplotlib.pyplot as plt, eagerpy as ep\n",
    "from models import ConvNet\n",
    "from data_loader import load_test_data\n",
    "from foolbox import PyTorchModel\n",
    "from foolbox.attacks import LinfProjectedGradientDescentAttack\n",
    "from foolbox.attacks.base import Repeated\n",
    "from tqdm.notebook import tqdm\n",
    "from attack_helper import run_batched_attack_cpu, batched_accuracy, batched_predictions, batched_predictions_eps, save_pickle, batched_logits_eps\n",
    "from mlflow.tracking.artifact_utils import get_artifact_uri"
   ]
  },
  {
   "cell_type": "code",
   "execution_count": 2,
   "id": "059d822e",
   "metadata": {},
   "outputs": [],
   "source": [
    "tracking_uri = 'sqlite:///mlruns/database.db'\n",
    "mlflow.set_tracking_uri(tracking_uri)\n",
    "df=mlflow.search_runs(experiment_names=['model_training'])\n",
    "run_id=df[df['tags.mlflow.runName']==str(1668278801)]['run_id'].values[0]\n",
    "artifact_path = get_artifact_uri(run_id=run_id, tracking_uri=tracking_uri)\n",
    "dirs=os.listdir(artifact_path)\n",
    "\n",
    "for s in dirs:\n",
    "    if s.find('.ckpt') >= 0:\n",
    "        checkpoint = s\n",
    "        break\n",
    "\n",
    "checkpoint_path = os.path.join(artifact_path, checkpoint)\n",
    "\n",
    "best_model = torch.load(checkpoint_path)\n",
    "hparams = argparse.Namespace(**best_model['hyper_parameters'])\n",
    "model = ConvNet(hparams, None, None).eval()\n",
    "model.load_state_dict(best_model['state_dict'])\n",
    "\n",
    "\n",
    "TEST_PATH = \"s2_mnist_cs1.gz\"\n",
    "test_data = load_test_data(TEST_PATH)"
   ]
  },
  {
   "cell_type": "code",
   "execution_count": 3,
   "id": "b6fae7fc",
   "metadata": {},
   "outputs": [],
   "source": [
    "# total = 10000\n",
    "# bs = 100\n",
    "\n",
    "total = 6\n",
    "bs = 2\n",
    "\n",
    "images = test_data[:total][0]\n",
    "labels = test_data[:total][1]\n",
    "\n",
    "fmodel = PyTorchModel(model, bounds=(0, 255))"
   ]
  },
  {
   "cell_type": "code",
   "execution_count": 4,
   "id": "f532b0e1",
   "metadata": {},
   "outputs": [
    {
     "data": {
      "application/vnd.jupyter.widget-view+json": {
       "model_id": "9e56960e5c8a4116b96e505ababf50e3",
       "version_major": 2,
       "version_minor": 0
      },
      "text/plain": [
       "  0%|          | 0/3 [00:00<?, ?it/s]"
      ]
     },
     "metadata": {},
     "output_type": "display_data"
    }
   ],
   "source": [
    "clean_pred = batched_predictions(model, images, bs)"
   ]
  },
  {
   "cell_type": "code",
   "execution_count": 5,
   "id": "d50cc69a",
   "metadata": {},
   "outputs": [],
   "source": [
    "epsilons = [0, 0.1, 0.25, 0.5, 1, 3, 5, 7.5, 10]\n",
    "rel_stepsize = 0.01/0.3\n",
    "steps = 70\n",
    "random_start=True\n",
    "n_repeat = 3\n",
    "\n",
    "attack = Repeated(attack=LinfProjectedGradientDescentAttack(rel_stepsize=rel_stepsize, steps=steps, random_start=random_start), times=n_repeat)"
   ]
  },
  {
   "cell_type": "code",
   "execution_count": 6,
   "id": "1a096841",
   "metadata": {},
   "outputs": [
    {
     "data": {
      "application/vnd.jupyter.widget-view+json": {
       "model_id": "d758a8e3a90743508dbcba1982fea0c8",
       "version_major": 2,
       "version_minor": 0
      },
      "text/plain": [
       "  0%|          | 0/3 [00:00<?, ?it/s]"
      ]
     },
     "metadata": {},
     "output_type": "display_data"
    }
   ],
   "source": [
    "_, advs, success = run_batched_attack_cpu(attack, fmodel, images, clean_pred, epsilons, bs)\n",
    "advs = torch.stack(advs)"
   ]
  },
  {
   "cell_type": "code",
   "execution_count": 7,
   "id": "02189235",
   "metadata": {},
   "outputs": [
    {
     "data": {
      "application/vnd.jupyter.widget-view+json": {
       "model_id": "65a9eeade9f2477ea85dbfeec8baa810",
       "version_major": 2,
       "version_minor": 0
      },
      "text/plain": [
       "  0%|          | 0/3 [00:00<?, ?it/s]"
      ]
     },
     "metadata": {},
     "output_type": "display_data"
    },
    {
     "data": {
      "application/vnd.jupyter.widget-view+json": {
       "model_id": "f0c514c3099c4e3cab586db5dd2a80e7",
       "version_major": 2,
       "version_minor": 0
      },
      "text/plain": [
       "  0%|          | 0/3 [00:00<?, ?it/s]"
      ]
     },
     "metadata": {},
     "output_type": "display_data"
    },
    {
     "data": {
      "application/vnd.jupyter.widget-view+json": {
       "model_id": "60389f2c12c943c183d9785d93bff8dc",
       "version_major": 2,
       "version_minor": 0
      },
      "text/plain": [
       "  0%|          | 0/3 [00:00<?, ?it/s]"
      ]
     },
     "metadata": {},
     "output_type": "display_data"
    },
    {
     "data": {
      "application/vnd.jupyter.widget-view+json": {
       "model_id": "88bba5f370dd4364b1d3606746ec62a9",
       "version_major": 2,
       "version_minor": 0
      },
      "text/plain": [
       "  0%|          | 0/3 [00:00<?, ?it/s]"
      ]
     },
     "metadata": {},
     "output_type": "display_data"
    },
    {
     "data": {
      "application/vnd.jupyter.widget-view+json": {
       "model_id": "dc663d8c330e4d31b2de1a5c2dbbf4cc",
       "version_major": 2,
       "version_minor": 0
      },
      "text/plain": [
       "  0%|          | 0/3 [00:00<?, ?it/s]"
      ]
     },
     "metadata": {},
     "output_type": "display_data"
    },
    {
     "data": {
      "application/vnd.jupyter.widget-view+json": {
       "model_id": "8dc51904684b48a0b0acce679ec18d86",
       "version_major": 2,
       "version_minor": 0
      },
      "text/plain": [
       "  0%|          | 0/3 [00:00<?, ?it/s]"
      ]
     },
     "metadata": {},
     "output_type": "display_data"
    },
    {
     "data": {
      "application/vnd.jupyter.widget-view+json": {
       "model_id": "1409ec467dd44140b5b3a871a474816c",
       "version_major": 2,
       "version_minor": 0
      },
      "text/plain": [
       "  0%|          | 0/3 [00:00<?, ?it/s]"
      ]
     },
     "metadata": {},
     "output_type": "display_data"
    },
    {
     "data": {
      "application/vnd.jupyter.widget-view+json": {
       "model_id": "4a0ec0178fe74281903fb1acd1413d79",
       "version_major": 2,
       "version_minor": 0
      },
      "text/plain": [
       "  0%|          | 0/3 [00:00<?, ?it/s]"
      ]
     },
     "metadata": {},
     "output_type": "display_data"
    },
    {
     "data": {
      "application/vnd.jupyter.widget-view+json": {
       "model_id": "42393acd498f43a6a0c13ec0a8233e9c",
       "version_major": 2,
       "version_minor": 0
      },
      "text/plain": [
       "  0%|          | 0/3 [00:00<?, ?it/s]"
      ]
     },
     "metadata": {},
     "output_type": "display_data"
    },
    {
     "data": {
      "application/vnd.jupyter.widget-view+json": {
       "model_id": "304d7a7904ed47b59a48b55e67c56aeb",
       "version_major": 2,
       "version_minor": 0
      },
      "text/plain": [
       "  0%|          | 0/3 [00:00<?, ?it/s]"
      ]
     },
     "metadata": {},
     "output_type": "display_data"
    },
    {
     "data": {
      "application/vnd.jupyter.widget-view+json": {
       "model_id": "77ff906cc82544b6b4773988e788d44f",
       "version_major": 2,
       "version_minor": 0
      },
      "text/plain": [
       "  0%|          | 0/3 [00:00<?, ?it/s]"
      ]
     },
     "metadata": {},
     "output_type": "display_data"
    },
    {
     "data": {
      "application/vnd.jupyter.widget-view+json": {
       "model_id": "973de206376445a395b17aacd7733ab5",
       "version_major": 2,
       "version_minor": 0
      },
      "text/plain": [
       "  0%|          | 0/3 [00:00<?, ?it/s]"
      ]
     },
     "metadata": {},
     "output_type": "display_data"
    },
    {
     "data": {
      "application/vnd.jupyter.widget-view+json": {
       "model_id": "63991c82070a477fb2a4f19356e662a9",
       "version_major": 2,
       "version_minor": 0
      },
      "text/plain": [
       "  0%|          | 0/3 [00:00<?, ?it/s]"
      ]
     },
     "metadata": {},
     "output_type": "display_data"
    },
    {
     "data": {
      "application/vnd.jupyter.widget-view+json": {
       "model_id": "35d351270e56485b84ba81fbcf2eec39",
       "version_major": 2,
       "version_minor": 0
      },
      "text/plain": [
       "  0%|          | 0/3 [00:00<?, ?it/s]"
      ]
     },
     "metadata": {},
     "output_type": "display_data"
    },
    {
     "data": {
      "application/vnd.jupyter.widget-view+json": {
       "model_id": "e462b852deaa4f1093585ce0d6edc9c7",
       "version_major": 2,
       "version_minor": 0
      },
      "text/plain": [
       "  0%|          | 0/3 [00:00<?, ?it/s]"
      ]
     },
     "metadata": {},
     "output_type": "display_data"
    },
    {
     "data": {
      "application/vnd.jupyter.widget-view+json": {
       "model_id": "7f30e1b6b6244a82b2f32302c070a57e",
       "version_major": 2,
       "version_minor": 0
      },
      "text/plain": [
       "  0%|          | 0/3 [00:00<?, ?it/s]"
      ]
     },
     "metadata": {},
     "output_type": "display_data"
    },
    {
     "data": {
      "application/vnd.jupyter.widget-view+json": {
       "model_id": "f3e4758b6f054e628a2af7759a919a47",
       "version_major": 2,
       "version_minor": 0
      },
      "text/plain": [
       "  0%|          | 0/3 [00:00<?, ?it/s]"
      ]
     },
     "metadata": {},
     "output_type": "display_data"
    },
    {
     "data": {
      "application/vnd.jupyter.widget-view+json": {
       "model_id": "3337e38d4b4a4539ad58d7844f706023",
       "version_major": 2,
       "version_minor": 0
      },
      "text/plain": [
       "  0%|          | 0/3 [00:00<?, ?it/s]"
      ]
     },
     "metadata": {},
     "output_type": "display_data"
    }
   ],
   "source": [
    "success_rate = ep.astensor(success).float32().mean(axis=-1).raw\n",
    "adv_pred = batched_predictions_eps(model, advs, bs)\n",
    "logits = batched_logits_eps(model, advs, bs)"
   ]
  },
  {
   "cell_type": "code",
   "execution_count": null,
   "id": "786dbce3",
   "metadata": {},
   "outputs": [],
   "source": [
    "imgs = advs[:,labels == 0][:,:10]\n",
    "for i in range(1,10):\n",
    "    imgs = torch.cat((imgs, advs[:,labels == i][:,:10]), 1)\n",
    "    \n",
    "preds = adv_pred[:,labels == 0][:,:10]\n",
    "for i in range(1,10):\n",
    "    preds = torch.cat((preds, adv_pred[:,labels == i][:,:10]), 1)\n",
    "    \n",
    "c_preds = clean_pred[labels == 0][:10]\n",
    "for i in range(1,10):\n",
    "    c_preds = torch.cat((c_preds, clean_pred[labels == i][:10]))\n",
    "    \n",
    "labs = labels[labels == 0][:10]\n",
    "for i in range(1,10):\n",
    "    labs = torch.cat((labs, labels[labels == i][:10]))"
   ]
  },
  {
   "cell_type": "code",
   "execution_count": null,
   "id": "92cb3b6d",
   "metadata": {},
   "outputs": [],
   "source": [
    "save_path = os.path.join(artifact_path, attack.attack.__class__.__name__)\n",
    "\n",
    "if not os.path.isdir(save_path):\n",
    "    os.mkdir(save_path)"
   ]
  },
  {
   "cell_type": "code",
   "execution_count": null,
   "id": "83eb0ab6",
   "metadata": {},
   "outputs": [],
   "source": [
    "save_pickle(save_path, 'images.pickle', [imgs, preds, c_preds, labs])\n",
    "save_pickle(save_path, 'success.pickle', success)\n",
    "save_pickle(save_path, 'success_rate.pickle', success_rate)\n",
    "save_pickle(save_path, 'post_pred.pickle', adv_pred)\n",
    "save_pickle(save_path, 'params.pickle', {'epsilons': epsilons, 'rel_stepsize': rel_stepsize, 'steps': steps, 'random_start': random_start, 'n_repeat': n_repeat})\n",
    "save_pickle(save_path, 'logits.pickle', logits)"
   ]
  },
  {
   "cell_type": "code",
   "execution_count": null,
   "id": "e29fb668",
   "metadata": {},
   "outputs": [],
   "source": []
  }
 ],
 "metadata": {
  "kernelspec": {
   "display_name": "Python 3 (ipykernel)",
   "language": "python",
   "name": "python3"
  },
  "language_info": {
   "codemirror_mode": {
    "name": "ipython",
    "version": 3
   },
   "file_extension": ".py",
   "mimetype": "text/x-python",
   "name": "python",
   "nbconvert_exporter": "python",
   "pygments_lexer": "ipython3",
   "version": "3.7.13"
  }
 },
 "nbformat": 4,
 "nbformat_minor": 5
}
