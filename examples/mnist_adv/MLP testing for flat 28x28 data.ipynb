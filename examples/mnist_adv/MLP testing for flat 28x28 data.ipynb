{
 "cells": [
  {
   "cell_type": "code",
   "execution_count": 1,
   "id": "0d03435b",
   "metadata": {},
   "outputs": [],
   "source": [
    "import torch, os, argparse, warnings, copy\n",
    "import pytorch_lightning as pl\n",
    "from tqdm.notebook import tqdm\n",
    "from data_loader import load_train_data, load_test_data\n",
    "from models import CConvNet, S2ConvNet, MLP"
   ]
  },
  {
   "cell_type": "code",
   "execution_count": 2,
   "id": "7f8a7ab5",
   "metadata": {},
   "outputs": [],
   "source": [
    "TRAIN_SAMPLES = 20000\n",
    "MAX_EPOCHS = 10\n",
    "# MAX_EPOCHS = 3\n",
    "\n",
    "TRAIN_PATH = \"flat_mnist_train_28x28_\" + str(TRAIN_SAMPLES) + \".gz\"\n",
    "TEST_PATH = \"flat_mnist_test_28x28.gz\""
   ]
  },
  {
   "cell_type": "code",
   "execution_count": 3,
   "id": "7544e3be",
   "metadata": {},
   "outputs": [],
   "source": [
    "train_data, test_data = load_train_data(TRAIN_PATH), load_train_data(TEST_PATH)"
   ]
  },
  {
   "cell_type": "code",
   "execution_count": 4,
   "id": "231845a5",
   "metadata": {},
   "outputs": [
    {
     "name": "stdout",
     "output_type": "stream",
     "text": [
      "Total training examples: 20000\n",
      "Total test examples: 10000\n"
     ]
    }
   ],
   "source": [
    "print(\"Total training examples: {}\".format(len(train_data)))\n",
    "print(\"Total test examples: {}\".format(len(test_data)))"
   ]
  },
  {
   "cell_type": "code",
   "execution_count": 5,
   "id": "95d9047f",
   "metadata": {},
   "outputs": [],
   "source": [
    "# hparams = argparse.Namespace()\n",
    "\n",
    "# hparams.name = 'test_model'\n",
    "# hparams.train_batch_size = 32\n",
    "# hparams.test_batch_size = 32\n",
    "# hparams.num_workers = 0\n",
    "# hparams.lr = 1e-3\n",
    "# hparams.weight_decay = 0.\n",
    "\n",
    "# hparams.channels = [16, 24, 32, 64]\n",
    "# hparams.kernels = [3, 3, 3, 3]\n",
    "# hparams.strides = [1, 1, 1, 1]\n",
    "# hparams.activation_fn = 'LeakyReLU'\n",
    "# hparams.batch_norm = True\n",
    "# hparams.nodes = [64, 32]"
   ]
  },
  {
   "cell_type": "code",
   "execution_count": 6,
   "id": "c01afb3d",
   "metadata": {},
   "outputs": [
    {
     "name": "stderr",
     "output_type": "stream",
     "text": [
      "GPU available: True, used: True\n",
      "TPU available: False, using: 0 TPU cores\n",
      "CUDA_VISIBLE_DEVICES: [0]\n"
     ]
    }
   ],
   "source": [
    "# model = CConvNet(hparams, train_data, test_data)\n",
    "trainer = pl.Trainer(gpus=1, max_epochs=MAX_EPOCHS, logger=None)"
   ]
  },
  {
   "cell_type": "code",
   "execution_count": 7,
   "id": "31b8257f",
   "metadata": {},
   "outputs": [],
   "source": [
    "# model.count_trainable_parameters()"
   ]
  },
  {
   "cell_type": "code",
   "execution_count": 8,
   "id": "24dfc5d9",
   "metadata": {},
   "outputs": [],
   "source": [
    "# trainer.fit(model)"
   ]
  },
  {
   "cell_type": "code",
   "execution_count": 9,
   "id": "175fd4f3",
   "metadata": {},
   "outputs": [],
   "source": [
    "# trainer.test(model)"
   ]
  },
  {
   "cell_type": "code",
   "execution_count": 10,
   "id": "30f640d1",
   "metadata": {},
   "outputs": [],
   "source": [
    "MLP_hparams = argparse.Namespace()\n",
    "\n",
    "MLP_hparams.name = 'test_model'\n",
    "MLP_hparams.train_batch_size = 32\n",
    "MLP_hparams.test_batch_size = 32\n",
    "MLP_hparams.num_workers = 0\n",
    "MLP_hparams.lr = 1e-3\n",
    "MLP_hparams.weight_decay = 0.\n",
    "\n",
    "MLP_hparams.activation_fn = 'LeakyReLU'\n",
    "MLP_hparams.batch_norm = True\n",
    "MLP_hparams.nodes = [44, 23]\n",
    "# MLP_hparams.nodes = [500, 150]"
   ]
  },
  {
   "cell_type": "code",
   "execution_count": 11,
   "id": "5b0321b9",
   "metadata": {},
   "outputs": [],
   "source": [
    "MLP_model = MLP(MLP_hparams, train_data, test_data)"
   ]
  },
  {
   "cell_type": "code",
   "execution_count": 12,
   "id": "8b715f6c",
   "metadata": {},
   "outputs": [
    {
     "data": {
      "text/plain": [
       "35949"
      ]
     },
     "execution_count": 12,
     "metadata": {},
     "output_type": "execute_result"
    }
   ],
   "source": [
    "MLP_model.count_trainable_parameters()"
   ]
  },
  {
   "cell_type": "code",
   "execution_count": 13,
   "id": "aa2bfdc9",
   "metadata": {},
   "outputs": [
    {
     "data": {
      "text/plain": [
       "MLP(\n",
       "  (loss_function): CrossEntropyLoss()\n",
       "  (dense): Sequential(\n",
       "    (0): Linear(in_features=784, out_features=44, bias=True)\n",
       "    (1): LeakyReLU(negative_slope=0.01)\n",
       "    (2): BatchNorm1d(44, eps=1e-05, momentum=0.1, affine=True, track_running_stats=True)\n",
       "    (3): Linear(in_features=44, out_features=23, bias=True)\n",
       "    (4): LeakyReLU(negative_slope=0.01)\n",
       "    (5): BatchNorm1d(23, eps=1e-05, momentum=0.1, affine=True, track_running_stats=True)\n",
       "    (6): Linear(in_features=23, out_features=10, bias=True)\n",
       "  )\n",
       ")"
      ]
     },
     "execution_count": 13,
     "metadata": {},
     "output_type": "execute_result"
    }
   ],
   "source": [
    "MLP_model"
   ]
  },
  {
   "cell_type": "code",
   "execution_count": 14,
   "id": "c6233463",
   "metadata": {
    "scrolled": true
   },
   "outputs": [
    {
     "name": "stderr",
     "output_type": "stream",
     "text": [
      "\n",
      "  | Name          | Type             | Params\n",
      "---------------------------------------------------\n",
      "0 | loss_function | CrossEntropyLoss | 0     \n",
      "1 | dense         | Sequential       | 35 K  \n",
      "/media/data/schuh/conda_envs/envs/s2cnn_j/lib/python3.7/site-packages/pytorch_lightning/utilities/distributed.py:25: UserWarning: The dataloader, val dataloader 0, does not have many workers which may be a bottleneck. Consider increasing the value of the `num_workers` argument` (try 12 which is the number of cpus on this machine) in the `DataLoader` init to improve performance.\n",
      "  warnings.warn(*args, **kwargs)\n"
     ]
    },
    {
     "data": {
      "application/vnd.jupyter.widget-view+json": {
       "model_id": "",
       "version_major": 2,
       "version_minor": 0
      },
      "text/plain": [
       "Validation sanity check: 0it [00:00, ?it/s]"
      ]
     },
     "metadata": {},
     "output_type": "display_data"
    },
    {
     "name": "stderr",
     "output_type": "stream",
     "text": [
      "/media/data/schuh/conda_envs/envs/s2cnn_j/lib/python3.7/site-packages/pytorch_lightning/utilities/distributed.py:25: UserWarning: The dataloader, train dataloader, does not have many workers which may be a bottleneck. Consider increasing the value of the `num_workers` argument` (try 12 which is the number of cpus on this machine) in the `DataLoader` init to improve performance.\n",
      "  warnings.warn(*args, **kwargs)\n"
     ]
    },
    {
     "data": {
      "application/vnd.jupyter.widget-view+json": {
       "model_id": "a6a29b50f68e4c1ea3e80c47344c2bc2",
       "version_major": 2,
       "version_minor": 0
      },
      "text/plain": [
       "Training: 0it [00:00, ?it/s]"
      ]
     },
     "metadata": {},
     "output_type": "display_data"
    },
    {
     "data": {
      "application/vnd.jupyter.widget-view+json": {
       "model_id": "",
       "version_major": 2,
       "version_minor": 0
      },
      "text/plain": [
       "Validating: 0it [00:00, ?it/s]"
      ]
     },
     "metadata": {},
     "output_type": "display_data"
    },
    {
     "name": "stderr",
     "output_type": "stream",
     "text": [
      "/media/data/schuh/conda_envs/envs/s2cnn_j/lib/python3.7/site-packages/pytorch_lightning/utilities/distributed.py:25: RuntimeWarning: The metric you returned 0.2766472399234772 must be a `torch.Tensor` instance, checkpoint not saved HINT: what is the value of loss in validation_epoch_end()?\n",
      "  warnings.warn(*args, **kwargs)\n"
     ]
    },
    {
     "data": {
      "application/vnd.jupyter.widget-view+json": {
       "model_id": "",
       "version_major": 2,
       "version_minor": 0
      },
      "text/plain": [
       "Validating: 0it [00:00, ?it/s]"
      ]
     },
     "metadata": {},
     "output_type": "display_data"
    },
    {
     "name": "stderr",
     "output_type": "stream",
     "text": [
      "/media/data/schuh/conda_envs/envs/s2cnn_j/lib/python3.7/site-packages/pytorch_lightning/utilities/distributed.py:25: RuntimeWarning: The metric you returned 0.05396443232893944 must be a `torch.Tensor` instance, checkpoint not saved HINT: what is the value of loss in validation_epoch_end()?\n",
      "  warnings.warn(*args, **kwargs)\n"
     ]
    },
    {
     "data": {
      "application/vnd.jupyter.widget-view+json": {
       "model_id": "",
       "version_major": 2,
       "version_minor": 0
      },
      "text/plain": [
       "Validating: 0it [00:00, ?it/s]"
      ]
     },
     "metadata": {},
     "output_type": "display_data"
    },
    {
     "name": "stderr",
     "output_type": "stream",
     "text": [
      "/media/data/schuh/conda_envs/envs/s2cnn_j/lib/python3.7/site-packages/pytorch_lightning/utilities/distributed.py:25: RuntimeWarning: The metric you returned 0.031521543860435486 must be a `torch.Tensor` instance, checkpoint not saved HINT: what is the value of loss in validation_epoch_end()?\n",
      "  warnings.warn(*args, **kwargs)\n"
     ]
    },
    {
     "data": {
      "application/vnd.jupyter.widget-view+json": {
       "model_id": "",
       "version_major": 2,
       "version_minor": 0
      },
      "text/plain": [
       "Validating: 0it [00:00, ?it/s]"
      ]
     },
     "metadata": {},
     "output_type": "display_data"
    },
    {
     "name": "stderr",
     "output_type": "stream",
     "text": [
      "/media/data/schuh/conda_envs/envs/s2cnn_j/lib/python3.7/site-packages/pytorch_lightning/utilities/distributed.py:25: RuntimeWarning: The metric you returned 0.113092802464962 must be a `torch.Tensor` instance, checkpoint not saved HINT: what is the value of loss in validation_epoch_end()?\n",
      "  warnings.warn(*args, **kwargs)\n"
     ]
    },
    {
     "data": {
      "application/vnd.jupyter.widget-view+json": {
       "model_id": "",
       "version_major": 2,
       "version_minor": 0
      },
      "text/plain": [
       "Validating: 0it [00:00, ?it/s]"
      ]
     },
     "metadata": {},
     "output_type": "display_data"
    },
    {
     "name": "stderr",
     "output_type": "stream",
     "text": [
      "/media/data/schuh/conda_envs/envs/s2cnn_j/lib/python3.7/site-packages/pytorch_lightning/utilities/distributed.py:25: RuntimeWarning: The metric you returned 0.10870371013879776 must be a `torch.Tensor` instance, checkpoint not saved HINT: what is the value of loss in validation_epoch_end()?\n",
      "  warnings.warn(*args, **kwargs)\n"
     ]
    },
    {
     "data": {
      "application/vnd.jupyter.widget-view+json": {
       "model_id": "",
       "version_major": 2,
       "version_minor": 0
      },
      "text/plain": [
       "Validating: 0it [00:00, ?it/s]"
      ]
     },
     "metadata": {},
     "output_type": "display_data"
    },
    {
     "name": "stderr",
     "output_type": "stream",
     "text": [
      "/media/data/schuh/conda_envs/envs/s2cnn_j/lib/python3.7/site-packages/pytorch_lightning/utilities/distributed.py:25: RuntimeWarning: The metric you returned 0.1377803236246109 must be a `torch.Tensor` instance, checkpoint not saved HINT: what is the value of loss in validation_epoch_end()?\n",
      "  warnings.warn(*args, **kwargs)\n"
     ]
    },
    {
     "data": {
      "application/vnd.jupyter.widget-view+json": {
       "model_id": "",
       "version_major": 2,
       "version_minor": 0
      },
      "text/plain": [
       "Validating: 0it [00:00, ?it/s]"
      ]
     },
     "metadata": {},
     "output_type": "display_data"
    },
    {
     "name": "stderr",
     "output_type": "stream",
     "text": [
      "/media/data/schuh/conda_envs/envs/s2cnn_j/lib/python3.7/site-packages/pytorch_lightning/utilities/distributed.py:25: RuntimeWarning: The metric you returned 0.06034936383366585 must be a `torch.Tensor` instance, checkpoint not saved HINT: what is the value of loss in validation_epoch_end()?\n",
      "  warnings.warn(*args, **kwargs)\n"
     ]
    },
    {
     "data": {
      "application/vnd.jupyter.widget-view+json": {
       "model_id": "",
       "version_major": 2,
       "version_minor": 0
      },
      "text/plain": [
       "Validating: 0it [00:00, ?it/s]"
      ]
     },
     "metadata": {},
     "output_type": "display_data"
    },
    {
     "name": "stderr",
     "output_type": "stream",
     "text": [
      "/media/data/schuh/conda_envs/envs/s2cnn_j/lib/python3.7/site-packages/pytorch_lightning/utilities/distributed.py:25: RuntimeWarning: The metric you returned 0.13645485043525696 must be a `torch.Tensor` instance, checkpoint not saved HINT: what is the value of loss in validation_epoch_end()?\n",
      "  warnings.warn(*args, **kwargs)\n"
     ]
    },
    {
     "data": {
      "application/vnd.jupyter.widget-view+json": {
       "model_id": "",
       "version_major": 2,
       "version_minor": 0
      },
      "text/plain": [
       "Validating: 0it [00:00, ?it/s]"
      ]
     },
     "metadata": {},
     "output_type": "display_data"
    },
    {
     "name": "stderr",
     "output_type": "stream",
     "text": [
      "/media/data/schuh/conda_envs/envs/s2cnn_j/lib/python3.7/site-packages/pytorch_lightning/utilities/distributed.py:25: RuntimeWarning: The metric you returned 0.012838891707360744 must be a `torch.Tensor` instance, checkpoint not saved HINT: what is the value of loss in validation_epoch_end()?\n",
      "  warnings.warn(*args, **kwargs)\n"
     ]
    },
    {
     "data": {
      "application/vnd.jupyter.widget-view+json": {
       "model_id": "",
       "version_major": 2,
       "version_minor": 0
      },
      "text/plain": [
       "Validating: 0it [00:00, ?it/s]"
      ]
     },
     "metadata": {},
     "output_type": "display_data"
    },
    {
     "name": "stderr",
     "output_type": "stream",
     "text": [
      "/media/data/schuh/conda_envs/envs/s2cnn_j/lib/python3.7/site-packages/pytorch_lightning/utilities/distributed.py:25: RuntimeWarning: The metric you returned 0.06168048828840256 must be a `torch.Tensor` instance, checkpoint not saved HINT: what is the value of loss in validation_epoch_end()?\n",
      "  warnings.warn(*args, **kwargs)\n",
      "/media/data/schuh/conda_envs/envs/s2cnn_j/lib/python3.7/site-packages/pytorch_lightning/utilities/distributed.py:25: UserWarning: The dataloader, test dataloader 0, does not have many workers which may be a bottleneck. Consider increasing the value of the `num_workers` argument` (try 12 which is the number of cpus on this machine) in the `DataLoader` init to improve performance.\n",
      "  warnings.warn(*args, **kwargs)\n"
     ]
    },
    {
     "data": {
      "application/vnd.jupyter.widget-view+json": {
       "model_id": "fe1fda5793b840b3b0cf396cf62ca929",
       "version_major": 2,
       "version_minor": 0
      },
      "text/plain": [
       "Testing: 0it [00:00, ?it/s]"
      ]
     },
     "metadata": {},
     "output_type": "display_data"
    },
    {
     "name": "stdout",
     "output_type": "stream",
     "text": [
      "--------------------------------------------------------------------------------\n",
      "TEST RESULTS\n",
      "{'test_acc': tensor(0.9599), 'test_loss': 0.13992668688297272}\n",
      "--------------------------------------------------------------------------------\n"
     ]
    },
    {
     "data": {
      "text/plain": [
       "{'test_loss': 0.13992668688297272, 'test_acc': 0.9599000215530396}"
      ]
     },
     "execution_count": 14,
     "metadata": {},
     "output_type": "execute_result"
    }
   ],
   "source": [
    "trainer.fit(MLP_model)\n",
    "trainer.test(MLP_model)"
   ]
  },
  {
   "cell_type": "code",
   "execution_count": 15,
   "id": "f9f83a0d",
   "metadata": {},
   "outputs": [],
   "source": [
    "# S2_hparams = argparse.Namespace()\n",
    "\n",
    "# S2_hparams.name = 'test_model'\n",
    "# S2_hparams.train_batch_size = 32\n",
    "# S2_hparams.test_batch_size = 32\n",
    "# S2_hparams.num_workers = 0\n",
    "# S2_hparams.lr = 1e-4\n",
    "# S2_hparams.weight_decay = 0.\n",
    "# S2_hparams.image_size = 28\n",
    "\n",
    "# S2_hparams.channels = [8, 11, 64]\n",
    "# # S2_hparams.bandlimit = [12, 6, 2]\n",
    "# S2_hparams.bandlimit = [14, 8,2]\n",
    "# # S2_hparams.kernel_max_beta = [1/12, 1/6, 0.5]\n",
    "# S2_hparams.kernel_max_beta = [1/14, 1/8, 0.5]\n",
    "# S2_hparams.activation_fn = 'LeakyReLU'\n",
    "# S2_hparams.batch_norm = True\n",
    "# S2_hparams.nodes = [64, 32]"
   ]
  },
  {
   "cell_type": "code",
   "execution_count": 16,
   "id": "6531d8ff",
   "metadata": {},
   "outputs": [],
   "source": [
    "# S2_model = S2ConvNet(S2_hparams, train_data, test_data)\n",
    "# S2_model.count_trainable_parameters()"
   ]
  },
  {
   "cell_type": "code",
   "execution_count": 17,
   "id": "3524fd73",
   "metadata": {},
   "outputs": [],
   "source": [
    "# S2_model"
   ]
  },
  {
   "cell_type": "code",
   "execution_count": 18,
   "id": "f0c744c2",
   "metadata": {
    "scrolled": false
   },
   "outputs": [],
   "source": [
    "# trainer.fit(S2_model)\n",
    "# trainer.test(S2_model)"
   ]
  },
  {
   "cell_type": "code",
   "execution_count": null,
   "id": "5f5b6104",
   "metadata": {},
   "outputs": [],
   "source": []
  }
 ],
 "metadata": {
  "kernelspec": {
   "display_name": "Python 3 (ipykernel)",
   "language": "python",
   "name": "python3"
  },
  "language_info": {
   "codemirror_mode": {
    "name": "ipython",
    "version": 3
   },
   "file_extension": ".py",
   "mimetype": "text/x-python",
   "name": "python",
   "nbconvert_exporter": "python",
   "pygments_lexer": "ipython3",
   "version": "3.7.13"
  }
 },
 "nbformat": 4,
 "nbformat_minor": 5
}
