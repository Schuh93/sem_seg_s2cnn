{
 "cells": [
  {
   "cell_type": "code",
   "execution_count": null,
   "id": "9eb80edf",
   "metadata": {},
   "outputs": [],
   "source": [
    "import torch, pickle, argparse, os, warnings, copy, time, mlflow\n",
    "import numpy as np, pytorch_lightning as pl, matplotlib.pyplot as plt, eagerpy as ep\n",
    "from models import S2ConvNet\n",
    "from data_loader import load_test_data, load_train_data\n",
    "from foolbox import PyTorchModel\n",
    "from foolbox.attacks import LinfProjectedGradientDescentAttack\n",
    "from foolbox.attacks.base import Repeated\n",
    "from tqdm.notebook import tqdm\n",
    "from attack_helper import run_batched_attack_cpu, batched_accuracy, batched_predictions, batched_predictions_eps, save_pickle, batched_logits_eps\n",
    "from mlflow.tracking.artifact_utils import get_artifact_uri"
   ]
  },
  {
   "cell_type": "code",
   "execution_count": null,
   "id": "c9c317af",
   "metadata": {},
   "outputs": [],
   "source": [
    "run_name = 1697134502\n",
    "tracking_uri = 'sqlite:///mlruns/database.db'\n",
    "mlflow.set_tracking_uri(tracking_uri)\n",
    "df=mlflow.search_runs(experiment_names=['model_training'])\n",
    "run_id=df[df['tags.mlflow.runName']==str(run_name)]['run_id'].values[0]\n",
    "artifact_path = get_artifact_uri(run_id=run_id, tracking_uri=tracking_uri)\n",
    "dirs=os.listdir(artifact_path)\n",
    "\n",
    "for s in dirs:\n",
    "    if s.find('.ckpt') >= 0:\n",
    "        checkpoint = s\n",
    "        break\n",
    "\n",
    "checkpoint_path = os.path.join(artifact_path, checkpoint)\n",
    "\n",
    "best_model = torch.load(checkpoint_path)\n",
    "hparams = argparse.Namespace(**best_model['hyper_parameters'])\n",
    "model = S2ConvNet(hparams, None, None).eval()\n",
    "model.load_state_dict(best_model['state_dict'])\n",
    "\n",
    "test_rot = eval(df[df['tags.mlflow.runName']==str(run_name)]['params.test_rot'].values[0])\n",
    "\n",
    "if df[df['tags.mlflow.runName']==str(run_name)]['params.flat'].values[0] is None:\n",
    "    flat = False\n",
    "else:\n",
    "    flat = eval(df[df['tags.mlflow.runName']==str(run_name)]['params.flat'].values[0])\n",
    "\n",
    "if flat:\n",
    "    padded_img_size = eval(df[df['tags.mlflow.runName']==str(run_name)]['params.padded_img_size'].values[0])\n",
    "\n",
    "    if test_rot:\n",
    "        TEST_PATH = \"flat_mnist_test_aug_\" + str(padded_img_size[0]) + \"x\" + str(padded_img_size[1]) + \".gz\"\n",
    "    else:\n",
    "        TEST_PATH = \"flat_mnist_test_\" + str(padded_img_size[0]) + \"x\" + str(padded_img_size[1]) + \".gz\"\n",
    "\n",
    "    test_data = load_train_data(TEST_PATH)\n",
    "\n",
    "else:    \n",
    "    TEST_PATH = \"s2_mnist_cs1.gz\"\n",
    "    test_data = load_test_data(TEST_PATH)"
   ]
  },
  {
   "cell_type": "code",
   "execution_count": null,
   "id": "d281cc24",
   "metadata": {},
   "outputs": [],
   "source": []
  }
 ],
 "metadata": {
  "kernelspec": {
   "display_name": "Python 3 (ipykernel)",
   "language": "python",
   "name": "python3"
  },
  "language_info": {
   "codemirror_mode": {
    "name": "ipython",
    "version": 3
   },
   "file_extension": ".py",
   "mimetype": "text/x-python",
   "name": "python",
   "nbconvert_exporter": "python",
   "pygments_lexer": "ipython3",
   "version": "3.7.13"
  }
 },
 "nbformat": 4,
 "nbformat_minor": 5
}
