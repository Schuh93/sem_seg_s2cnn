{
 "cells": [
  {
   "cell_type": "code",
   "execution_count": 1,
   "id": "bc27f1f5",
   "metadata": {},
   "outputs": [],
   "source": [
    "import torch, pickle, argparse, os, warnings, copy, time, mlflow\n",
    "import numpy as np, pytorch_lightning as pl, matplotlib.pyplot as plt, eagerpy as ep\n",
    "from models import S2ConvNet\n",
    "from data_loader import load_test_data\n",
    "from foolbox import PyTorchModel\n",
    "from foolbox.attacks import LinfProjectedGradientDescentAttack\n",
    "from foolbox.attacks.base import Repeated\n",
    "from tqdm.notebook import tqdm\n",
    "from attack_helper import run_batched_attack_cpu, batched_accuracy, batched_predictions, batched_predictions_eps, save_pickle, batched_logits_eps\n",
    "from mlflow.tracking.artifact_utils import get_artifact_uri"
   ]
  },
  {
   "cell_type": "code",
   "execution_count": 2,
   "id": "7554d60c",
   "metadata": {},
   "outputs": [],
   "source": [
    "tracking_uri = 'sqlite:///mlruns/database.db'\n",
    "mlflow.set_tracking_uri(tracking_uri)\n",
    "df=mlflow.search_runs(experiment_names=['model_training'])\n",
    "run_id=df[df['tags.mlflow.runName']==str(1668139362)]['run_id'].values[0]\n",
    "artifact_path = get_artifact_uri(run_id=run_id, tracking_uri=tracking_uri)\n",
    "dirs=os.listdir(artifact_path)\n",
    "\n",
    "for s in dirs:\n",
    "    if s.find('.ckpt') >= 0:\n",
    "        checkpoint = s\n",
    "        break\n",
    "\n",
    "checkpoint_path = os.path.join(artifact_path, checkpoint)\n",
    "\n",
    "best_model = torch.load(checkpoint_path)\n",
    "hparams = argparse.Namespace(**best_model['hyper_parameters'])\n",
    "model = S2ConvNet(hparams, None, None).eval()\n",
    "model.load_state_dict(best_model['state_dict'])\n",
    "\n",
    "\n",
    "TEST_PATH = \"s2_mnist_cs1.gz\"\n",
    "test_data = load_test_data(TEST_PATH)"
   ]
  },
  {
   "cell_type": "code",
   "execution_count": 3,
   "id": "13e75dab",
   "metadata": {},
   "outputs": [],
   "source": [
    "total = 100\n",
    "bs = 50\n",
    "\n",
    "images = test_data[:total][0]\n",
    "labels = test_data[:total][1]\n",
    "\n",
    "fmodel = PyTorchModel(model, bounds=(0, 255))"
   ]
  },
  {
   "cell_type": "code",
   "execution_count": 4,
   "id": "9766a8a2",
   "metadata": {},
   "outputs": [
    {
     "data": {
      "application/vnd.jupyter.widget-view+json": {
       "model_id": "4c3df3e1b1c34133910a80d8b37a74bd",
       "version_major": 2,
       "version_minor": 0
      },
      "text/plain": [
       "  0%|          | 0/2 [00:00<?, ?it/s]"
      ]
     },
     "metadata": {},
     "output_type": "display_data"
    },
    {
     "name": "stdout",
     "output_type": "stream",
     "text": [
      "load 0.pkl.gz... done\n",
      "load 0.pkl.gz... done\n",
      "load 1.pkl.gz... done\n",
      "load 2.pkl.gz... done\n",
      "load 1.pkl.gz... done\n",
      "load 3.pkl.gz... done\n",
      "load 14.pkl.gz... done\n",
      "load 14.pkl.gz... done\n",
      "load 15.pkl.gz... done\n",
      "load 17.pkl.gz... done\n",
      "load 16.pkl.gz... done\n",
      "load 18.pkl.gz... done\n",
      "load 19.pkl.gz... done\n",
      "load 17.pkl.gz... done\n",
      "load 20.pkl.gz... done\n"
     ]
    }
   ],
   "source": [
    "clean_pred = batched_predictions(model, images, bs)"
   ]
  },
  {
   "cell_type": "code",
   "execution_count": 5,
   "id": "9c01beaf",
   "metadata": {},
   "outputs": [],
   "source": [
    "epsilons = [0, 0.1, 0.25, 0.5, 1, 3, 5, 7.5, 10]\n",
    "rel_stepsize = 0.05\n",
    "steps = 50\n",
    "random_start=True\n",
    "n_repeat = 3\n",
    "\n",
    "attack = Repeated(attack=LinfProjectedGradientDescentAttack(rel_stepsize=rel_stepsize, steps=steps, random_start=random_start), times=n_repeat)"
   ]
  },
  {
   "cell_type": "code",
   "execution_count": 6,
   "id": "421a3ecb",
   "metadata": {},
   "outputs": [
    {
     "data": {
      "application/vnd.jupyter.widget-view+json": {
       "model_id": "c76f58282b5d4be4984a1d84b8def2d9",
       "version_major": 2,
       "version_minor": 0
      },
      "text/plain": [
       "  0%|          | 0/2 [00:00<?, ?it/s]"
      ]
     },
     "metadata": {},
     "output_type": "display_data"
    }
   ],
   "source": [
    "_, advs, success = run_batched_attack_cpu(attack, fmodel, images, clean_pred, epsilons, bs)\n",
    "advs = torch.stack(advs)"
   ]
  },
  {
   "cell_type": "code",
   "execution_count": 9,
   "id": "e08d7394",
   "metadata": {},
   "outputs": [
    {
     "data": {
      "application/vnd.jupyter.widget-view+json": {
       "model_id": "c9174e829cc94646a1c32e4fe91a868c",
       "version_major": 2,
       "version_minor": 0
      },
      "text/plain": [
       "  0%|          | 0/2 [00:00<?, ?it/s]"
      ]
     },
     "metadata": {},
     "output_type": "display_data"
    },
    {
     "data": {
      "application/vnd.jupyter.widget-view+json": {
       "model_id": "d1de65662e2c4505bc685dc93bd8cb66",
       "version_major": 2,
       "version_minor": 0
      },
      "text/plain": [
       "  0%|          | 0/2 [00:00<?, ?it/s]"
      ]
     },
     "metadata": {},
     "output_type": "display_data"
    },
    {
     "data": {
      "application/vnd.jupyter.widget-view+json": {
       "model_id": "cc482ef287e645bca37651aace96a6f6",
       "version_major": 2,
       "version_minor": 0
      },
      "text/plain": [
       "  0%|          | 0/2 [00:00<?, ?it/s]"
      ]
     },
     "metadata": {},
     "output_type": "display_data"
    },
    {
     "data": {
      "application/vnd.jupyter.widget-view+json": {
       "model_id": "982e9fc3f1334a809736f89d4d4d34f4",
       "version_major": 2,
       "version_minor": 0
      },
      "text/plain": [
       "  0%|          | 0/2 [00:00<?, ?it/s]"
      ]
     },
     "metadata": {},
     "output_type": "display_data"
    },
    {
     "data": {
      "application/vnd.jupyter.widget-view+json": {
       "model_id": "a4db0d9829564b6fa67f2a54ddd6d4b7",
       "version_major": 2,
       "version_minor": 0
      },
      "text/plain": [
       "  0%|          | 0/2 [00:00<?, ?it/s]"
      ]
     },
     "metadata": {},
     "output_type": "display_data"
    },
    {
     "data": {
      "application/vnd.jupyter.widget-view+json": {
       "model_id": "175c958034b34dd7a4e37a17d194b7b7",
       "version_major": 2,
       "version_minor": 0
      },
      "text/plain": [
       "  0%|          | 0/2 [00:00<?, ?it/s]"
      ]
     },
     "metadata": {},
     "output_type": "display_data"
    },
    {
     "data": {
      "application/vnd.jupyter.widget-view+json": {
       "model_id": "f124f9ff09104fc4bf3cc2b68e957231",
       "version_major": 2,
       "version_minor": 0
      },
      "text/plain": [
       "  0%|          | 0/2 [00:00<?, ?it/s]"
      ]
     },
     "metadata": {},
     "output_type": "display_data"
    },
    {
     "data": {
      "application/vnd.jupyter.widget-view+json": {
       "model_id": "7f3081cfdbfc4e2098553ced5b74b3ed",
       "version_major": 2,
       "version_minor": 0
      },
      "text/plain": [
       "  0%|          | 0/2 [00:00<?, ?it/s]"
      ]
     },
     "metadata": {},
     "output_type": "display_data"
    },
    {
     "data": {
      "application/vnd.jupyter.widget-view+json": {
       "model_id": "5ecd78295ef549279038a9e8ed6f6ed3",
       "version_major": 2,
       "version_minor": 0
      },
      "text/plain": [
       "  0%|          | 0/2 [00:00<?, ?it/s]"
      ]
     },
     "metadata": {},
     "output_type": "display_data"
    },
    {
     "data": {
      "application/vnd.jupyter.widget-view+json": {
       "model_id": "a66ed2fea27f44afab91515fb32f416f",
       "version_major": 2,
       "version_minor": 0
      },
      "text/plain": [
       "  0%|          | 0/2 [00:00<?, ?it/s]"
      ]
     },
     "metadata": {},
     "output_type": "display_data"
    },
    {
     "data": {
      "application/vnd.jupyter.widget-view+json": {
       "model_id": "364875198f524148842b83c70809fa43",
       "version_major": 2,
       "version_minor": 0
      },
      "text/plain": [
       "  0%|          | 0/2 [00:00<?, ?it/s]"
      ]
     },
     "metadata": {},
     "output_type": "display_data"
    },
    {
     "data": {
      "application/vnd.jupyter.widget-view+json": {
       "model_id": "e0c4b35520bc41858fcf00bd635f92e4",
       "version_major": 2,
       "version_minor": 0
      },
      "text/plain": [
       "  0%|          | 0/2 [00:00<?, ?it/s]"
      ]
     },
     "metadata": {},
     "output_type": "display_data"
    },
    {
     "data": {
      "application/vnd.jupyter.widget-view+json": {
       "model_id": "e8c8439c70ec4df58c54f03454391fed",
       "version_major": 2,
       "version_minor": 0
      },
      "text/plain": [
       "  0%|          | 0/2 [00:00<?, ?it/s]"
      ]
     },
     "metadata": {},
     "output_type": "display_data"
    },
    {
     "data": {
      "application/vnd.jupyter.widget-view+json": {
       "model_id": "4732ebca2e4c40b58791583fdeae8e2f",
       "version_major": 2,
       "version_minor": 0
      },
      "text/plain": [
       "  0%|          | 0/2 [00:00<?, ?it/s]"
      ]
     },
     "metadata": {},
     "output_type": "display_data"
    },
    {
     "data": {
      "application/vnd.jupyter.widget-view+json": {
       "model_id": "37dd52b27a884f2982e7e3475d3f2ba2",
       "version_major": 2,
       "version_minor": 0
      },
      "text/plain": [
       "  0%|          | 0/2 [00:00<?, ?it/s]"
      ]
     },
     "metadata": {},
     "output_type": "display_data"
    },
    {
     "data": {
      "application/vnd.jupyter.widget-view+json": {
       "model_id": "72646d2b00da40b694df76b3bd0d42b1",
       "version_major": 2,
       "version_minor": 0
      },
      "text/plain": [
       "  0%|          | 0/2 [00:00<?, ?it/s]"
      ]
     },
     "metadata": {},
     "output_type": "display_data"
    },
    {
     "data": {
      "application/vnd.jupyter.widget-view+json": {
       "model_id": "9df8822010dd4f7b8d0f6986af48b031",
       "version_major": 2,
       "version_minor": 0
      },
      "text/plain": [
       "  0%|          | 0/2 [00:00<?, ?it/s]"
      ]
     },
     "metadata": {},
     "output_type": "display_data"
    },
    {
     "data": {
      "application/vnd.jupyter.widget-view+json": {
       "model_id": "7e13e36477064312bd7088e153bcac8b",
       "version_major": 2,
       "version_minor": 0
      },
      "text/plain": [
       "  0%|          | 0/2 [00:00<?, ?it/s]"
      ]
     },
     "metadata": {},
     "output_type": "display_data"
    }
   ],
   "source": [
    "success_rate = ep.astensor(success).float32().mean(axis=-1).raw\n",
    "adv_pred = batched_predictions_eps(model, advs, bs)\n",
    "logits = batched_logits_eps(model, advs, bs)"
   ]
  },
  {
   "cell_type": "code",
   "execution_count": 24,
   "id": "1d1a712a",
   "metadata": {},
   "outputs": [],
   "source": [
    "imgs = advs[:,labels == 0][:,:10]\n",
    "for i in range(1,10):\n",
    "    imgs = torch.cat((imgs, advs[:,labels == i][:,:10]), 1)\n",
    "    \n",
    "preds = adv_pred[:,labels == 0][:,:10]\n",
    "for i in range(1,10):\n",
    "    preds = torch.cat((preds, adv_pred[:,labels == i][:,:10]), 1)\n",
    "    \n",
    "c_preds = clean_pred[labels == 0][:10]\n",
    "for i in range(1,10):\n",
    "    c_preds = torch.cat((c_preds, clean_pred[labels == i][:10]))\n",
    "    \n",
    "labs = labels[labels == 0][:10]\n",
    "for i in range(1,10):\n",
    "    labs = torch.cat((labs, labels[labels == i][:10]))"
   ]
  },
  {
   "cell_type": "code",
   "execution_count": null,
   "id": "06ce8ba2",
   "metadata": {},
   "outputs": [],
   "source": [
    "save_path = os.path.join(artifact_path, attack.attack.__class__.__name__)\n",
    "\n",
    "if not os.path.isdir(save_path):\n",
    "    os.mkdir(save_path)"
   ]
  },
  {
   "cell_type": "code",
   "execution_count": null,
   "id": "b6e35ec8",
   "metadata": {},
   "outputs": [],
   "source": [
    "save_pickle(save_path, 'images.pickle', [imgs, preds, c_preds, labs])\n",
    "save_pickle(save_path, 'success.pickle', success)\n",
    "save_pickle(save_path, 'success_rate.pickle', success_rate)\n",
    "save_pickle(save_path, 'post_pred.pickle', adv_pred)\n",
    "save_pickle(save_path, 'params.pickle', {'epsilons': epsilons, 'rel_stepsize': rel_stepsize, 'steps': steps, 'random_start': random_start, 'n_repeat': n_repeat})\n",
    "save_pickle(save_path, 'logits.pickle', logits)"
   ]
  },
  {
   "cell_type": "code",
   "execution_count": null,
   "id": "1aacb6b6",
   "metadata": {},
   "outputs": [],
   "source": []
  }
 ],
 "metadata": {
  "kernelspec": {
   "display_name": "Python 3 (ipykernel)",
   "language": "python",
   "name": "python3"
  },
  "language_info": {
   "codemirror_mode": {
    "name": "ipython",
    "version": 3
   },
   "file_extension": ".py",
   "mimetype": "text/x-python",
   "name": "python",
   "nbconvert_exporter": "python",
   "pygments_lexer": "ipython3",
   "version": "3.7.13"
  }
 },
 "nbformat": 4,
 "nbformat_minor": 5
}
