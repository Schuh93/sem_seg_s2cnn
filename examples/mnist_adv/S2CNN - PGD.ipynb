{
 "cells": [
  {
   "cell_type": "code",
   "execution_count": 1,
   "id": "bc27f1f5",
   "metadata": {},
   "outputs": [],
   "source": [
    "import torch, pickle, argparse, os, warnings, copy, time, mlflow\n",
    "import numpy as np, pytorch_lightning as pl, matplotlib.pyplot as plt, eagerpy as ep, matplotlib.pyplot as plt\n",
    "from models import S2ConvNet\n",
    "from data_loader import load_test_data, load_train_data\n",
    "from foolbox import PyTorchModel\n",
    "from foolbox.attacks import LinfProjectedGradientDescentAttack\n",
    "from foolbox.attacks.base import Repeated\n",
    "from tqdm.notebook import tqdm\n",
    "from attack_helper import run_batched_attack_cpu, batched_accuracy, batched_predictions, batched_predictions_eps, save_pickle, batched_logits_eps\n",
    "from mlflow.tracking.artifact_utils import get_artifact_uri"
   ]
  },
  {
   "cell_type": "code",
   "execution_count": 2,
   "id": "7554d60c",
   "metadata": {},
   "outputs": [],
   "source": [
    "run_name = 1697134502\n",
    "tracking_uri = 'sqlite:///mlruns/database.db'\n",
    "mlflow.set_tracking_uri(tracking_uri)\n",
    "df=mlflow.search_runs(experiment_names=['model_training'])\n",
    "run_id=df[df['tags.mlflow.runName']==str(run_name)]['run_id'].values[0]\n",
    "artifact_path = get_artifact_uri(run_id=run_id, tracking_uri=tracking_uri)\n",
    "dirs=os.listdir(artifact_path)\n",
    "\n",
    "for s in dirs:\n",
    "    if s.find('.ckpt') >= 0:\n",
    "        checkpoint = s\n",
    "        break\n",
    "\n",
    "checkpoint_path = os.path.join(artifact_path, checkpoint)\n",
    "\n",
    "best_model = torch.load(checkpoint_path)\n",
    "hparams = argparse.Namespace(**best_model['hyper_parameters'])\n",
    "model = S2ConvNet(hparams, None, None).eval()\n",
    "model.load_state_dict(best_model['state_dict'])\n",
    "\n",
    "test_rot = eval(df[df['tags.mlflow.runName']==str(run_name)]['params.test_rot'].values[0])\n",
    "\n",
    "if df[df['tags.mlflow.runName']==str(run_name)]['params.flat'].values[0] is None:\n",
    "    flat = False\n",
    "else:\n",
    "    flat = eval(df[df['tags.mlflow.runName']==str(run_name)]['params.flat'].values[0])\n",
    "\n",
    "if flat:\n",
    "    padded_img_size = eval(df[df['tags.mlflow.runName']==str(run_name)]['params.padded_img_size'].values[0])\n",
    "\n",
    "    if test_rot:\n",
    "        TEST_PATH = \"flat_mnist_test_aug_\" + str(padded_img_size[0]) + \"x\" + str(padded_img_size[1]) + \".gz\"\n",
    "    else:\n",
    "        TEST_PATH = \"flat_mnist_test_\" + str(padded_img_size[0]) + \"x\" + str(padded_img_size[1]) + \".gz\"\n",
    "\n",
    "    test_data = load_train_data(TEST_PATH)\n",
    "\n",
    "else:    \n",
    "    TEST_PATH = \"s2_mnist_cs1.gz\"\n",
    "    test_data = load_test_data(TEST_PATH)"
   ]
  },
  {
   "cell_type": "code",
   "execution_count": 3,
   "id": "13e75dab",
   "metadata": {},
   "outputs": [],
   "source": [
    "total = 200\n",
    "bs = 40\n",
    "\n",
    "images = test_data[:total][0]\n",
    "labels = test_data[:total][1]\n",
    "\n",
    "fmodel = PyTorchModel(model, bounds=(0, 255))"
   ]
  },
  {
   "cell_type": "code",
   "execution_count": 4,
   "id": "9766a8a2",
   "metadata": {},
   "outputs": [
    {
     "data": {
      "application/vnd.jupyter.widget-view+json": {
       "model_id": "ee6a6a930576497ba3dd28b11128ebd4",
       "version_major": 2,
       "version_minor": 0
      },
      "text/plain": [
       "  0%|          | 0/5 [00:00<?, ?it/s]"
      ]
     },
     "metadata": {},
     "output_type": "display_data"
    },
    {
     "name": "stdout",
     "output_type": "stream",
     "text": [
      "load 2.pkl.gz... done\n",
      "load 6.pkl.gz... done\n",
      "load 23.pkl.gz... done\n",
      "load 28.pkl.gz... done\n",
      "load 20.pkl.gz... done\n",
      "load 29.pkl.gz... done\n",
      "load 30.pkl.gz... done\n",
      "load 14.pkl.gz... done\n",
      "load 15.pkl.gz... done\n",
      "load 17.pkl.gz... done\n",
      "load 16.pkl.gz... done\n",
      "load 18.pkl.gz... done\n",
      "load 19.pkl.gz... done\n",
      "load 17.pkl.gz... done\n",
      "load 20.pkl.gz... done\n"
     ]
    }
   ],
   "source": [
    "clean_pred = batched_predictions(model, images, bs)"
   ]
  },
  {
   "cell_type": "code",
   "execution_count": 5,
   "id": "9c01beaf",
   "metadata": {},
   "outputs": [],
   "source": [
    "# epsilons = [0, 0.1, 0.25, 0.5, 1, 3, 5, 7.5, 10]\n",
    "# epsilons = [0, 0.25, 0.5, 1, 3, 5, 7.5, 10, 25]\n",
    "epsilons = [0, 0.5, 2.5, 5, 7.5, 10, 14, 20, 30]\n",
    "rel_stepsize = 0.05\n",
    "steps = 50\n",
    "random_start=True\n",
    "n_repeat = 3\n",
    "\n",
    "attack = Repeated(attack=LinfProjectedGradientDescentAttack(rel_stepsize=rel_stepsize, steps=steps, random_start=random_start), times=n_repeat)"
   ]
  },
  {
   "cell_type": "code",
   "execution_count": 6,
   "id": "421a3ecb",
   "metadata": {},
   "outputs": [
    {
     "data": {
      "application/vnd.jupyter.widget-view+json": {
       "model_id": "85190ef8e42a41d6a95408c50b5f9c27",
       "version_major": 2,
       "version_minor": 0
      },
      "text/plain": [
       "  0%|          | 0/5 [00:00<?, ?it/s]"
      ]
     },
     "metadata": {},
     "output_type": "display_data"
    }
   ],
   "source": [
    "_, advs, success = run_batched_attack_cpu(attack, fmodel, images, clean_pred, epsilons, bs)\n",
    "advs = torch.stack(advs)"
   ]
  },
  {
   "cell_type": "code",
   "execution_count": 7,
   "id": "e08d7394",
   "metadata": {},
   "outputs": [
    {
     "data": {
      "application/vnd.jupyter.widget-view+json": {
       "model_id": "c4ff00703cfd4fbba5577587c7bd0fa1",
       "version_major": 2,
       "version_minor": 0
      },
      "text/plain": [
       "  0%|          | 0/5 [00:00<?, ?it/s]"
      ]
     },
     "metadata": {},
     "output_type": "display_data"
    },
    {
     "data": {
      "application/vnd.jupyter.widget-view+json": {
       "model_id": "a32f6ea609b54458a530b6864edfa0b6",
       "version_major": 2,
       "version_minor": 0
      },
      "text/plain": [
       "  0%|          | 0/5 [00:00<?, ?it/s]"
      ]
     },
     "metadata": {},
     "output_type": "display_data"
    },
    {
     "data": {
      "application/vnd.jupyter.widget-view+json": {
       "model_id": "5eb48d9a1ab048f7bb18baf1fbd897eb",
       "version_major": 2,
       "version_minor": 0
      },
      "text/plain": [
       "  0%|          | 0/5 [00:00<?, ?it/s]"
      ]
     },
     "metadata": {},
     "output_type": "display_data"
    },
    {
     "data": {
      "application/vnd.jupyter.widget-view+json": {
       "model_id": "55378b93d4984b10a3117b602fd2d5d5",
       "version_major": 2,
       "version_minor": 0
      },
      "text/plain": [
       "  0%|          | 0/5 [00:00<?, ?it/s]"
      ]
     },
     "metadata": {},
     "output_type": "display_data"
    },
    {
     "data": {
      "application/vnd.jupyter.widget-view+json": {
       "model_id": "9a913753186e41b694ca63cdd120f54e",
       "version_major": 2,
       "version_minor": 0
      },
      "text/plain": [
       "  0%|          | 0/5 [00:00<?, ?it/s]"
      ]
     },
     "metadata": {},
     "output_type": "display_data"
    },
    {
     "data": {
      "application/vnd.jupyter.widget-view+json": {
       "model_id": "23d932cb97b5453981b60d36df25e10e",
       "version_major": 2,
       "version_minor": 0
      },
      "text/plain": [
       "  0%|          | 0/5 [00:00<?, ?it/s]"
      ]
     },
     "metadata": {},
     "output_type": "display_data"
    },
    {
     "data": {
      "application/vnd.jupyter.widget-view+json": {
       "model_id": "409673b54c1b4e1ebcb5fa533092371b",
       "version_major": 2,
       "version_minor": 0
      },
      "text/plain": [
       "  0%|          | 0/5 [00:00<?, ?it/s]"
      ]
     },
     "metadata": {},
     "output_type": "display_data"
    },
    {
     "data": {
      "application/vnd.jupyter.widget-view+json": {
       "model_id": "74303bc89d6a476fbd970652491b8c17",
       "version_major": 2,
       "version_minor": 0
      },
      "text/plain": [
       "  0%|          | 0/5 [00:00<?, ?it/s]"
      ]
     },
     "metadata": {},
     "output_type": "display_data"
    },
    {
     "data": {
      "application/vnd.jupyter.widget-view+json": {
       "model_id": "8af513706c334694a7ec7fb7f68a221f",
       "version_major": 2,
       "version_minor": 0
      },
      "text/plain": [
       "  0%|          | 0/5 [00:00<?, ?it/s]"
      ]
     },
     "metadata": {},
     "output_type": "display_data"
    },
    {
     "data": {
      "application/vnd.jupyter.widget-view+json": {
       "model_id": "0bf9a1d2d1b54229a548b8de4d9b8bec",
       "version_major": 2,
       "version_minor": 0
      },
      "text/plain": [
       "  0%|          | 0/5 [00:00<?, ?it/s]"
      ]
     },
     "metadata": {},
     "output_type": "display_data"
    },
    {
     "data": {
      "application/vnd.jupyter.widget-view+json": {
       "model_id": "a24093e9eea94520b9a7f44a624a3090",
       "version_major": 2,
       "version_minor": 0
      },
      "text/plain": [
       "  0%|          | 0/5 [00:00<?, ?it/s]"
      ]
     },
     "metadata": {},
     "output_type": "display_data"
    },
    {
     "data": {
      "application/vnd.jupyter.widget-view+json": {
       "model_id": "20f072dc69f648ca834df568d84cfd25",
       "version_major": 2,
       "version_minor": 0
      },
      "text/plain": [
       "  0%|          | 0/5 [00:00<?, ?it/s]"
      ]
     },
     "metadata": {},
     "output_type": "display_data"
    },
    {
     "data": {
      "application/vnd.jupyter.widget-view+json": {
       "model_id": "89f35f1b0a5041aaa710397cad92d5c5",
       "version_major": 2,
       "version_minor": 0
      },
      "text/plain": [
       "  0%|          | 0/5 [00:00<?, ?it/s]"
      ]
     },
     "metadata": {},
     "output_type": "display_data"
    },
    {
     "data": {
      "application/vnd.jupyter.widget-view+json": {
       "model_id": "df76edeaeb8f4d1f9efac41c47616ae4",
       "version_major": 2,
       "version_minor": 0
      },
      "text/plain": [
       "  0%|          | 0/5 [00:00<?, ?it/s]"
      ]
     },
     "metadata": {},
     "output_type": "display_data"
    },
    {
     "data": {
      "application/vnd.jupyter.widget-view+json": {
       "model_id": "e759f2e1a06543dfbeec3403f96c3f3a",
       "version_major": 2,
       "version_minor": 0
      },
      "text/plain": [
       "  0%|          | 0/5 [00:00<?, ?it/s]"
      ]
     },
     "metadata": {},
     "output_type": "display_data"
    },
    {
     "data": {
      "application/vnd.jupyter.widget-view+json": {
       "model_id": "bd656f95c9da48d2885c3b2ab1c5d1c8",
       "version_major": 2,
       "version_minor": 0
      },
      "text/plain": [
       "  0%|          | 0/5 [00:00<?, ?it/s]"
      ]
     },
     "metadata": {},
     "output_type": "display_data"
    },
    {
     "data": {
      "application/vnd.jupyter.widget-view+json": {
       "model_id": "eb7ab1b711a04ffbb44370d5524b597c",
       "version_major": 2,
       "version_minor": 0
      },
      "text/plain": [
       "  0%|          | 0/5 [00:00<?, ?it/s]"
      ]
     },
     "metadata": {},
     "output_type": "display_data"
    },
    {
     "data": {
      "application/vnd.jupyter.widget-view+json": {
       "model_id": "6f6decb5deb746189ae8a814feff60b4",
       "version_major": 2,
       "version_minor": 0
      },
      "text/plain": [
       "  0%|          | 0/5 [00:00<?, ?it/s]"
      ]
     },
     "metadata": {},
     "output_type": "display_data"
    }
   ],
   "source": [
    "success_rate = ep.astensor(success).float32().mean(axis=-1).raw\n",
    "adv_pred = batched_predictions_eps(model, advs, bs)\n",
    "logits = batched_logits_eps(model, advs, bs)"
   ]
  },
  {
   "cell_type": "code",
   "execution_count": 8,
   "id": "e72afa8b",
   "metadata": {},
   "outputs": [
    {
     "name": "stdout",
     "output_type": "stream",
     "text": [
      "tensor([0.0000, 0.0100, 0.0700, 0.2200, 0.4000, 0.6000, 0.8450, 0.9550, 0.9950])\n"
     ]
    }
   ],
   "source": [
    "print(success_rate)"
   ]
  },
  {
   "cell_type": "code",
   "execution_count": 9,
   "id": "7c679fea",
   "metadata": {},
   "outputs": [
    {
     "data": {
      "image/png": "[encoded data removed]",
      "text/plain": [
       "<Figure size 640x480 with 1 Axes>"
      ]
     },
     "metadata": {},
     "output_type": "display_data"
    }
   ],
   "source": [
    "plt.plot(epsilons, success_rate, 'o-')\n",
    "plt.show()"
   ]
  },
  {
   "cell_type": "code",
   "execution_count": 10,
   "id": "1d1a712a",
   "metadata": {},
   "outputs": [],
   "source": [
    "# imgs = advs[:,labels == 0][:,:10]\n",
    "# for i in range(1,10):\n",
    "#     imgs = torch.cat((imgs, advs[:,labels == i][:,:10]), 1)\n",
    "    \n",
    "# preds = adv_pred[:,labels == 0][:,:10]\n",
    "# for i in range(1,10):\n",
    "#     preds = torch.cat((preds, adv_pred[:,labels == i][:,:10]), 1)\n",
    "    \n",
    "# c_preds = clean_pred[labels == 0][:10]\n",
    "# for i in range(1,10):\n",
    "#     c_preds = torch.cat((c_preds, clean_pred[labels == i][:10]))\n",
    "    \n",
    "# labs = labels[labels == 0][:10]\n",
    "# for i in range(1,10):\n",
    "#     labs = torch.cat((labs, labels[labels == i][:10]))"
   ]
  },
  {
   "cell_type": "code",
   "execution_count": 11,
   "id": "06ce8ba2",
   "metadata": {},
   "outputs": [],
   "source": [
    "# save_path = os.path.join(artifact_path, attack.attack.__class__.__name__)\n",
    "\n",
    "# if not os.path.isdir(save_path):\n",
    "#     os.mkdir(save_path)"
   ]
  },
  {
   "cell_type": "code",
   "execution_count": 12,
   "id": "b6e35ec8",
   "metadata": {},
   "outputs": [],
   "source": [
    "# save_pickle(save_path, 'images.pickle', [imgs, preds, c_preds, labs])\n",
    "# save_pickle(save_path, 'success.pickle', success)\n",
    "# save_pickle(save_path, 'success_rate.pickle', success_rate)\n",
    "# save_pickle(save_path, 'post_pred.pickle', adv_pred)\n",
    "# save_pickle(save_path, 'params.pickle', {'epsilons': epsilons, 'rel_stepsize': rel_stepsize, 'steps': steps, 'random_start': random_start, 'n_repeat': n_repeat})\n",
    "# save_pickle(save_path, 'logits.pickle', logits)"
   ]
  },
  {
   "cell_type": "code",
   "execution_count": null,
   "id": "1aacb6b6",
   "metadata": {},
   "outputs": [],
   "source": []
  }
 ],
 "metadata": {
  "kernelspec": {
   "display_name": "Python 3 (ipykernel)",
   "language": "python",
   "name": "python3"
  },
  "language_info": {
   "codemirror_mode": {
    "name": "ipython",
    "version": 3
   },
   "file_extension": ".py",
   "mimetype": "text/x-python",
   "name": "python",
   "nbconvert_exporter": "python",
   "pygments_lexer": "ipython3",
   "version": "3.7.13"
  }
 },
 "nbformat": 4,
 "nbformat_minor": 5
}
