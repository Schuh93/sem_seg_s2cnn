{
 "cells": [
  {
   "cell_type": "code",
   "execution_count": 1,
   "id": "dbf2d28e",
   "metadata": {},
   "outputs": [],
   "source": [
    "import gzip, pickle\n",
    "import numpy as np, torch.nn.functional as F\n",
    "from torchvision import datasets"
   ]
  },
  {
   "cell_type": "code",
   "execution_count": 2,
   "id": "474af87f",
   "metadata": {},
   "outputs": [],
   "source": [
    "mnist_data_folder = \"MNIST_data\"\n",
    "img_size = (60,60)\n",
    "\n",
    "assert (img_size[0] % 2 == 0 and img_size[1] % 2 == 0), 'img_size must be even in both dimensions.'\n",
    "pd = [(img_size[0] - 28)//2, (img_size[1] - 28)//2]"
   ]
  },
  {
   "cell_type": "code",
   "execution_count": 3,
   "id": "02513e8e",
   "metadata": {
    "scrolled": true
   },
   "outputs": [
    {
     "name": "stdout",
     "output_type": "stream",
     "text": [
      "flat_mnist_train_aug_60x60_80000.gz written\n",
      "flat_mnist_train_aug_60x60_100000.gz written\n",
      "flat_mnist_train_aug_60x60_120000.gz written\n",
      "flat_mnist_train_aug_60x60_240000.gz written\n",
      "flat_mnist_train_aug_60x60_600000.gz written\n"
     ]
    }
   ],
   "source": [
    "trainset = datasets.MNIST(root=mnist_data_folder, train=True, download=True)\n",
    "testset = datasets.MNIST(root=mnist_data_folder, train=False, download=True)\n",
    "\n",
    "mnist_train = {}\n",
    "mnist_train['images'] = F.pad(trainset.data, (pd[0], pd[0], pd[1], pd[1]), mode='constant', value=0).numpy()\n",
    "mnist_train['labels'] = trainset.targets.numpy()\n",
    "\n",
    "mnist_test = {}\n",
    "mnist_test['images'] = F.pad(testset.data, (pd[0], pd[0], pd[1], pd[1]), mode='constant', value=0).numpy()\n",
    "mnist_test['labels'] = testset.targets.numpy()\n",
    "\n",
    "\n",
    "# train_set_sizes = [10000, 20000, 30000, 40000, 50000, 60000]\n",
    "train_set_sizes = [80000, 100000, 120000, 240000, 600000]\n",
    "\n",
    "for n_samples in train_set_sizes:\n",
    "\n",
    "    images = mnist_train['images'].reshape(-1, *img_size).astype(np.float64)\n",
    "    labels = mnist_train['labels']\n",
    "\n",
    "    aug_images = np.ndarray((n_samples, *img_size), dtype=np.uint8)\n",
    "    aug_labels = np.ndarray(n_samples, dtype=np.uint8)\n",
    "\n",
    "    for i in range(n_samples):\n",
    "        img_ind = np.random.randint(0, len(images) - 1)\n",
    "        rand_shift = np.random.randint(0, img_size[0], 1).item(), np.random.randint(0, img_size[1], 1).item()\n",
    "        \n",
    "        aug_images[i] = np.roll(images[img_ind], rand_shift, (0,1))\n",
    "        aug_labels[i] = labels[img_ind]\n",
    "\n",
    "    dataset = {\n",
    "        'images': aug_images,\n",
    "        'labels': aug_labels\n",
    "    }\n",
    "\n",
    "    output_file = \"flat_mnist_train_aug_\" + str(img_size[0]) + \"x\" + str(img_size[1]) + \"_\" + str(n_samples) + \".gz\"\n",
    "\n",
    "    with gzip.open(output_file, 'wb') as f:\n",
    "        pickle.dump(dataset, f)\n",
    "\n",
    "    print(output_file, 'written')\n",
    "\n",
    "\n",
    "# images = mnist_test['images'].reshape(-1, *img_size).astype(np.float64)\n",
    "# labels = mnist_test['labels']\n",
    "\n",
    "# n_samples = len(images)\n",
    "# aug_images = np.ndarray((n_samples, *img_size), dtype=np.uint8)\n",
    "# aug_labels = np.ndarray(n_samples, dtype=np.uint8)\n",
    "\n",
    "# for i in range(n_samples):\n",
    "#     rand_shift = np.random.randint(0, img_size[0], 1).item(), np.random.randint(0, img_size[1], 1).item()\n",
    "\n",
    "#     aug_images[i] = np.roll(images[i], rand_shift, (0,1))\n",
    "#     aug_labels[i] = labels[i]\n",
    "\n",
    "# dataset = {\n",
    "#     'images': aug_images,\n",
    "#     'labels': aug_labels\n",
    "# }\n",
    "\n",
    "# output_file = \"flat_mnist_test_aug_\" + str(img_size[0]) + \"x\" + str(img_size[1]) + \".gz\"\n",
    "\n",
    "# with gzip.open(output_file, 'wb') as f:\n",
    "#     pickle.dump(dataset, f)\n",
    "    \n",
    "# print(output_file, 'written')"
   ]
  },
  {
   "cell_type": "code",
   "execution_count": null,
   "id": "7c6ecdcd",
   "metadata": {},
   "outputs": [],
   "source": []
  }
 ],
 "metadata": {
  "kernelspec": {
   "display_name": "Python 3 (ipykernel)",
   "language": "python",
   "name": "python3"
  },
  "language_info": {
   "codemirror_mode": {
    "name": "ipython",
    "version": 3
   },
   "file_extension": ".py",
   "mimetype": "text/x-python",
   "name": "python",
   "nbconvert_exporter": "python",
   "pygments_lexer": "ipython3",
   "version": "3.7.13"
  }
 },
 "nbformat": 4,
 "nbformat_minor": 5
}
