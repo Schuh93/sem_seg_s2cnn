{
 "cells": [
  {
   "cell_type": "code",
   "execution_count": 1,
   "id": "6caee99f",
   "metadata": {},
   "outputs": [],
   "source": [
    "import torch, pickle, argparse, os, warnings, copy, time, mlflow\n",
    "import numpy as np, pytorch_lightning as pl, matplotlib.pyplot as plt, eagerpy as ep\n",
    "from models import ConvNet, CConvNet\n",
    "from data_loader import load_test_data, load_train_data\n",
    "from foolbox import PyTorchModel\n",
    "from foolbox.attacks import NewtonFoolAttack\n",
    "from tqdm.notebook import tqdm\n",
    "from attack_helper import batched_predictions, batched_predictions, batched_logits\n",
    "from mlflow.tracking.artifact_utils import get_artifact_uri\n",
    "import matplotlib.pyplot as plt"
   ]
  },
  {
   "cell_type": "code",
   "execution_count": 2,
   "id": "08d539f4",
   "metadata": {},
   "outputs": [],
   "source": [
    "run_name = 1697206030\n",
    "tracking_uri = 'sqlite:///mlruns/database.db'\n",
    "mlflow.set_tracking_uri(tracking_uri)\n",
    "df=mlflow.search_runs(experiment_names=['model_training'])\n",
    "run_id=df[df['tags.mlflow.runName']==str(run_name)]['run_id'].values[0]\n",
    "artifact_path = get_artifact_uri(run_id=run_id, tracking_uri=tracking_uri)\n",
    "dirs=os.listdir(artifact_path)\n",
    "\n",
    "for s in dirs:\n",
    "    if s.find('.ckpt') >= 0:\n",
    "        checkpoint = s\n",
    "        break\n",
    "\n",
    "checkpoint_path = os.path.join(artifact_path, checkpoint)\n",
    "\n",
    "best_model = torch.load(checkpoint_path)\n",
    "hparams = argparse.Namespace(**best_model['hyper_parameters'])\n",
    "if df[df['tags.mlflow.runName']==str(run_name)]['tags.model'].values[0] == 'ConvNet':\n",
    "    model = ConvNet(hparams, None, None).eval()\n",
    "elif df[df['tags.mlflow.runName']==str(run_name)]['tags.model'].values[0] == 'CConvNet':\n",
    "    model = CConvNet(hparams, None, None).eval()\n",
    "else:\n",
    "    raise NotImplementedError(f\"Model has to be 'ConvNet' or 'CConvNet'. Got {df[df['tags.mlflow.runName']==str(run_name)]['tags.model'].values[0]}.\")\n",
    "model.load_state_dict(best_model['state_dict'])\n",
    "\n",
    "test_rot = eval(df[df['tags.mlflow.runName']==str(run_name)]['params.test_rot'].values[0])\n",
    "\n",
    "if df[df['tags.mlflow.runName']==str(run_name)]['params.flat'].values[0] is None:\n",
    "    flat = False\n",
    "else:\n",
    "    flat = eval(df[df['tags.mlflow.runName']==str(run_name)]['params.flat'].values[0])\n",
    "\n",
    "if flat:\n",
    "    padded_img_size = eval(df[df['tags.mlflow.runName']==str(run_name)]['params.padded_img_size'].values[0])\n",
    "\n",
    "    if test_rot:\n",
    "        TEST_PATH = \"flat_mnist_test_aug_\" + str(padded_img_size[0]) + \"x\" + str(padded_img_size[1]) + \".gz\"\n",
    "    else:\n",
    "        TEST_PATH = \"flat_mnist_test_\" + str(padded_img_size[0]) + \"x\" + str(padded_img_size[1]) + \".gz\"\n",
    "\n",
    "    test_data = load_train_data(TEST_PATH)\n",
    "\n",
    "else:    \n",
    "    if test_rot:\n",
    "        TEST_PATH = \"s2_mnist_cs1.gz\"\n",
    "        test_data = load_test_data(TEST_PATH)\n",
    "    else:\n",
    "        TEST_PATH = \"s2_mnist_test_sphere_center.gz\"\n",
    "        test_data = load_train_data(TEST_PATH)"
   ]
  },
  {
   "cell_type": "code",
   "execution_count": 5,
   "id": "46cd7f00",
   "metadata": {},
   "outputs": [],
   "source": [
    "# total = 10000\n",
    "bs = 100\n",
    "total = 100\n",
    "\n",
    "images = test_data[:total][0]\n",
    "labels = test_data[:total][1]\n",
    "\n",
    "fmodel = PyTorchModel(model, bounds=(0, 255))"
   ]
  },
  {
   "cell_type": "code",
   "execution_count": 6,
   "id": "e2f4d598",
   "metadata": {},
   "outputs": [
    {
     "data": {
      "application/vnd.jupyter.widget-view+json": {
       "model_id": "d5556b835f14442ebf7b8db2fecc3216",
       "version_major": 2,
       "version_minor": 0
      },
      "text/plain": [
       "  0%|          | 0/1 [00:00<?, ?it/s]"
      ]
     },
     "metadata": {},
     "output_type": "display_data"
    }
   ],
   "source": [
    "clean_pred = batched_predictions(model, images, bs)"
   ]
  },
  {
   "cell_type": "code",
   "execution_count": 7,
   "id": "67188afc",
   "metadata": {},
   "outputs": [],
   "source": [
    "attack = NewtonFoolAttack(steps=100, stepsize=30/255)"
   ]
  },
  {
   "cell_type": "code",
   "execution_count": 8,
   "id": "57e7d35a",
   "metadata": {},
   "outputs": [
    {
     "name": "stdout",
     "output_type": "stream",
     "text": [
      "tensor([ True,  True,  True, False,  True,  True, False,  True,  True,  True,\n",
      "        False, False, False, False,  True,  True,  True,  True,  True,  True,\n",
      "         True, False, False,  True,  True, False,  True,  True, False, False,\n",
      "        False,  True,  True,  True,  True,  True,  True,  True,  True,  True,\n",
      "         True,  True,  True,  True, False,  True,  True,  True, False,  True,\n",
      "        False, False,  True,  True, False, False,  True,  True,  True,  True,\n",
      "         True, False,  True, False,  True, False, False,  True, False, False,\n",
      "         True, False,  True, False,  True,  True, False,  True,  True,  True,\n",
      "         True, False,  True,  True, False,  True,  True, False, False,  True,\n",
      "         True, False, False, False,  True, False,  True,  True, False,  True],\n",
      "       device='cuda:0')\n"
     ]
    }
   ],
   "source": [
    "raw_advs, clipped_advs, success = attack(fmodel, images.cuda(), clean_pred[:100].cuda(), epsilons=0.)\n",
    "print(success)"
   ]
  },
  {
   "cell_type": "code",
   "execution_count": 9,
   "id": "6ef8cf8b",
   "metadata": {
    "scrolled": true
   },
   "outputs": [
    {
     "data": {
      "text/plain": [
       "tensor([[[[ nan,  nan,  nan,  ...,  nan,  nan,  nan],\n",
       "          [ nan,  nan,  nan,  ...,  nan,  nan,  nan],\n",
       "          [ nan,  nan,  nan,  ...,  nan,  nan,  nan],\n",
       "          ...,\n",
       "          [ nan,  nan,  nan,  ...,  nan,  nan,  nan],\n",
       "          [ nan,  nan,  nan,  ...,  nan,  nan,  nan],\n",
       "          [ nan,  nan,  nan,  ...,  nan,  nan,  nan]]],\n",
       "\n",
       "\n",
       "        [[[ nan,  nan,  nan,  ...,  nan,  nan,  nan],\n",
       "          [ nan,  nan,  nan,  ...,  nan,  nan,  nan],\n",
       "          [ nan,  nan,  nan,  ...,  nan,  nan,  nan],\n",
       "          ...,\n",
       "          [ nan,  nan,  nan,  ...,  nan,  nan,  nan],\n",
       "          [ nan,  nan,  nan,  ...,  nan,  nan,  nan],\n",
       "          [ nan,  nan,  nan,  ...,  nan,  nan,  nan]]],\n",
       "\n",
       "\n",
       "        [[[ nan,  nan,  nan,  ...,  nan,  nan,  nan],\n",
       "          [ nan,  nan,  nan,  ...,  nan,  nan,  nan],\n",
       "          [ nan,  nan,  nan,  ...,  nan,  nan,  nan],\n",
       "          ...,\n",
       "          [ nan,  nan,  nan,  ...,  nan,  nan,  nan],\n",
       "          [ nan,  nan,  nan,  ...,  nan,  nan,  nan],\n",
       "          [ nan,  nan,  nan,  ...,  nan,  nan,  nan]]],\n",
       "\n",
       "\n",
       "        ...,\n",
       "\n",
       "\n",
       "        [[[ nan,  nan,  nan,  ...,  nan,  nan,  nan],\n",
       "          [ nan,  nan,  nan,  ...,  nan,  nan,  nan],\n",
       "          [ nan,  nan,  nan,  ...,  nan,  nan,  nan],\n",
       "          ...,\n",
       "          [ nan,  nan,  nan,  ...,  nan,  nan,  nan],\n",
       "          [ nan,  nan,  nan,  ...,  nan,  nan,  nan],\n",
       "          [ nan,  nan,  nan,  ...,  nan,  nan,  nan]]],\n",
       "\n",
       "\n",
       "        [[[255., 255., 255.,  ..., 255.,   0.,   0.],\n",
       "          [  0., 255., 255.,  ..., 255.,   0.,   0.],\n",
       "          [255., 255., 255.,  ..., 255.,   0.,   0.],\n",
       "          ...,\n",
       "          [255.,   0.,   0.,  ..., 255., 255.,   0.],\n",
       "          [255., 255.,   0.,  ...,   0.,   0.,   0.],\n",
       "          [255., 255., 255.,  ...,   0.,   0.,   0.]]],\n",
       "\n",
       "\n",
       "        [[[ nan,  nan,  nan,  ...,  nan,  nan,  nan],\n",
       "          [ nan,  nan,  nan,  ...,  nan,  nan,  nan],\n",
       "          [ nan,  nan,  nan,  ...,  nan,  nan,  nan],\n",
       "          ...,\n",
       "          [ nan,  nan,  nan,  ...,  nan,  nan,  nan],\n",
       "          [ nan,  nan,  nan,  ...,  nan,  nan,  nan],\n",
       "          [ nan,  nan,  nan,  ...,  nan,  nan,  nan]]]], device='cuda:0')"
      ]
     },
     "execution_count": 9,
     "metadata": {},
     "output_type": "execute_result"
    }
   ],
   "source": [
    "raw_advs"
   ]
  },
  {
   "cell_type": "code",
   "execution_count": 72,
   "id": "630433c6",
   "metadata": {
    "scrolled": false
   },
   "outputs": [
    {
     "data": {
      "text/plain": [
       "tensor([[[[   nan,    nan,    nan,  ...,    nan,    nan,    nan],\n",
       "          [   nan,    nan,    nan,  ...,    nan,    nan,    nan],\n",
       "          [   nan,    nan,    nan,  ...,    nan,    nan,    nan],\n",
       "          ...,\n",
       "          [   nan,    nan,    nan,  ...,    nan,    nan,    nan],\n",
       "          [   nan,    nan,    nan,  ...,    nan,    nan,    nan],\n",
       "          [   nan,    nan,    nan,  ...,    nan,    nan,    nan]]],\n",
       "\n",
       "\n",
       "        [[[0.0054, 0.0054, 0.0054,  ..., 0.0054, 0.0054, 0.0000],\n",
       "          [0.0054, 0.0054, 0.0000,  ..., 0.0054, 0.0054, 0.0000],\n",
       "          [0.0054, 0.0000, 0.0000,  ..., 0.0054, 0.0054, 0.0000],\n",
       "          ...,\n",
       "          [0.0000, 0.0054, 0.0000,  ..., 0.0000, 0.0000, 0.0000],\n",
       "          [0.0000, 0.0000, 0.0000,  ..., 0.0000, 0.0000, 0.0000],\n",
       "          [0.0054, 0.0054, 0.0000,  ..., 0.0000, 0.0000, 0.0000]]],\n",
       "\n",
       "\n",
       "        [[[0.0000, 0.0000, 0.0000,  ..., 0.0000, 0.0000, 0.0050],\n",
       "          [0.0050, 0.0050, 0.0050,  ..., 0.0050, 0.0050, 0.0050],\n",
       "          [0.0050, 0.0050, 0.0050,  ..., 0.0000, 0.0050, 0.0050],\n",
       "          ...,\n",
       "          [0.0050, 0.0050, 0.0050,  ..., 0.0000, 0.0050, 0.0050],\n",
       "          [0.0050, 0.0050, 0.0050,  ..., 0.0000, 0.0000, 0.0000],\n",
       "          [0.0050, 0.0050, 0.0050,  ..., 0.0000, 0.0000, 0.0000]]],\n",
       "\n",
       "\n",
       "        [[[   nan,    nan,    nan,  ...,    nan,    nan,    nan],\n",
       "          [   nan,    nan,    nan,  ...,    nan,    nan,    nan],\n",
       "          [   nan,    nan,    nan,  ...,    nan,    nan,    nan],\n",
       "          ...,\n",
       "          [   nan,    nan,    nan,  ...,    nan,    nan,    nan],\n",
       "          [   nan,    nan,    nan,  ...,    nan,    nan,    nan],\n",
       "          [   nan,    nan,    nan,  ...,    nan,    nan,    nan]]],\n",
       "\n",
       "\n",
       "        [[[   nan,    nan,    nan,  ...,    nan,    nan,    nan],\n",
       "          [   nan,    nan,    nan,  ...,    nan,    nan,    nan],\n",
       "          [   nan,    nan,    nan,  ...,    nan,    nan,    nan],\n",
       "          ...,\n",
       "          [   nan,    nan,    nan,  ...,    nan,    nan,    nan],\n",
       "          [   nan,    nan,    nan,  ...,    nan,    nan,    nan],\n",
       "          [   nan,    nan,    nan,  ...,    nan,    nan,    nan]]]],\n",
       "       device='cuda:0')"
      ]
     },
     "execution_count": 72,
     "metadata": {},
     "output_type": "execute_result"
    }
   ],
   "source": [
    "clipped_advs[10:15]"
   ]
  },
  {
   "cell_type": "code",
   "execution_count": 10,
   "id": "2dc76d20",
   "metadata": {
    "scrolled": false
   },
   "outputs": [
    {
     "data": {
      "image/png": "[encoded data removed]",
      "text/plain": [
       "<Figure size 640x480 with 1 Axes>"
      ]
     },
     "metadata": {},
     "output_type": "display_data"
    },
    {
     "data": {
      "image/png": "[encoded data removed]",
      "text/plain": [
       "<Figure size 640x480 with 1 Axes>"
      ]
     },
     "metadata": {},
     "output_type": "display_data"
    }
   ],
   "source": [
    "plt.imshow(clipped_advs[-2,0].cpu(), cmap='gray')\n",
    "plt.show()\n",
    "plt.imshow(images[-2,0], cmap='gray')\n",
    "plt.show()"
   ]
  },
  {
   "cell_type": "code",
   "execution_count": 11,
   "id": "a6a9e567",
   "metadata": {},
   "outputs": [
    {
     "data": {
      "image/png": "[encoded data removed]",
      "text/plain": [
       "<Figure size 640x480 with 1 Axes>"
      ]
     },
     "metadata": {},
     "output_type": "display_data"
    }
   ],
   "source": [
    "plt.imshow(clipped_advs[-2,0].cpu() - images[-2,0], cmap='gray')\n",
    "plt.show()"
   ]
  },
  {
   "cell_type": "code",
   "execution_count": 12,
   "id": "e75733a2",
   "metadata": {},
   "outputs": [
    {
     "data": {
      "text/plain": [
       "False"
      ]
     },
     "execution_count": 12,
     "metadata": {},
     "output_type": "execute_result"
    }
   ],
   "source": [
    "success[-2].item()"
   ]
  },
  {
   "cell_type": "code",
   "execution_count": null,
   "id": "f7cb21d6",
   "metadata": {},
   "outputs": [],
   "source": []
  }
 ],
 "metadata": {
  "kernelspec": {
   "display_name": "Python 3 (ipykernel)",
   "language": "python",
   "name": "python3"
  },
  "language_info": {
   "codemirror_mode": {
    "name": "ipython",
    "version": 3
   },
   "file_extension": ".py",
   "mimetype": "text/x-python",
   "name": "python",
   "nbconvert_exporter": "python",
   "pygments_lexer": "ipython3",
   "version": "3.7.13"
  }
 },
 "nbformat": 4,
 "nbformat_minor": 5
}
